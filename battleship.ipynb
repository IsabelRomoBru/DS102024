{
 "cells": [
  {
   "cell_type": "markdown",
   "metadata": {},
   "source": [
    "Crea una versión simplificada del clásico juego \"Battleship\" utilizando Programación Orientada a Objetos (POO). El juego se desarrollará en la consola y consistirá en lo siguiente:\n",
    "\n",
    "Reglas del Juego:\n",
    "\n",
    "El tablero será de tamaño 10x10.\n",
    "\n",
    "Cada jugador tendrá 5 barcos de diferentes tamaños:\n",
    "\n",
    "1 portaaviones (tamaño 5)\n",
    "\n",
    "1 acorazado (tamaño 4)\n",
    "\n",
    "1 crucero (tamaño 3)\n",
    "\n",
    "1 submarino (tamaño 3)\n",
    "\n",
    "1 destructor (tamaño 2)\n",
    "\n",
    "Los barcos podrán colocarse tanto en posición horizontal como vertical.\n",
    "Durante el turno de un jugador, este deberá elegir una coordenada para atacar (fila y columna). Si acierta, el barco atacado recibirá un golpe. Si se destruyen todas las partes de un barco, este se considerará hundido.\n",
    "El juego termina cuando un jugador logra hundir todos los barcos del oponente."
   ]
  },
  {
   "cell_type": "markdown",
   "metadata": {},
   "source": [
    "Clase Tablero: Representará el tablero del jugador y el estado de sus barcos.\n",
    "\n",
    "Atributos:\n",
    "tablero: Matriz 10x10 que representará el tablero del jugador.\n",
    "barcos: Lista de objetos Barco colocados en el tablero.\n",
    "Métodos:\n",
    "colocar_barco(barco, posicion, orientacion): Coloca un barco en el tablero.\n",
    "recibir_ataque(fila, columna): Actualiza el estado del tablero tras recibir un ataque en las coordenadas indicadas y devuelve si fue un golpe o un fallo.\n",
    "mostrar_tablero(): Muestra el tablero en consola.\n",
    "todos_barcos_hundidos(): Verifica si todos los barcos han sido hundidos.\n",
    "Clase Barco: Representa un barco en el juego."
   ]
  },
  {
   "cell_type": "code",
   "execution_count": 2,
   "metadata": {},
   "outputs": [
    {
     "data": {
      "text/plain": [
       "[[10.0, 10.1, 10.2, 10.3, 10.4, 10.5, 10.6, 10.7, 10.8, 10.9, 10.1]]"
      ]
     },
     "execution_count": 2,
     "metadata": {},
     "output_type": "execute_result"
    }
   ],
   "source": [
    "#matriz= lista de listas\n",
    "#tablero\n",
    "[[(0.0),(0.1),(0.2),(0.3),(0.4),(0.5),(0.6),(0.7),(0.8),(0.9),(1.10)]]\n",
    "[[(1.0),(1.1),(1.2),(1.3),(1.4),(1.5),(1.6),(1.7),(1.8),(1.9),(1.10)]]\n",
    "[[(2.0),(2.1),(2.2),(2.3),(2.4),(2.5),(2.6),(2.7),(2.8),(2.9),(2.10)]]\n",
    "[[(3.0),(3.1),(3.2),(3.3),(3.4),(3.5),(3.6),(3.7),(3.8),(3.9),(3.10)]]\n",
    "[[(4.0),(4.1),(4.2),(4.3),(4.4),(4.5),(4.6),(4.7),(4.8),(4.9),(4.10)]]\n",
    "[[(5.0),(5.1),(5.2),(5.3),(5.4),(5.5),(5.6),(5.7),(5.8),(5.9),(5.10)]]\n",
    "[[(6.0),(6.1),(6.2),(6.3),(6.4),(6.5),(6.6),(6.7),(6.8),(6.9),(6.10)]]\n",
    "[[(7.0),(7.1),(7.2),(7.3),(7.4),(7.5),(7.6),(7.7),(7.8),(7.9),(7.10)]]\n",
    "[[(8.0),(8.1),(8.2),(8.3),(8.4),(8.5),(8.6),(8.7),(8.8),(8.9),(8.10)]]\n",
    "[[(9.0),(9.1),(9.2),(9.3),(9.4),(9.5),(9.6),(9.7),(9.8),(9.9),(9.10)]]\n",
    "[[(10.0),(10.1),(10.2),(10.3),(10.4),(10.5),(10.6),(10.7),(10.8),(10.9),(10.10)]]"
   ]
  },
  {
   "cell_type": "code",
   "execution_count": null,
   "metadata": {},
   "outputs": [],
   "source": [
    "[[(),(0.1),(0.2),(0.3),(0.4),(0.5),(0.6),(0.7),(0.8),(0.9),(1.10)]]\n",
    "[[(1.0),(1.1),(1.2),(1.3),(1.4),(1.5),(1.6),(1.7),(1.8),(1.9),(1.10)]]\n",
    "[[(2.0),(2.1),(2.2),(2.3),(2.4),(2.5),(2.6),(2.7),(2.8),(2.9),(2.10)]]\n",
    "[[(3.0),(3.1),(3.2),(3.3),(3.4),(3.5),(3.6),(3.7),(3.8),(3.9),(3.10)]]\n",
    "[[(4.0),(4.1),(4.2),(4.3),(4.4),(4.5),(4.6),(4.7),(4.8),(4.9),(4.10)]]\n",
    "[[(5.0),(5.1),(5.2),(5.3),(5.4),(5.5),(5.6),(5.7),(5.8),(5.9),(5.10)]]\n",
    "[[(6.0),(6.1),(6.2),(6.3),(6.4),(6.5),(6.6),(6.7),(6.8),(6.9),(6.10)]]\n",
    "[[(7.0),(7.1),(7.2),(7.3),(7.4),(7.5),(7.6),(7.7),(7.8),(7.9),(7.10)]]\n",
    "[[(8.0),(8.1),(8.2),(8.3),(8.4),(8.5),(8.6),(8.7),(8.8),(8.9),(8.10)]]\n",
    "[[(9.0),(9.1),(9.2),(9.3),(9.4),(9.5),(9.6),(9.7),(9.8),(9.9),(9.10)]]\n",
    "[[(10.0),(10.1),(10.2),(10.3),(10.4),(10.5),(10.6),(10.7),(10.8),(10.9),(10.10)]]"
   ]
  },
  {
   "cell_type": "code",
   "execution_count": 1,
   "metadata": {},
   "outputs": [],
   "source": [
    "class barco: #representa un barco en el juego\n",
    "    def __init__(self, nombre:str, tamano:float, posicion:list, golpes):\n",
    "        self.nombre= nombre\n",
    "        self.tamano= tamano\n",
    "        self.posicion= posicion\n",
    "        self.golpes=0\n",
    "    def recibir_golpe(self,posicion:list):\n",
    "        if posicion in self.posicion:\n",
    "            if self.tamano < self.golpes: \n",
    "                self.golpes+=1\n",
    "            print(f\"Golpe al barco {self.nombre}\")\n",
    "        else:\n",
    "            print(f\"Barco {self.nombre} ha sido hundido\")\n",
    "        \n",
    "    def esta_hundido(self):\n",
    "        return self.golpes>=self.tamano"
   ]
  },
  {
   "cell_type": "markdown",
   "metadata": {},
   "source": [
    "Método recibir_golpe(posicion):\n",
    "Comprueba si la posicion dada pertenece a self.posicion (es decir, si el golpe está en una de las posiciones del barco).\n",
    "Si el barco aún no ha recibido el número total de golpes (self.golpes < self.tamano), incrementa el contador de golpes.\n",
    "Si el barco ya está hundido (el contador de golpes alcanzó el tamaño del barco), muestra un mensaje que indica que el barco ya está hundido.\n",
    "Método esta_hundido():\n",
    "Devuelve True si el número de golpes es igual o superior al tamaño del barco, lo que indica que el barco está hundido.\n"
   ]
  },
  {
   "cell_type": "markdown",
   "metadata": {},
   "source": [
    "barcos[\"portaaviones\"=5,\n",
    "        \"acorazado\"=4,\n",
    "        \"crucero\"=3,\n",
    "        \"submarino\"=3, \n",
    "        \"destructor\"=2]"
   ]
  },
  {
   "cell_type": "code",
   "execution_count": 12,
   "metadata": {},
   "outputs": [
    {
     "name": "stdout",
     "output_type": "stream",
     "text": [
      "<class '__main__.tablero'>\n"
     ]
    }
   ],
   "source": [
    "import random\n",
    "class tablero:#tablero del jugador \n",
    "    def __init__(self):\n",
    "        self.tablero =  [[0 for _ in range(10)] for _ in range(10)]\n",
    "        self.barcos =[]\n",
    "    def colocar_barco(self,barcos, posicion, orientacion): # colocar barco en el tablero\n",
    "       fila,columna = posicion\n",
    "        if orientacion == \"h\":\n",
    "           if fila+ barco.tamano > 10:\n",
    "               return False\n",
    "                print(\"fuera de rango\")\n",
    "            if fila+barco.tamano==\"B\"\n",
    "                return False\n",
    "                print(\"rango ocupado\")\n",
    "            for i in range(barco.tamano):\n",
    "                self.tablero[fila][columna+i]!= \" B\":\n",
    "                barco.posicion.append((fila,columna+i))\n",
    "        else:\n",
    "               \n",
    "               \n",
    "               return False\n",
    "              \n",
    "           for i in range(barco.tamano):\n",
    "               if self.tablero[fila][columna+i]!= 0\n",
    "               elif self.tablero[fila][columna+i]==0:\n",
    "                   \n",
    "               \n",
    "     def recibir_ataque(self, fila:int, columna:int):  #ver si estan atacadas esas coordenadas \n",
    "       #no se si tengo que poner aqui un input fila= input y si hay que poner aqui el random\n",
    "        if self.tablero[fila][columna] ==[\"X\"] or [\"0\"]:\n",
    "            return False\n",
    "        #print(\"has fallado\")\n",
    "        elif self.tablero[fila][columna]==\"B\":\n",
    "                 self.tablero[fila][columna]=\"X\" #golpe\n",
    "                   return True\n",
    "        else: \n",
    "            self.tablero[fila][columna]=\"0\"\n",
    "             return False\n",
    "    def mostrar_tablero(self):\n",
    "     for fila in self.tablero:\n",
    "            print(\" \".join(str(celda) for celda in fila))\n",
    "    def todos_barcos_hundidos(self, barcos_hundidos=list()):\n",
    "        for barcos in self.barcos:\n",
    "            hundido= recibir_ataque(self.tablero[fila][columna] == \"X\" for celda, columna in barcos)\n",
    "            if hundido:\n",
    "                barcos_hundidos.append(barcos)\n",
    "\n",
    "    \n",
    "\n",
    "  \n",
    "    "
   ]
  },
  {
   "cell_type": "markdown",
   "metadata": {},
   "source": [
    "## explicacion mostrar tablero\n",
    "tablero es una lista de listas (una matriz) con 10 filas y 10 columnas, llena de ceros (0).\n",
    "El bucle for fila in tablero: recorre cada fila de la matriz.\n",
    "Dentro del bucle, print(\" \".join(str(celda) for celda in fila)) convierte cada elemento de la fila en una cadena y los une con un espacio (\" \"), lo que da un formato limpio en una línea.\n",
    "\n",
    "for fila in tablero: - Este bucle recorre cada fila de la matriz.\n",
    "Dentro del bucle, usamos print(...) para mostrar cada fila.\n",
    "\" \".join(str(celda) for celda in fila) - Esto convierte cada 0 en la fila a una cadena de texto (\"0\"), y luego los une con un espacio \" \". Esto hace que la fila se vea como 0 0 0 0 0 0 0 0 0 0, en lugar de [0, 0, 0, 0, 0, 0, 0, 0, 0, 0]"
   ]
  },
  {
   "cell_type": "code",
   "execution_count": 13,
   "metadata": {},
   "outputs": [
    {
     "ename": "_IncompleteInputError",
     "evalue": "incomplete input (1983331752.py, line 11)",
     "output_type": "error",
     "traceback": [
      "\u001b[0;36m  Cell \u001b[0;32mIn[13], line 11\u001b[0;36m\u001b[0m\n\u001b[0;31m    \u001b[0m\n\u001b[0m    ^\u001b[0m\n\u001b[0;31m_IncompleteInputError\u001b[0m\u001b[0;31m:\u001b[0m incomplete input\n"
     ]
    }
   ],
   "source": [
    "import random\n",
    "class jugador:\n",
    "    def __init__(self, nombre):\n",
    "        self.nombre= nombre\n",
    "        self.tablero= tablero()\n",
    "    def atacar(self,oponente, fila:float, columna:float): #Realiza un ataque a las coordenadas seleccionadas del tablero del oponente \n",
    "      resultado= oponente.tablero.recibir_ataque(fila, columna)  \n",
    "        \n",
    "    \n"
   ]
  },
  {
   "cell_type": "code",
   "execution_count": 18,
   "metadata": {},
   "outputs": [
    {
     "ename": "SyntaxError",
     "evalue": "expected ':' (3679557887.py, line 5)",
     "output_type": "error",
     "traceback": [
      "\u001b[0;36m  Cell \u001b[0;32mIn[18], line 5\u001b[0;36m\u001b[0m\n\u001b[0;31m    def turno(jugador)\u001b[0m\n\u001b[0m                      ^\u001b[0m\n\u001b[0;31mSyntaxError\u001b[0m\u001b[0;31m:\u001b[0m expected ':'\n"
     ]
    }
   ],
   "source": [
    "class juego:\n",
    "    def iniciar_juego(self):\n",
    "        print(\"Bienvenido al juego de Battleship!\")\n",
    "        jugador\n",
    "    def turno(jugador):"
   ]
  }
 ],
 "metadata": {
  "kernelspec": {
   "display_name": ".venv",
   "language": "python",
   "name": "python3"
  },
  "language_info": {
   "codemirror_mode": {
    "name": "ipython",
    "version": 3
   },
   "file_extension": ".py",
   "mimetype": "text/x-python",
   "name": "python",
   "nbconvert_exporter": "python",
   "pygments_lexer": "ipython3",
   "version": "3.11.7"
  }
 },
 "nbformat": 4,
 "nbformat_minor": 2
}
