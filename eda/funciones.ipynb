{
 "cells": [
  {
   "cell_type": "code",
   "execution_count": null,
   "metadata": {},
   "outputs": [],
   "source": [
    "def analisis_univariado(df,variable):\n",
    "    print(f'Variable: {variable}')\n",
    "    print(df[variable].describe())\n",
    "    print(f'Missing Values: {df[variable].isnull().sum()}')\n",
    "    print(f'Unique Values: {df[variable].nunique()}')\n",
    "    print(df[variable].value_counts())"
   ]
  }
 ],
 "metadata": {
  "language_info": {
   "name": "python"
  }
 },
 "nbformat": 4,
 "nbformat_minor": 2
}
