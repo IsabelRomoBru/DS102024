{
 "cells": [
  {
   "cell_type": "markdown",
   "metadata": {},
   "source": [
    "# Analisis de datos sobre IRIS \n",
    "![](data:image/jpeg;base64,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)"
   ]
  },
  {
   "cell_type": "markdown",
   "metadata": {},
   "source": [
    "Estos conjuntos de datos consisten en 3 tipos diferentes de iris Setosa,Versicolor y Virginica) con longitud de pétalos y sépalos.\n",
    "\n",
    "el conjunto de datos de la flor Iris o conjunto de datos del iris de Fisher es un conjunto de datos multivariante utilizado y hecho famoso por el estadisitico y biologo britanico ROnald Fischer en su articulo de 1936.\n",
    "El uso de mediciones multiples en problemas taxonómicos como ejemplo discriminante lineal "
   ]
  },
  {
   "cell_type": "markdown",
   "metadata": {},
   "source": [
    "|Nombre Variable| Rol|Tipo| Descripción| Unidades| Missing|\n",
    "|---|---|---|---|---|---|\n",
    "|Sepal lenght| Feature|  Continua|   longitud del sépalo| cm| no|\n",
    "|Sepal width|  Feature|  Continua|  anchura del sépalo | cm| no|\n",
    "|petal length| Feature|  Continua|  longitud del sépalo |cm| no|\n",
    "|petal width| Feature| Continua|  anchura del sépalo|cm| no|\n",
    "|class      | Target| Categorica| Clase iris: Iris setosa,Iris Versicolour o Iris Virginica|0,1,2|no|"
   ]
  },
  {
   "cell_type": "markdown",
   "metadata": {},
   "source": [
    "## Preparación y caga de datos"
   ]
  },
  {
   "cell_type": "markdown",
   "metadata": {},
   "source": [
    "### Librerías "
   ]
  },
  {
   "cell_type": "code",
   "execution_count": 1,
   "metadata": {},
   "outputs": [],
   "source": [
    "import numpy as np\n",
    "import pandas as pd\n",
    "import matplotlib.pyplot as plt\n",
    "import seaborn as sns\n",
    "from scipy import stats\n",
    "from sklearn.datasets import load_iris\n"
   ]
  },
  {
   "cell_type": "code",
   "execution_count": 6,
   "metadata": {},
   "outputs": [
    {
     "data": {
      "text/plain": [
       "dict_keys(['data', 'target', 'frame', 'target_names', 'DESCR', 'feature_names', 'filename', 'data_module'])"
      ]
     },
     "execution_count": 6,
     "metadata": {},
     "output_type": "execute_result"
    }
   ],
   "source": [
    "data=load_iris()\n",
    "data.keys()"
   ]
  },
  {
   "cell_type": "code",
   "execution_count": 15,
   "metadata": {},
   "outputs": [
    {
     "data": {
      "text/html": [
       "<div>\n",
       "<style scoped>\n",
       "    .dataframe tbody tr th:only-of-type {\n",
       "        vertical-align: middle;\n",
       "    }\n",
       "\n",
       "    .dataframe tbody tr th {\n",
       "        vertical-align: top;\n",
       "    }\n",
       "\n",
       "    .dataframe thead th {\n",
       "        text-align: right;\n",
       "    }\n",
       "</style>\n",
       "<table border=\"1\" class=\"dataframe\">\n",
       "  <thead>\n",
       "    <tr style=\"text-align: right;\">\n",
       "      <th></th>\n",
       "      <th>sepal length (cm)</th>\n",
       "      <th>sepal width (cm)</th>\n",
       "      <th>petal length (cm)</th>\n",
       "      <th>petal width (cm)</th>\n",
       "    </tr>\n",
       "  </thead>\n",
       "  <tbody>\n",
       "    <tr>\n",
       "      <th>0</th>\n",
       "      <td>5.1</td>\n",
       "      <td>3.5</td>\n",
       "      <td>1.4</td>\n",
       "      <td>0.2</td>\n",
       "    </tr>\n",
       "    <tr>\n",
       "      <th>1</th>\n",
       "      <td>4.9</td>\n",
       "      <td>3.0</td>\n",
       "      <td>1.4</td>\n",
       "      <td>0.2</td>\n",
       "    </tr>\n",
       "  </tbody>\n",
       "</table>\n",
       "</div>"
      ],
      "text/plain": [
       "   sepal length (cm)  sepal width (cm)  petal length (cm)  petal width (cm)\n",
       "0                5.1               3.5                1.4               0.2\n",
       "1                4.9               3.0                1.4               0.2"
      ]
     },
     "execution_count": 15,
     "metadata": {},
     "output_type": "execute_result"
    }
   ],
   "source": [
    "variables= pd.DataFrame(data['data'],columns=data['feature_names']) # data era una matriz y feature names era un array y los junta para crear un dataframe \n",
    "variables.head(2)"
   ]
  },
  {
   "cell_type": "code",
   "execution_count": 17,
   "metadata": {},
   "outputs": [
    {
     "data": {
      "text/html": [
       "<div>\n",
       "<style scoped>\n",
       "    .dataframe tbody tr th:only-of-type {\n",
       "        vertical-align: middle;\n",
       "    }\n",
       "\n",
       "    .dataframe tbody tr th {\n",
       "        vertical-align: top;\n",
       "    }\n",
       "\n",
       "    .dataframe thead th {\n",
       "        text-align: right;\n",
       "    }\n",
       "</style>\n",
       "<table border=\"1\" class=\"dataframe\">\n",
       "  <thead>\n",
       "    <tr style=\"text-align: right;\">\n",
       "      <th></th>\n",
       "      <th>sepal length (cm)</th>\n",
       "      <th>sepal width (cm)</th>\n",
       "      <th>petal length (cm)</th>\n",
       "      <th>petal width (cm)</th>\n",
       "      <th>clase</th>\n",
       "    </tr>\n",
       "  </thead>\n",
       "  <tbody>\n",
       "    <tr>\n",
       "      <th>0</th>\n",
       "      <td>5.1</td>\n",
       "      <td>3.5</td>\n",
       "      <td>1.4</td>\n",
       "      <td>0.2</td>\n",
       "      <td>0</td>\n",
       "    </tr>\n",
       "    <tr>\n",
       "      <th>1</th>\n",
       "      <td>4.9</td>\n",
       "      <td>3.0</td>\n",
       "      <td>1.4</td>\n",
       "      <td>0.2</td>\n",
       "      <td>0</td>\n",
       "    </tr>\n",
       "  </tbody>\n",
       "</table>\n",
       "</div>"
      ],
      "text/plain": [
       "   sepal length (cm)  sepal width (cm)  petal length (cm)  petal width (cm)  \\\n",
       "0                5.1               3.5                1.4               0.2   \n",
       "1                4.9               3.0                1.4               0.2   \n",
       "\n",
       "   clase  \n",
       "0      0  \n",
       "1      0  "
      ]
     },
     "execution_count": 17,
     "metadata": {},
     "output_type": "execute_result"
    }
   ],
   "source": [
    "#queremos unirlo a frame asi que hay que crear una columna llenandolo con target \n",
    "variables['clase']= data['target']\n",
    "variables.head(2)"
   ]
  },
  {
   "cell_type": "code",
   "execution_count": 28,
   "metadata": {},
   "outputs": [],
   "source": [
    "#queremos cambiar los nombres de 0 1 2 a el nombre del tipo de planta\n",
    "data['target_names']\n",
    "variables['clase'].replace({0:'setosa',1:'versicolor',2:'virginica'},inplace=True)\n",
    "variables\n",
    "# si tenemos muchisimos valores es mejor utilizar zip()\n",
    "#zip(range(len(data)['target_names'])),data['target_names']\n",
    "variables.to_parquet('iris.parquet',index=False) #para guardar los datos ya con las variables colocadas "
   ]
  },
  {
   "cell_type": "code",
   "execution_count": 27,
   "metadata": {},
   "outputs": [],
   "source": [
    "df=pd.read_parquet('iris.parquet') #cargarmos en dataframe y lo asignamos a una nueva variable "
   ]
  },
  {
   "cell_type": "markdown",
   "metadata": {},
   "source": [
    "### Verificación inicial "
   ]
  },
  {
   "cell_type": "code",
   "execution_count": 30,
   "metadata": {},
   "outputs": [
    {
     "data": {
      "text/html": [
       "<div>\n",
       "<style scoped>\n",
       "    .dataframe tbody tr th:only-of-type {\n",
       "        vertical-align: middle;\n",
       "    }\n",
       "\n",
       "    .dataframe tbody tr th {\n",
       "        vertical-align: top;\n",
       "    }\n",
       "\n",
       "    .dataframe thead th {\n",
       "        text-align: right;\n",
       "    }\n",
       "</style>\n",
       "<table border=\"1\" class=\"dataframe\">\n",
       "  <thead>\n",
       "    <tr style=\"text-align: right;\">\n",
       "      <th></th>\n",
       "      <th>sepal length (cm)</th>\n",
       "      <th>sepal width (cm)</th>\n",
       "      <th>petal length (cm)</th>\n",
       "      <th>petal width (cm)</th>\n",
       "      <th>clase</th>\n",
       "    </tr>\n",
       "  </thead>\n",
       "  <tbody>\n",
       "    <tr>\n",
       "      <th>0</th>\n",
       "      <td>5.1</td>\n",
       "      <td>3.5</td>\n",
       "      <td>1.4</td>\n",
       "      <td>0.2</td>\n",
       "      <td>setosa</td>\n",
       "    </tr>\n",
       "    <tr>\n",
       "      <th>1</th>\n",
       "      <td>4.9</td>\n",
       "      <td>3.0</td>\n",
       "      <td>1.4</td>\n",
       "      <td>0.2</td>\n",
       "      <td>setosa</td>\n",
       "    </tr>\n",
       "    <tr>\n",
       "      <th>2</th>\n",
       "      <td>4.7</td>\n",
       "      <td>3.2</td>\n",
       "      <td>1.3</td>\n",
       "      <td>0.2</td>\n",
       "      <td>setosa</td>\n",
       "    </tr>\n",
       "    <tr>\n",
       "      <th>3</th>\n",
       "      <td>4.6</td>\n",
       "      <td>3.1</td>\n",
       "      <td>1.5</td>\n",
       "      <td>0.2</td>\n",
       "      <td>setosa</td>\n",
       "    </tr>\n",
       "    <tr>\n",
       "      <th>4</th>\n",
       "      <td>5.0</td>\n",
       "      <td>3.6</td>\n",
       "      <td>1.4</td>\n",
       "      <td>0.2</td>\n",
       "      <td>setosa</td>\n",
       "    </tr>\n",
       "  </tbody>\n",
       "</table>\n",
       "</div>"
      ],
      "text/plain": [
       "   sepal length (cm)  sepal width (cm)  petal length (cm)  petal width (cm)  \\\n",
       "0                5.1               3.5                1.4               0.2   \n",
       "1                4.9               3.0                1.4               0.2   \n",
       "2                4.7               3.2                1.3               0.2   \n",
       "3                4.6               3.1                1.5               0.2   \n",
       "4                5.0               3.6                1.4               0.2   \n",
       "\n",
       "    clase  \n",
       "0  setosa  \n",
       "1  setosa  \n",
       "2  setosa  \n",
       "3  setosa  \n",
       "4  setosa  "
      ]
     },
     "execution_count": 30,
     "metadata": {},
     "output_type": "execute_result"
    }
   ],
   "source": [
    "df.head()"
   ]
  },
  {
   "cell_type": "code",
   "execution_count": 31,
   "metadata": {},
   "outputs": [
    {
     "name": "stdout",
     "output_type": "stream",
     "text": [
      "<class 'pandas.core.frame.DataFrame'>\n",
      "RangeIndex: 150 entries, 0 to 149\n",
      "Data columns (total 5 columns):\n",
      " #   Column             Non-Null Count  Dtype  \n",
      "---  ------             --------------  -----  \n",
      " 0   sepal length (cm)  150 non-null    float64\n",
      " 1   sepal width (cm)   150 non-null    float64\n",
      " 2   petal length (cm)  150 non-null    float64\n",
      " 3   petal width (cm)   150 non-null    float64\n",
      " 4   clase              150 non-null    object \n",
      "dtypes: float64(4), object(1)\n",
      "memory usage: 6.0+ KB\n"
     ]
    }
   ],
   "source": [
    "df.info()"
   ]
  },
  {
   "cell_type": "markdown",
   "metadata": {},
   "source": [
    "se observa que no presenta "
   ]
  },
  {
   "cell_type": "code",
   "execution_count": null,
   "metadata": {},
   "outputs": [],
   "source": [
    "df"
   ]
  }
 ],
 "metadata": {
  "kernelspec": {
   "display_name": ".venv",
   "language": "python",
   "name": "python3"
  },
  "language_info": {
   "codemirror_mode": {
    "name": "ipython",
    "version": 3
   },
   "file_extension": ".py",
   "mimetype": "text/x-python",
   "name": "python",
   "nbconvert_exporter": "python",
   "pygments_lexer": "ipython3",
   "version": "3.13.0"
  }
 },
 "nbformat": 4,
 "nbformat_minor": 2
}
