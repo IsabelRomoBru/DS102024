{
 "cells": [
  {
   "cell_type": "markdown",
   "metadata": {},
   "source": [
    "![](data:image/jpeg;base64,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)"
   ]
  },
  {
   "cell_type": "markdown",
   "metadata": {},
   "source": [
    "### PALMER PENGUINS"
   ]
  },
  {
   "cell_type": "markdown",
   "metadata": {},
   "source": [
    "Este conjunto de datos contiene información sobre tres especies de pingÜinos que habitan en la isla Palmer."
   ]
  },
  {
   "cell_type": "markdown",
   "metadata": {},
   "source": [
    "## Librerías"
   ]
  },
  {
   "cell_type": "code",
   "execution_count": 1,
   "metadata": {},
   "outputs": [],
   "source": [
    "#tratamiento de datos\n",
    "import numpy as np\n",
    "import pandas as pd\n",
    "#para graficos\n",
    "import matplotlib.pyplot as plt\n",
    "import seaborn as sns\n",
    "import plotly.graph_objects as go\n",
    "#Estadisticas\n",
    "import scipy"
   ]
  },
  {
   "cell_type": "markdown",
   "metadata": {},
   "source": [
    "## Carga de datos"
   ]
  },
  {
   "cell_type": "code",
   "execution_count": 4,
   "metadata": {},
   "outputs": [],
   "source": [
    "df=pd.read_csv('/Users/isaromobru/Desktop/DS102024_/2-DataAnalysis/10-EDA/penguins.csv')"
   ]
  },
  {
   "cell_type": "markdown",
   "metadata": {},
   "source": [
    "## Tratamiento de los datos"
   ]
  },
  {
   "cell_type": "code",
   "execution_count": 12,
   "metadata": {},
   "outputs": [
    {
     "data": {
      "text/html": [
       "<div>\n",
       "<style scoped>\n",
       "    .dataframe tbody tr th:only-of-type {\n",
       "        vertical-align: middle;\n",
       "    }\n",
       "\n",
       "    .dataframe tbody tr th {\n",
       "        vertical-align: top;\n",
       "    }\n",
       "\n",
       "    .dataframe thead th {\n",
       "        text-align: right;\n",
       "    }\n",
       "</style>\n",
       "<table border=\"1\" class=\"dataframe\">\n",
       "  <thead>\n",
       "    <tr style=\"text-align: right;\">\n",
       "      <th></th>\n",
       "      <th>rowid</th>\n",
       "      <th>species</th>\n",
       "      <th>island</th>\n",
       "      <th>bill_length_mm</th>\n",
       "      <th>bill_depth_mm</th>\n",
       "      <th>flipper_length_mm</th>\n",
       "      <th>body_mass_g</th>\n",
       "      <th>sex</th>\n",
       "      <th>year</th>\n",
       "    </tr>\n",
       "  </thead>\n",
       "  <tbody>\n",
       "    <tr>\n",
       "      <th>0</th>\n",
       "      <td>1</td>\n",
       "      <td>Adelie</td>\n",
       "      <td>Torgersen</td>\n",
       "      <td>39.1</td>\n",
       "      <td>18.7</td>\n",
       "      <td>181.0</td>\n",
       "      <td>3750.0</td>\n",
       "      <td>male</td>\n",
       "      <td>2007</td>\n",
       "    </tr>\n",
       "    <tr>\n",
       "      <th>1</th>\n",
       "      <td>2</td>\n",
       "      <td>Adelie</td>\n",
       "      <td>Torgersen</td>\n",
       "      <td>39.5</td>\n",
       "      <td>17.4</td>\n",
       "      <td>186.0</td>\n",
       "      <td>3800.0</td>\n",
       "      <td>female</td>\n",
       "      <td>2007</td>\n",
       "    </tr>\n",
       "    <tr>\n",
       "      <th>2</th>\n",
       "      <td>3</td>\n",
       "      <td>Adelie</td>\n",
       "      <td>Torgersen</td>\n",
       "      <td>40.3</td>\n",
       "      <td>18.0</td>\n",
       "      <td>195.0</td>\n",
       "      <td>3250.0</td>\n",
       "      <td>female</td>\n",
       "      <td>2007</td>\n",
       "    </tr>\n",
       "    <tr>\n",
       "      <th>3</th>\n",
       "      <td>4</td>\n",
       "      <td>Adelie</td>\n",
       "      <td>Torgersen</td>\n",
       "      <td>NaN</td>\n",
       "      <td>NaN</td>\n",
       "      <td>NaN</td>\n",
       "      <td>NaN</td>\n",
       "      <td>NaN</td>\n",
       "      <td>2007</td>\n",
       "    </tr>\n",
       "    <tr>\n",
       "      <th>4</th>\n",
       "      <td>5</td>\n",
       "      <td>Adelie</td>\n",
       "      <td>Torgersen</td>\n",
       "      <td>36.7</td>\n",
       "      <td>19.3</td>\n",
       "      <td>193.0</td>\n",
       "      <td>3450.0</td>\n",
       "      <td>female</td>\n",
       "      <td>2007</td>\n",
       "    </tr>\n",
       "  </tbody>\n",
       "</table>\n",
       "</div>"
      ],
      "text/plain": [
       "   rowid species     island  bill_length_mm  bill_depth_mm  flipper_length_mm  \\\n",
       "0      1  Adelie  Torgersen            39.1           18.7              181.0   \n",
       "1      2  Adelie  Torgersen            39.5           17.4              186.0   \n",
       "2      3  Adelie  Torgersen            40.3           18.0              195.0   \n",
       "3      4  Adelie  Torgersen             NaN            NaN                NaN   \n",
       "4      5  Adelie  Torgersen            36.7           19.3              193.0   \n",
       "\n",
       "   body_mass_g     sex  year  \n",
       "0       3750.0    male  2007  \n",
       "1       3800.0  female  2007  \n",
       "2       3250.0  female  2007  \n",
       "3          NaN     NaN  2007  \n",
       "4       3450.0  female  2007  "
      ]
     },
     "execution_count": 12,
     "metadata": {},
     "output_type": "execute_result"
    }
   ],
   "source": [
    "df.head()"
   ]
  },
  {
   "cell_type": "code",
   "execution_count": 5,
   "metadata": {},
   "outputs": [
    {
     "data": {
      "text/html": [
       "<div>\n",
       "<style scoped>\n",
       "    .dataframe tbody tr th:only-of-type {\n",
       "        vertical-align: middle;\n",
       "    }\n",
       "\n",
       "    .dataframe tbody tr th {\n",
       "        vertical-align: top;\n",
       "    }\n",
       "\n",
       "    .dataframe thead th {\n",
       "        text-align: right;\n",
       "    }\n",
       "</style>\n",
       "<table border=\"1\" class=\"dataframe\">\n",
       "  <thead>\n",
       "    <tr style=\"text-align: right;\">\n",
       "      <th></th>\n",
       "      <th>rowid</th>\n",
       "      <th>species</th>\n",
       "      <th>island</th>\n",
       "      <th>bill_length_mm</th>\n",
       "      <th>bill_depth_mm</th>\n",
       "      <th>flipper_length_mm</th>\n",
       "      <th>body_mass_g</th>\n",
       "      <th>sex</th>\n",
       "      <th>year</th>\n",
       "    </tr>\n",
       "  </thead>\n",
       "  <tbody>\n",
       "    <tr>\n",
       "      <th>339</th>\n",
       "      <td>340</td>\n",
       "      <td>Chinstrap</td>\n",
       "      <td>Dream</td>\n",
       "      <td>55.8</td>\n",
       "      <td>19.8</td>\n",
       "      <td>207.0</td>\n",
       "      <td>4000.0</td>\n",
       "      <td>male</td>\n",
       "      <td>2009</td>\n",
       "    </tr>\n",
       "    <tr>\n",
       "      <th>340</th>\n",
       "      <td>341</td>\n",
       "      <td>Chinstrap</td>\n",
       "      <td>Dream</td>\n",
       "      <td>43.5</td>\n",
       "      <td>18.1</td>\n",
       "      <td>202.0</td>\n",
       "      <td>3400.0</td>\n",
       "      <td>female</td>\n",
       "      <td>2009</td>\n",
       "    </tr>\n",
       "    <tr>\n",
       "      <th>341</th>\n",
       "      <td>342</td>\n",
       "      <td>Chinstrap</td>\n",
       "      <td>Dream</td>\n",
       "      <td>49.6</td>\n",
       "      <td>18.2</td>\n",
       "      <td>193.0</td>\n",
       "      <td>3775.0</td>\n",
       "      <td>male</td>\n",
       "      <td>2009</td>\n",
       "    </tr>\n",
       "    <tr>\n",
       "      <th>342</th>\n",
       "      <td>343</td>\n",
       "      <td>Chinstrap</td>\n",
       "      <td>Dream</td>\n",
       "      <td>50.8</td>\n",
       "      <td>19.0</td>\n",
       "      <td>210.0</td>\n",
       "      <td>4100.0</td>\n",
       "      <td>male</td>\n",
       "      <td>2009</td>\n",
       "    </tr>\n",
       "    <tr>\n",
       "      <th>343</th>\n",
       "      <td>344</td>\n",
       "      <td>Chinstrap</td>\n",
       "      <td>Dream</td>\n",
       "      <td>50.2</td>\n",
       "      <td>18.7</td>\n",
       "      <td>198.0</td>\n",
       "      <td>3775.0</td>\n",
       "      <td>female</td>\n",
       "      <td>2009</td>\n",
       "    </tr>\n",
       "  </tbody>\n",
       "</table>\n",
       "</div>"
      ],
      "text/plain": [
       "     rowid    species island  bill_length_mm  bill_depth_mm  \\\n",
       "339    340  Chinstrap  Dream            55.8           19.8   \n",
       "340    341  Chinstrap  Dream            43.5           18.1   \n",
       "341    342  Chinstrap  Dream            49.6           18.2   \n",
       "342    343  Chinstrap  Dream            50.8           19.0   \n",
       "343    344  Chinstrap  Dream            50.2           18.7   \n",
       "\n",
       "     flipper_length_mm  body_mass_g     sex  year  \n",
       "339              207.0       4000.0    male  2009  \n",
       "340              202.0       3400.0  female  2009  \n",
       "341              193.0       3775.0    male  2009  \n",
       "342              210.0       4100.0    male  2009  \n",
       "343              198.0       3775.0  female  2009  "
      ]
     },
     "execution_count": 5,
     "metadata": {},
     "output_type": "execute_result"
    }
   ],
   "source": [
    "df.tail()"
   ]
  },
  {
   "cell_type": "code",
   "execution_count": 8,
   "metadata": {},
   "outputs": [
    {
     "data": {
      "text/plain": [
       "<bound method DataFrame.info of      rowid    species     island  bill_length_mm  bill_depth_mm  \\\n",
       "0        1     Adelie  Torgersen            39.1           18.7   \n",
       "1        2     Adelie  Torgersen            39.5           17.4   \n",
       "2        3     Adelie  Torgersen            40.3           18.0   \n",
       "3        4     Adelie  Torgersen             NaN            NaN   \n",
       "4        5     Adelie  Torgersen            36.7           19.3   \n",
       "..     ...        ...        ...             ...            ...   \n",
       "339    340  Chinstrap      Dream            55.8           19.8   \n",
       "340    341  Chinstrap      Dream            43.5           18.1   \n",
       "341    342  Chinstrap      Dream            49.6           18.2   \n",
       "342    343  Chinstrap      Dream            50.8           19.0   \n",
       "343    344  Chinstrap      Dream            50.2           18.7   \n",
       "\n",
       "     flipper_length_mm  body_mass_g     sex  year  \n",
       "0                181.0       3750.0    male  2007  \n",
       "1                186.0       3800.0  female  2007  \n",
       "2                195.0       3250.0  female  2007  \n",
       "3                  NaN          NaN     NaN  2007  \n",
       "4                193.0       3450.0  female  2007  \n",
       "..                 ...          ...     ...   ...  \n",
       "339              207.0       4000.0    male  2009  \n",
       "340              202.0       3400.0  female  2009  \n",
       "341              193.0       3775.0    male  2009  \n",
       "342              210.0       4100.0    male  2009  \n",
       "343              198.0       3775.0  female  2009  \n",
       "\n",
       "[344 rows x 9 columns]>"
      ]
     },
     "execution_count": 8,
     "metadata": {},
     "output_type": "execute_result"
    }
   ],
   "source": [
    "df.info"
   ]
  },
  {
   "cell_type": "code",
   "execution_count": 6,
   "metadata": {},
   "outputs": [
    {
     "data": {
      "text/plain": [
       "(344, 9)"
      ]
     },
     "execution_count": 6,
     "metadata": {},
     "output_type": "execute_result"
    }
   ],
   "source": [
    "df.shape"
   ]
  },
  {
   "cell_type": "code",
   "execution_count": 11,
   "metadata": {},
   "outputs": [
    {
     "data": {
      "text/plain": [
       "rowid                 0\n",
       "species               0\n",
       "island                0\n",
       "bill_length_mm        2\n",
       "bill_depth_mm         2\n",
       "flipper_length_mm     2\n",
       "body_mass_g           2\n",
       "sex                  11\n",
       "year                  0\n",
       "dtype: int64"
      ]
     },
     "execution_count": 11,
     "metadata": {},
     "output_type": "execute_result"
    }
   ],
   "source": [
    "df.isnull().sum()"
   ]
  },
  {
   "cell_type": "code",
   "execution_count": 15,
   "metadata": {},
   "outputs": [
    {
     "data": {
      "text/html": [
       "<div>\n",
       "<style scoped>\n",
       "    .dataframe tbody tr th:only-of-type {\n",
       "        vertical-align: middle;\n",
       "    }\n",
       "\n",
       "    .dataframe tbody tr th {\n",
       "        vertical-align: top;\n",
       "    }\n",
       "\n",
       "    .dataframe thead th {\n",
       "        text-align: right;\n",
       "    }\n",
       "</style>\n",
       "<table border=\"1\" class=\"dataframe\">\n",
       "  <thead>\n",
       "    <tr style=\"text-align: right;\">\n",
       "      <th></th>\n",
       "      <th>rowid</th>\n",
       "      <th>species</th>\n",
       "      <th>island</th>\n",
       "      <th>bill_length_mm</th>\n",
       "      <th>bill_depth_mm</th>\n",
       "      <th>flipper_length_mm</th>\n",
       "      <th>body_mass_g</th>\n",
       "      <th>sex</th>\n",
       "      <th>year</th>\n",
       "    </tr>\n",
       "  </thead>\n",
       "  <tbody>\n",
       "    <tr>\n",
       "      <th>count</th>\n",
       "      <td>344.000000</td>\n",
       "      <td>344</td>\n",
       "      <td>344</td>\n",
       "      <td>342.000000</td>\n",
       "      <td>342.000000</td>\n",
       "      <td>342.000000</td>\n",
       "      <td>342.000000</td>\n",
       "      <td>333</td>\n",
       "      <td>344.000000</td>\n",
       "    </tr>\n",
       "    <tr>\n",
       "      <th>unique</th>\n",
       "      <td>NaN</td>\n",
       "      <td>3</td>\n",
       "      <td>3</td>\n",
       "      <td>NaN</td>\n",
       "      <td>NaN</td>\n",
       "      <td>NaN</td>\n",
       "      <td>NaN</td>\n",
       "      <td>2</td>\n",
       "      <td>NaN</td>\n",
       "    </tr>\n",
       "    <tr>\n",
       "      <th>top</th>\n",
       "      <td>NaN</td>\n",
       "      <td>Adelie</td>\n",
       "      <td>Biscoe</td>\n",
       "      <td>NaN</td>\n",
       "      <td>NaN</td>\n",
       "      <td>NaN</td>\n",
       "      <td>NaN</td>\n",
       "      <td>male</td>\n",
       "      <td>NaN</td>\n",
       "    </tr>\n",
       "    <tr>\n",
       "      <th>freq</th>\n",
       "      <td>NaN</td>\n",
       "      <td>152</td>\n",
       "      <td>168</td>\n",
       "      <td>NaN</td>\n",
       "      <td>NaN</td>\n",
       "      <td>NaN</td>\n",
       "      <td>NaN</td>\n",
       "      <td>168</td>\n",
       "      <td>NaN</td>\n",
       "    </tr>\n",
       "    <tr>\n",
       "      <th>mean</th>\n",
       "      <td>172.500000</td>\n",
       "      <td>NaN</td>\n",
       "      <td>NaN</td>\n",
       "      <td>43.921930</td>\n",
       "      <td>17.151170</td>\n",
       "      <td>200.915205</td>\n",
       "      <td>4201.754386</td>\n",
       "      <td>NaN</td>\n",
       "      <td>2008.029070</td>\n",
       "    </tr>\n",
       "    <tr>\n",
       "      <th>std</th>\n",
       "      <td>99.448479</td>\n",
       "      <td>NaN</td>\n",
       "      <td>NaN</td>\n",
       "      <td>5.459584</td>\n",
       "      <td>1.974793</td>\n",
       "      <td>14.061714</td>\n",
       "      <td>801.954536</td>\n",
       "      <td>NaN</td>\n",
       "      <td>0.818356</td>\n",
       "    </tr>\n",
       "    <tr>\n",
       "      <th>min</th>\n",
       "      <td>1.000000</td>\n",
       "      <td>NaN</td>\n",
       "      <td>NaN</td>\n",
       "      <td>32.100000</td>\n",
       "      <td>13.100000</td>\n",
       "      <td>172.000000</td>\n",
       "      <td>2700.000000</td>\n",
       "      <td>NaN</td>\n",
       "      <td>2007.000000</td>\n",
       "    </tr>\n",
       "    <tr>\n",
       "      <th>25%</th>\n",
       "      <td>86.750000</td>\n",
       "      <td>NaN</td>\n",
       "      <td>NaN</td>\n",
       "      <td>39.225000</td>\n",
       "      <td>15.600000</td>\n",
       "      <td>190.000000</td>\n",
       "      <td>3550.000000</td>\n",
       "      <td>NaN</td>\n",
       "      <td>2007.000000</td>\n",
       "    </tr>\n",
       "    <tr>\n",
       "      <th>50%</th>\n",
       "      <td>172.500000</td>\n",
       "      <td>NaN</td>\n",
       "      <td>NaN</td>\n",
       "      <td>44.450000</td>\n",
       "      <td>17.300000</td>\n",
       "      <td>197.000000</td>\n",
       "      <td>4050.000000</td>\n",
       "      <td>NaN</td>\n",
       "      <td>2008.000000</td>\n",
       "    </tr>\n",
       "    <tr>\n",
       "      <th>75%</th>\n",
       "      <td>258.250000</td>\n",
       "      <td>NaN</td>\n",
       "      <td>NaN</td>\n",
       "      <td>48.500000</td>\n",
       "      <td>18.700000</td>\n",
       "      <td>213.000000</td>\n",
       "      <td>4750.000000</td>\n",
       "      <td>NaN</td>\n",
       "      <td>2009.000000</td>\n",
       "    </tr>\n",
       "    <tr>\n",
       "      <th>max</th>\n",
       "      <td>344.000000</td>\n",
       "      <td>NaN</td>\n",
       "      <td>NaN</td>\n",
       "      <td>59.600000</td>\n",
       "      <td>21.500000</td>\n",
       "      <td>231.000000</td>\n",
       "      <td>6300.000000</td>\n",
       "      <td>NaN</td>\n",
       "      <td>2009.000000</td>\n",
       "    </tr>\n",
       "  </tbody>\n",
       "</table>\n",
       "</div>"
      ],
      "text/plain": [
       "             rowid species  island  bill_length_mm  bill_depth_mm  \\\n",
       "count   344.000000     344     344      342.000000     342.000000   \n",
       "unique         NaN       3       3             NaN            NaN   \n",
       "top            NaN  Adelie  Biscoe             NaN            NaN   \n",
       "freq           NaN     152     168             NaN            NaN   \n",
       "mean    172.500000     NaN     NaN       43.921930      17.151170   \n",
       "std      99.448479     NaN     NaN        5.459584       1.974793   \n",
       "min       1.000000     NaN     NaN       32.100000      13.100000   \n",
       "25%      86.750000     NaN     NaN       39.225000      15.600000   \n",
       "50%     172.500000     NaN     NaN       44.450000      17.300000   \n",
       "75%     258.250000     NaN     NaN       48.500000      18.700000   \n",
       "max     344.000000     NaN     NaN       59.600000      21.500000   \n",
       "\n",
       "        flipper_length_mm  body_mass_g   sex         year  \n",
       "count          342.000000   342.000000   333   344.000000  \n",
       "unique                NaN          NaN     2          NaN  \n",
       "top                   NaN          NaN  male          NaN  \n",
       "freq                  NaN          NaN   168          NaN  \n",
       "mean           200.915205  4201.754386   NaN  2008.029070  \n",
       "std             14.061714   801.954536   NaN     0.818356  \n",
       "min            172.000000  2700.000000   NaN  2007.000000  \n",
       "25%            190.000000  3550.000000   NaN  2007.000000  \n",
       "50%            197.000000  4050.000000   NaN  2008.000000  \n",
       "75%            213.000000  4750.000000   NaN  2009.000000  \n",
       "max            231.000000  6300.000000   NaN  2009.000000  "
      ]
     },
     "execution_count": 15,
     "metadata": {},
     "output_type": "execute_result"
    }
   ],
   "source": [
    "df.describe(include='all')"
   ]
  },
  {
   "cell_type": "code",
   "execution_count": 17,
   "metadata": {},
   "outputs": [
    {
     "name": "stdout",
     "output_type": "stream",
     "text": [
      "['Adelie' 'Gentoo' 'Chinstrap']\n",
      "['Torgersen' 'Biscoe' 'Dream']\n",
      "['male' 'female' nan]\n"
     ]
    }
   ],
   "source": [
    "\n",
    "print(df['species'].unique())\n",
    "print(df['island'].unique())\n",
    "print(df['sex'].unique())"
   ]
  },
  {
   "cell_type": "markdown",
   "metadata": {},
   "source": [
    "### Conclusiones"
   ]
  },
  {
   "cell_type": "markdown",
   "metadata": {},
   "source": [
    "Se puede observar que los datos están compuestos por 344 filas y 9 columnas de las cuales `rowid`carece de importancia ya que es un índice. "
   ]
  },
  {
   "cell_type": "markdown",
   "metadata": {},
   "source": [
    "Las otras columnas son: \n",
    "|Variable|Descripción|\n",
    "|---|---|\n",
    "|Especie (species)| Adelie, Chinstrap, Gentoo.|\n",
    "|Isla (island)| Biscoe, Dream, Torgersen.|\n",
    "|Longitud del pico (bill_length_mm)| medida en milímetros.|\n",
    "|Profundidad del pico (bill_depth_mm)| medida en milímetros.|\n",
    "|Longitud de la aleta (flipper_length_mm)| medida en milímetros.|\n",
    "|Masa corporal (body_mass_g)| medida en gramos.|\n",
    "|Género (sex)| Macho o Hembra.|\n",
    "|Año (year)| Año en que se recolectaron los datos.|"
   ]
  },
  {
   "cell_type": "markdown",
   "metadata": {},
   "source": [
    "## Análisis Exploratorio de datos (EDA)"
   ]
  },
  {
   "cell_type": "markdown",
   "metadata": {},
   "source": [
    "### Análisis Univariado"
   ]
  },
  {
   "cell_type": "code",
   "execution_count": 20,
   "metadata": {},
   "outputs": [],
   "source": [
    "#hacer las funciones para el analisis univariante: \n",
    "#creaty_summary_table(cardinalidad,valores faltantes,)\n",
    "\n",
    "   \n"
   ]
  },
  {
   "cell_type": "code",
   "execution_count": null,
   "metadata": {},
   "outputs": [],
   "source": []
  },
  {
   "cell_type": "markdown",
   "metadata": {},
   "source": []
  }
 ],
 "metadata": {
  "kernelspec": {
   "display_name": ".venv",
   "language": "python",
   "name": "python3"
  },
  "language_info": {
   "codemirror_mode": {
    "name": "ipython",
    "version": 3
   },
   "file_extension": ".py",
   "mimetype": "text/x-python",
   "name": "python",
   "nbconvert_exporter": "python",
   "pygments_lexer": "ipython3",
   "version": "3.13.0"
  }
 },
 "nbformat": 4,
 "nbformat_minor": 2
}
