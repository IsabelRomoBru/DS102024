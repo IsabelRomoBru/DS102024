{
 "cells": [
  {
   "cell_type": "markdown",
   "metadata": {},
   "source": [
    "# Agregaciones: Mínimo, máximo..."
   ]
  },
  {
   "cell_type": "markdown",
   "metadata": {},
   "source": [
    "A menudo, cuando nos enfrentamos a una gran cantidad de datos, un primer paso es calcular los estadísticos de resumen de los datos en cuestión.\n",
    "Quizá los estadísticos de resumen más comunes sean la media y la desviación típica, que permiten resumir los valores \"típicos\" de un conjunto de datos, pero también son útiles otros agregados (la suma, el producto, la mediana, el mínimo y el máximo, los cuantiles, etc.).\n",
    "\n",
    "NumPy incorpora funciones de agregación rápidas para trabajar con matrices."
   ]
  },
  {
   "cell_type": "markdown",
   "metadata": {},
   "source": [
    "## Suma de los valores de una matriz\n",
    "\n",
    "Como ejemplo rápido, considere la posibilidad de calcular la suma de todos los valores de una matriz.\n",
    "Python puede hacerlo usando la función ``sum``:"
   ]
  },
  {
   "cell_type": "code",
   "execution_count": 1,
   "metadata": {
    "collapsed": false
   },
   "outputs": [],
   "source": [
    "import numpy as np"
   ]
  },
  {
   "cell_type": "code",
   "execution_count": 2,
   "metadata": {
    "collapsed": false
   },
   "outputs": [
    {
     "data": {
      "text/plain": [
       "np.float64(47.68131989309859)"
      ]
     },
     "execution_count": 2,
     "metadata": {},
     "output_type": "execute_result"
    }
   ],
   "source": [
    "L = np.random.random(100)\n",
    "sum(L)"
   ]
  },
  {
   "cell_type": "markdown",
   "metadata": {},
   "source": [
    "La sintaxis es bastante similar a la de la función ``suma`` de NumPy, y el resultado es el mismo en el caso más simple:"
   ]
  },
  {
   "cell_type": "code",
   "execution_count": 3,
   "metadata": {
    "collapsed": false
   },
   "outputs": [
    {
     "data": {
      "text/plain": [
       "np.float64(47.68131989309858)"
      ]
     },
     "execution_count": 3,
     "metadata": {},
     "output_type": "execute_result"
    }
   ],
   "source": [
    "np.sum(L)"
   ]
  },
  {
   "cell_type": "markdown",
   "metadata": {},
   "source": [
    "Sin embargo, como ejecuta la operación en código compilado, la versión de NumPy de la operación se calcula mucho más rápidamente:"
   ]
  },
  {
   "cell_type": "code",
   "execution_count": 4,
   "metadata": {
    "collapsed": false
   },
   "outputs": [
    {
     "name": "stdout",
     "output_type": "stream",
     "text": [
      "76.2 ms ± 3.94 ms per loop (mean ± std. dev. of 7 runs, 10 loops each)\n",
      "600 μs ± 67.3 μs per loop (mean ± std. dev. of 7 runs, 1,000 loops each)\n"
     ]
    }
   ],
   "source": [
    "big_array = np.random.rand(1000000)\n",
    "%timeit sum(big_array)\n",
    "%timeit np.sum(big_array)"
   ]
  },
  {
   "cell_type": "markdown",
   "metadata": {},
   "source": [
    "Pero cuidado: la función ``sum`` y la función ``np.sum`` no son idénticas, ¡lo que a veces puede llevar a confusión!\n",
    "En concreto, sus argumentos opcionales tienen significados distintos, y ``np.sum`` tiene en cuenta las dimensiones múltiples de las matrices."
   ]
  },
  {
   "cell_type": "markdown",
   "metadata": {},
   "source": [
    "## Mínimo y Máximo\n",
    "\n",
    "De forma similar, Python tiene incorporadas las funciones ``min`` y ``max``, usadas para encontrar el valor mínimo y el valor máximo de cualquier array dado:"
   ]
  },
  {
   "cell_type": "code",
   "execution_count": 5,
   "metadata": {
    "collapsed": false
   },
   "outputs": [
    {
     "data": {
      "text/plain": [
       "(np.float64(1.759156114111704e-07), np.float64(0.999999565240816))"
      ]
     },
     "execution_count": 5,
     "metadata": {},
     "output_type": "execute_result"
    }
   ],
   "source": [
    "min(big_array), max(big_array)"
   ]
  },
  {
   "cell_type": "markdown",
   "metadata": {},
   "source": [
    "Las funciones correspondientes de NumPy tienen una sintaxis similar y, de nuevo, funcionan mucho más rápidamente:"
   ]
  },
  {
   "cell_type": "code",
   "execution_count": 6,
   "metadata": {
    "collapsed": false
   },
   "outputs": [
    {
     "data": {
      "text/plain": [
       "(np.float64(1.759156114111704e-07), np.float64(0.999999565240816))"
      ]
     },
     "execution_count": 6,
     "metadata": {},
     "output_type": "execute_result"
    }
   ],
   "source": [
    "np.min(big_array), np.max(big_array)"
   ]
  },
  {
   "cell_type": "code",
   "execution_count": 7,
   "metadata": {
    "collapsed": false
   },
   "outputs": [
    {
     "name": "stdout",
     "output_type": "stream",
     "text": [
      "56.7 ms ± 3.99 ms per loop (mean ± std. dev. of 7 runs, 10 loops each)\n",
      "388 μs ± 32.1 μs per loop (mean ± std. dev. of 7 runs, 1,000 loops each)\n"
     ]
    }
   ],
   "source": [
    "%timeit min(big_array)\n",
    "%timeit np.min(big_array)"
   ]
  },
  {
   "cell_type": "markdown",
   "metadata": {},
   "source": [
    "Para ``min``, ``max``, ``sum``, y otros agregados de NumPy, una sintaxis más corta es utilizar métodos del propio objeto array:"
   ]
  },
  {
   "cell_type": "code",
   "execution_count": 8,
   "metadata": {
    "collapsed": false
   },
   "outputs": [
    {
     "name": "stdout",
     "output_type": "stream",
     "text": [
      "1.759156114111704e-07 0.999999565240816 500125.8926493527\n"
     ]
    }
   ],
   "source": [
    "print(big_array.min(), big_array.max(), big_array.sum())"
   ]
  },
  {
   "cell_type": "markdown",
   "metadata": {},
   "source": [
    "Siempre que sea posible, asegúrese de que utiliza la versión NumPy de estos agregados cuando opere con matrices NumPy."
   ]
  },
  {
   "cell_type": "markdown",
   "metadata": {},
   "source": [
    "### Agregados multidimensionales\n",
    "\n",
    "Un tipo común de operación de agregación es la agregación a lo largo de una fila o columna.\n",
    "Digamos que tiene algunos datos almacenados en una matriz bidimensional:"
   ]
  },
  {
   "cell_type": "code",
   "execution_count": 9,
   "metadata": {
    "collapsed": false
   },
   "outputs": [
    {
     "name": "stdout",
     "output_type": "stream",
     "text": [
      "[[0.09600063 0.30017612 0.65049818 0.57230266]\n",
      " [0.22149132 0.34017329 0.33326792 0.08015424]\n",
      " [0.21394715 0.716851   0.99306652 0.43191974]]\n"
     ]
    }
   ],
   "source": [
    "M = np.random.random((3, 4))\n",
    "print(M)"
   ]
  },
  {
   "cell_type": "markdown",
   "metadata": {},
   "source": [
    "Por defecto, cada función de agregación NumPy devolverá el agregado sobre toda la matriz:"
   ]
  },
  {
   "cell_type": "code",
   "execution_count": 10,
   "metadata": {
    "collapsed": false
   },
   "outputs": [
    {
     "data": {
      "text/plain": [
       "np.float64(4.949848784631909)"
      ]
     },
     "execution_count": 10,
     "metadata": {},
     "output_type": "execute_result"
    }
   ],
   "source": [
    "M.sum()"
   ]
  },
  {
   "cell_type": "markdown",
   "metadata": {},
   "source": [
    "Las funciones de agregación toman un argumento adicional que especifica el *eje* a lo largo del cual se calcula la agregación. Por ejemplo, podemos encontrar el valor mínimo dentro de cada columna especificando ``axis=0``:"
   ]
  },
  {
   "cell_type": "code",
   "execution_count": 11,
   "metadata": {
    "collapsed": false
   },
   "outputs": [
    {
     "data": {
      "text/plain": [
       "array([0.09600063, 0.30017612, 0.33326792, 0.08015424])"
      ]
     },
     "execution_count": 11,
     "metadata": {},
     "output_type": "execute_result"
    }
   ],
   "source": [
    "M.min(axis=0)"
   ]
  },
  {
   "cell_type": "markdown",
   "metadata": {},
   "source": [
    "La función devuelve cuatro valores, correspondientes a las cuatro columnas de números.\n",
    "\n",
    "Del mismo modo, podemos encontrar el valor máximo dentro de cada fila:"
   ]
  },
  {
   "cell_type": "code",
   "execution_count": null,
   "metadata": {
    "collapsed": false
   },
   "outputs": [],
   "source": [
    "M.max(axis=1)"
   ]
  },
  {
   "cell_type": "markdown",
   "metadata": {},
   "source": [
    "La forma en que se especifica el eje aquí puede ser confusa para los usuarios que vienen de otros lenguajes.\n",
    "La palabra clave ``axis`` especifica la *dimensión del array que será colapsada*, en lugar de la dimensión que será devuelta.\n",
    "Así que especificar ``axis=0`` significa que el primer eje será colapsado: para arrays bidimensionales, esto significa que los valores dentro de cada columna serán agregados."
   ]
  },
  {
   "cell_type": "markdown",
   "metadata": {},
   "source": [
    "### Otras funciones de agregación\n",
    "\n",
    "NumPy proporciona muchas otras funciones de agregación, pero no las discutiremos en detalle aquí.\n",
    "Además, la mayoría de los agregados tienen una contrapartida segura ``NaN`` que calcula el resultado ignorando los valores que faltan, que se marcan con el valor especial de coma flotante IEEE ``NaN`` para un análisis más completo de los datos que faltan.\n",
    "\n",
    "La siguiente tabla proporciona una lista de funciones de agregación útiles disponibles en NumPy:\n",
    "\n",
    "|Nombre de la función      |   Versión a prueba de NaN  | Descripción                                   |\n",
    "|-------------------|---------------------|-----------------------------------------------|\n",
    "| ``np.sum``        | ``np.nansum``       | Calcular la suma de elementos                       |\n",
    "| ``np.prod``       | ``np.nanprod``      | Calcular producto de elementos                   |\n",
    "| ``np.mean``       | ``np.nanmean``      | Calcular la media de los elementos                      |\n",
    "| ``np.std``        | ``np.nanstd``       | Calcular la desviación típica                    |\n",
    "| ``np.var``        | ``np.nanvar``       | Calcular la varianza                              |\n",
    "| ``np.min``        | ``np.nanmin``       | Encontrar el valor mínimo  |\n",
    "| ``np.max``        | ``np.nanmax``       | Encontrar el valor máximo    |\n",
    "| ``np.argmin``     | ``np.nanargmin``    | Encontrar el índice del valor mínimo            |\n",
    "| ``np.argmax``     | ``np.nanargmax``    | Encontrar el índice del valor máximo        |\n",
    "| ``np.median``     | ``np.nanmedian``    | Calcular la mediana de los elementos            |\n",
    "| ``np.percentile`` | ``np.nanpercentile``| Calcular las estadísticas por rango de los elementos|\n",
    "| ``np.any``        | N/A                 | Evaluar si algún elemento es verdadero  |\n",
    "| ``np.all``        | N/A                 | Evaluar si todos los elementos son verdaderos    |"
   ]
  },
  {
   "cell_type": "markdown",
   "metadata": {},
   "source": [
    "## Ejemplo: ¿Cuál es la estatura media de los presidentes de EE.UU.?"
   ]
  },
  {
   "cell_type": "markdown",
   "metadata": {},
   "source": [
    "Los agregados disponibles en NumPy pueden ser extremadamente útiles para resumir un conjunto de valores.\n",
    "Como ejemplo sencillo, consideremos las alturas de todos los presidentes de Estados Unidos.\n",
    "Estos datos están disponibles en el archivo *president_heights.csv*, que es una simple lista separada por comas de etiquetas y valores:"
   ]
  },
  {
   "cell_type": "code",
   "execution_count": null,
   "metadata": {
    "collapsed": false,
    "vscode": {
     "languageId": "powershell"
    }
   },
   "outputs": [],
   "source": [
    "# macOS\n",
    "!head -4 data/president_heights.csv"
   ]
  },
  {
   "cell_type": "code",
   "execution_count": null,
   "metadata": {
    "vscode": {
     "languageId": "powershell"
    }
   },
   "outputs": [],
   "source": [
    "# Windows\n",
    "!powershell -Command \"Get-Content data/president_heights.csv | Select-Object -First 4\""
   ]
  },
  {
   "cell_type": "markdown",
   "metadata": {},
   "source": [
    "Utilizaremos el paquete Pandas (que exploraremos más a fondo próximamente), para leer el fichero y extraer esta información (nótese que las alturas se miden en centímetros)."
   ]
  },
  {
   "cell_type": "code",
   "execution_count": 7,
   "metadata": {
    "collapsed": false
   },
   "outputs": [
    {
     "name": "stdout",
     "output_type": "stream",
     "text": [
      "[189 170 189 163 183 171 185 168 173 183 173 173 175 178 183 193 178 173\n",
      " 174 183 183 168 170 178 182 180 183 178 182 188 175 179 183 193 182 183\n",
      " 177 185 188 188 182 185]\n"
     ]
    }
   ],
   "source": [
    "import pandas as pd\n",
    "data = pd.read_csv('data/president_heights.csv')\n",
    "heights = np.array(data['height(cm)'])\n",
    "print(heights)"
   ]
  },
  {
   "cell_type": "markdown",
   "metadata": {},
   "source": [
    "Ahora que tenemos esta matriz de datos, podemos calcular una serie de estadísticas de resumen:"
   ]
  },
  {
   "cell_type": "code",
   "execution_count": 8,
   "metadata": {
    "collapsed": false
   },
   "outputs": [
    {
     "name": "stdout",
     "output_type": "stream",
     "text": [
      "Altura media:        179.73809523809524\n",
      "Desviación típica: 6.931843442745892\n",
      "Altura mínima:     163\n",
      "Altura máxima:     193\n"
     ]
    }
   ],
   "source": [
    "print(\"Altura media:       \", heights.mean())\n",
    "print(\"Desviación típica:\", heights.std())\n",
    "print(\"Altura mínima:    \", heights.min())\n",
    "print(\"Altura máxima:    \", heights.max())"
   ]
  },
  {
   "cell_type": "markdown",
   "metadata": {},
   "source": [
    "Observe que, en cada caso, la operación de agregación redujo toda la matriz a un único valor de resumen, lo que nos da información sobre la distribución de los valores.\n",
    "También podemos calcular los cuantiles:"
   ]
  },
  {
   "cell_type": "code",
   "execution_count": 9,
   "metadata": {
    "collapsed": false
   },
   "outputs": [
    {
     "name": "stdout",
     "output_type": "stream",
     "text": [
      "Percentil 25:    174.25\n",
      "Mediana:             182.0\n",
      "Percentil 75:    183.0\n"
     ]
    }
   ],
   "source": [
    "print(\"Percentil 25:   \", np.percentile(heights, 25))\n",
    "print(\"Mediana:            \", np.median(heights))\n",
    "print(\"Percentil 75:   \", np.percentile(heights, 75))"
   ]
  },
  {
   "cell_type": "markdown",
   "metadata": {},
   "source": [
    "Vemos que la mediana de la altura de los presidentes estadounidenses es de 182 cm, es decir, poco mas de 1,80 m.\n",
    "\n",
    "Por supuesto, a veces es más útil ver una representación visual de estos datos, lo que podemos conseguir utilizando herramientas de Matplotlib (hablaremos de Matplotlib con más detalle mas adelante)."
   ]
  },
  {
   "cell_type": "code",
   "execution_count": 10,
   "metadata": {
    "collapsed": false
   },
   "outputs": [],
   "source": [
    "import matplotlib.pyplot as plt\n",
    "import seaborn; seaborn.set()  # establecer estilo de trama"
   ]
  },
  {
   "cell_type": "code",
   "execution_count": 11,
   "metadata": {
    "collapsed": false
   },
   "outputs": [
    {
     "data": {
      "image/png": "[encoded data removed]",
      "text/plain": [
       "<Figure size 640x480 with 1 Axes>"
      ]
     },
     "metadata": {},
     "output_type": "display_data"
    }
   ],
   "source": [
    "plt.hist(heights)\n",
    "plt.title('Distribución de la altura de los presidentes de EE.UU.')\n",
    "plt.xlabel('altura (cm)')\n",
    "plt.ylabel('número');"
   ]
  },
  {
   "cell_type": "markdown",
   "metadata": {},
   "source": [
    "Estos agregados son algunas de las piezas fundamentales del análisis exploratorio de datos que exploraremos en mayor profundidad próximamente."
   ]
  },
  {
   "cell_type": "markdown",
   "metadata": {},
   "source": [
    "<!--NAVIGATION-->\n",
    "< [Computation en arrays](3-Computation_en_arrays.ipynb) | [Comparaciones, máscaras y lógica booleana](5-Comparaciones_mascaras_y_logica_booleana.ipynb) >\n",
    "\n"
   ]
  }
 ],
 "metadata": {
  "anaconda-cloud": {},
  "kernelspec": {
   "display_name": "Python 3",
   "language": "python",
   "name": "python3"
  },
  "language_info": {
   "codemirror_mode": {
    "name": "ipython",
    "version": 3
   },
   "file_extension": ".py",
   "mimetype": "text/x-python",
   "name": "python",
   "nbconvert_exporter": "python",
   "pygments_lexer": "ipython3",
   "version": "3.13.0"
  }
 },
 "nbformat": 4,
 "nbformat_minor": 0
}
