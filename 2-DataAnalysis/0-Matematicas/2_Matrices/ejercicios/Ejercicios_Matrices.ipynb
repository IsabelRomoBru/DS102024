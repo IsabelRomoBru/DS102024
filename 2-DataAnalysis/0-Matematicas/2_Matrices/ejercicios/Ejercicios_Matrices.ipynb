{
  "cells": [
    {
      "cell_type": "markdown",
      "metadata": {
        "id": "AOe1_suhwZNN"
      },
      "source": [
        "### Ejercicio 1: Suma Matrices\n",
        "Complete la implementación de la función suma_matrices para que devuelva como resultado la suma entre las dos matrices (arreglos numpy) pasados como parámetro (recordá verificar que los tamaños sean compatibles). "
      ]
    },
    {
      "cell_type": "code",
      "execution_count": 7,
      "metadata": {
        "id": "CkVRd7MMwZNP"
      },
      "outputs": [],
      "source": [
        "import numpy as np\n",
        "def suma_matrices(A, B):\n",
        "  suma = np.array([])\n",
        "  if A.shape != B.shape:\n",
        "    print(\"Error, matrices no tienen el mismo tamaño\")\n",
        "    return None\n",
        "  suma=A+B\n",
        "\n",
        "  return suma"
      ]
    },
    {
      "cell_type": "code",
      "execution_count": 8,
      "metadata": {
        "cellView": "form",
        "id": "YYxIsuAswZNR"
      },
      "outputs": [
        {
          "name": "stdout",
          "output_type": "stream",
          "text": [
            "Error, matrices no tienen el mismo tamaño\n",
            "Tu función no contempla tamaños incompatibles a la hora de sumar\n"
          ]
        }
      ],
      "source": [
        "#@title Ejecuta esta celda para evaluar tu función\n",
        "import numpy as np\n",
        "A = np.array([\n",
        "    [10,20,30],\n",
        "    [40,50,60]\n",
        "])\n",
        "\n",
        "B = np.array([\n",
        "    [10,50,30],\n",
        "    [40,20,60]\n",
        "])\n",
        "\n",
        "C = np.array([\n",
        "        [ 2,  3,  5,  -8],\n",
        "        [4, 13, 17, -19],\n",
        "        [23, 15, 31, 0]\n",
        "])\n",
        "\n",
        "D = np.array([\n",
        "        [ 2,  3,  5,  7],\n",
        "        [11, 13, 17, 19],\n",
        "        [23, 29, 31, 37]\n",
        "    ])\n",
        "\n",
        "def test_suma(A,B,C,D):\n",
        "  if( not (suma_matrices(A, B) == A + B).all()): raise ValueError(\"La suma entre A y B falla\")\n",
        "  try:\n",
        "    suma_matrices(C, A)\n",
        "    print(\"Tu función no contempla tamaños incompatibles a la hora de sumar\" )\n",
        "  except ValueError:\n",
        "    print(\"Tu función suma_matrices está excelente\")\n",
        "\n",
        "test_suma(A,B,C,D)"
      ]
    },
    {
      "cell_type": "markdown",
      "metadata": {
        "id": "deUSjqihk0Fk"
      },
      "source": [
        "### Ejercicio 2\n",
        "Complete la implementación de las funciones es_triangular_superior(), es_triangular_inferior() y es_diagonal() para que devuelvan verdadero o falso según corresponda. "
      ]
    },
    {
      "cell_type": "code",
      "execution_count": 23,
      "metadata": {
        "id": "EEYgk4_7p71E"
      },
      "outputs": [],
      "source": [
        "def es_triangular_superior(A):\n",
        "  #primero ver si los elementos de debajo son = a 0\n",
        "    for ceros in range(1, A.shape[0]):\n",
        "       for i in range(ceros):\n",
        "          if A[ceros,i]!= 0:\n",
        "             print(\"La matriz no es triangular superior\")\n",
        "             return False\n",
        "          return True\n",
        "       \n",
        "\n",
        "def es_triangular_inferior(A):\n",
        "   for ceros in range(A.shape[0]):\n",
        "      for i in range(ceros+1,A.shape[1]):\n",
        "         if A[ceros,i]!= 0:\n",
        "            print(\"La matriz no es triangular inferior\")\n",
        "            return False\n",
        "         return True\n",
        "\n",
        "def es_diagonal(A):\n",
        "   for ceros in range(A.shape[0]):\n",
        "      for j in range(A.shape[1]):\n",
        "         if ceros!= j:\n",
        "            if ceros != j:\n",
        "                print(f\"Verificando A[{ceros},{j}] = {A[ceros, j]}\")  # Imprime el valor que está verificando\n",
        "                if A[ceros, j] != 0:\n",
        "                    print(\"La matriz no es diagonal\")\n",
        "                    return False\n",
        "      return True \n",
        "\n",
        "\n"
      ]
    },
    {
      "cell_type": "code",
      "execution_count": 24,
      "metadata": {
        "cellView": "form",
        "id": "h_OQM9pfsCMR"
      },
      "outputs": [
        {
          "name": "stdout",
          "output_type": "stream",
          "text": [
            "Verificando A[0,1] = 0\n",
            "Verificando A[0,2] = 0\n",
            "La matriz no es triangular superior\n",
            "La matriz no es triangular superior\n",
            "La matriz no es triangular inferior\n",
            "La matriz no es triangular inferior\n",
            "Verificando A[0,1] = 1\n",
            "La matriz no es diagonal\n",
            "Verificando A[0,1] = 3\n",
            "La matriz no es diagonal\n",
            "Verificando A[0,1] = 0\n",
            "Verificando A[0,2] = 0\n"
          ]
        },
        {
          "ename": "ValueError",
          "evalue": "tu función indica como matrices diagonales algunas matrices que no lo son",
          "output_type": "error",
          "traceback": [
            "\u001b[0;31m---------------------------------------------------------------------------\u001b[0m",
            "\u001b[0;31mValueError\u001b[0m                                Traceback (most recent call last)",
            "Cell \u001b[0;32mIn[24], line 29\u001b[0m\n\u001b[1;32m     27\u001b[0m   \u001b[38;5;28;01mif\u001b[39;00m es_diagonal(A) \u001b[38;5;129;01mor\u001b[39;00m es_diagonal(D) \u001b[38;5;129;01mor\u001b[39;00m es_diagonal(B): \u001b[38;5;28;01mraise\u001b[39;00m \u001b[38;5;167;01mValueError\u001b[39;00m(\u001b[38;5;124m\"\u001b[39m\u001b[38;5;124mtu función indica como matrices diagonales algunas matrices que no lo son\u001b[39m\u001b[38;5;124m\"\u001b[39m)\n\u001b[1;32m     28\u001b[0m   \u001b[38;5;28mprint\u001b[39m(\u001b[38;5;124m\"\u001b[39m\u001b[38;5;124mLas tres funciones están excelentes!\u001b[39m\u001b[38;5;124m\"\u001b[39m)\n\u001b[0;32m---> 29\u001b[0m \u001b[43mtest\u001b[49m\u001b[43m(\u001b[49m\u001b[43mA\u001b[49m\u001b[43m,\u001b[49m\u001b[43mB\u001b[49m\u001b[43m,\u001b[49m\u001b[43mC\u001b[49m\u001b[43m,\u001b[49m\u001b[43mD\u001b[49m\u001b[43m)\u001b[49m\n",
            "Cell \u001b[0;32mIn[24], line 27\u001b[0m, in \u001b[0;36mtest\u001b[0;34m(A, B, C, D)\u001b[0m\n\u001b[1;32m     25\u001b[0m \u001b[38;5;28;01mif\u001b[39;00m es_triangular_superior(B) \u001b[38;5;129;01mor\u001b[39;00m es_triangular_superior(D): \u001b[38;5;28;01mraise\u001b[39;00m \u001b[38;5;167;01mValueError\u001b[39;00m(\u001b[38;5;124m\"\u001b[39m\u001b[38;5;124mtu función indica como matrices triangulares superiores algunas matrices que no lo son\u001b[39m\u001b[38;5;124m\"\u001b[39m)\n\u001b[1;32m     26\u001b[0m \u001b[38;5;28;01mif\u001b[39;00m es_triangular_inferior(A) \u001b[38;5;129;01mor\u001b[39;00m es_triangular_inferior(D): \u001b[38;5;28;01mraise\u001b[39;00m \u001b[38;5;167;01mValueError\u001b[39;00m(\u001b[38;5;124m\"\u001b[39m\u001b[38;5;124mtu función indica como matrices triangulares inferiores algunas matrices que no lo son\u001b[39m\u001b[38;5;124m\"\u001b[39m)\n\u001b[0;32m---> 27\u001b[0m \u001b[38;5;28;01mif\u001b[39;00m es_diagonal(A) \u001b[38;5;129;01mor\u001b[39;00m es_diagonal(D) \u001b[38;5;129;01mor\u001b[39;00m es_diagonal(B): \u001b[38;5;28;01mraise\u001b[39;00m \u001b[38;5;167;01mValueError\u001b[39;00m(\u001b[38;5;124m\"\u001b[39m\u001b[38;5;124mtu función indica como matrices diagonales algunas matrices que no lo son\u001b[39m\u001b[38;5;124m\"\u001b[39m)\n\u001b[1;32m     28\u001b[0m \u001b[38;5;28mprint\u001b[39m(\u001b[38;5;124m\"\u001b[39m\u001b[38;5;124mLas tres funciones están excelentes!\u001b[39m\u001b[38;5;124m\"\u001b[39m)\n",
            "\u001b[0;31mValueError\u001b[0m: tu función indica como matrices diagonales algunas matrices que no lo son"
          ]
        }
      ],
      "source": [
        "#@title Ejecuta esta celda para evaluar tu función\n",
        "import numpy as np\n",
        "A = np.array([[4, 1, 0],\n",
        "       [0, 5, 0],\n",
        "       [0, 0, 6]])\n",
        "\n",
        "B = np.array([[4, 0, 0],\n",
        "       [1, 5, 0],\n",
        "       [3, 0, 6]])\n",
        "\n",
        "C = np.array([[4, 0, 0],\n",
        "       [0, 5, 0],\n",
        "       [0, 0, 6]])\n",
        "\n",
        "D = np.array([\n",
        "        [ 2,  3,  5,  7],\n",
        "        [11, 13, 17, 19],\n",
        "        [23, 29, 31, 37]\n",
        "    ])\n",
        "\n",
        "def test(A,B,C,D):\n",
        "  if not es_triangular_superior(A): raise ValueError(\"tu función falla al detectar matrices triangulares superiores\")\n",
        "  if not es_triangular_inferior(B): raise ValueError(\"tu función falla al detectar matrices triangulares inferiores\")\n",
        "  if not es_diagonal(C): raise ValueError(\"tu función falla al detectar matrices diagonales\")\n",
        "  if es_triangular_superior(B) or es_triangular_superior(D): raise ValueError(\"tu función indica como matrices triangulares superiores algunas matrices que no lo son\")\n",
        "  if es_triangular_inferior(A) or es_triangular_inferior(D): raise ValueError(\"tu función indica como matrices triangulares inferiores algunas matrices que no lo son\")\n",
        "  if es_diagonal(A) or es_diagonal(D) or es_diagonal(B): raise ValueError(\"tu función indica como matrices diagonales algunas matrices que no lo son\")\n",
        "  print(\"Las tres funciones están excelentes!\")\n",
        "test(A,B,C,D)"
      ]
    },
    {
      "cell_type": "markdown",
      "metadata": {
        "id": "HhxxLQZlsmAI"
      },
      "source": [
        "### Ejercicio 3\n",
        "Complete la implementación de la función producto_matrices para que devuelva como resultado la multiplicación entre las dos matrices (arreglos numpy) pasados como parámetro (recuerda verificar que los tamaños sean compatibles). "
      ]
    },
    {
      "cell_type": "code",
      "execution_count": 8,
      "metadata": {
        "id": "C-4XY7pniJbl"
      },
      "outputs": [],
      "source": [
        "import numpy as np\n",
        "def producto_matrices(a, b):\n",
        "  producto = np.array([])\n",
        "  if a.shape[1]!= b.shape[0]:\n",
        "    raise ValueError(\"Las matrices no son compatibles para la multiplicación\")\n",
        "  resultado=np.dot(a,b)\n",
        "  return resultado"
      ]
    },
    {
      "cell_type": "code",
      "execution_count": 9,
      "metadata": {
        "cellView": "form",
        "id": "__42ho37iYNr"
      },
      "outputs": [
        {
          "name": "stdout",
          "output_type": "stream",
          "text": [
            "Tu función producto_matrices está excelente\n"
          ]
        }
      ],
      "source": [
        "#@title Ejecuta esta celda para evaluar tu función\n",
        "import numpy as np\n",
        "A = np.array([\n",
        "    [10,20,30],\n",
        "    [40,50,60]\n",
        "])\n",
        "\n",
        "B = np.array([\n",
        "    [10,50,30],\n",
        "    [40,20,60]\n",
        "])\n",
        "\n",
        "C = np.array([\n",
        "        [ 2,  3,  5,  -8],\n",
        "        [4, 13, 17, -19],\n",
        "        [23, 15, 31, 0]\n",
        "])\n",
        "\n",
        "D = np.array([\n",
        "        [ 2,  3,  5,  7],\n",
        "        [11, 13, 17, 19],\n",
        "        [23, 29, 31, 37]\n",
        "    ])\n",
        "def test_producto(A,B,C,D):\n",
        "  if( not (producto_matrices(A, C) == A.dot(C)).all()): raise ValueError(\"La multiplicación entre A y C falla\")\n",
        "  try:\n",
        "    producto_matrices(C, A)\n",
        "    print(\"Tu función no contempla tamaños incompatibles a la hora de multiplicar\" )\n",
        "  except ValueError:\n",
        "    print(\"Tu función producto_matrices está excelente\")\n",
        "\n",
        "test_producto(A,B,C,D)\n",
        "\n",
        "def test_suma(A,B,C,D):\n",
        "  if( not (suma_matrices(A, B) == A + B).all()): raise ValueError(\"La suma entre A y B falla\")\n",
        "  try:\n",
        "    producto_matrices(C, A)\n",
        "    print(\"Tu función no contempla tamaños incompatibles a la hora de sumar\" )\n",
        "  except ValueError:\n",
        "    print(\"Tu función suma_matrices está excelente\")"
      ]
    }
  ],
  "metadata": {
    "colab": {
      "collapsed_sections": [
        "deUSjqihk0Fk",
        "HhxxLQZlsmAI"
      ],
      "name": "Ejercicios_Matrices",
      "provenance": []
    },
    "kernelspec": {
      "display_name": "Python 3",
      "name": "python3"
    },
    "language_info": {
      "codemirror_mode": {
        "name": "ipython",
        "version": 3
      },
      "file_extension": ".py",
      "mimetype": "text/x-python",
      "name": "python",
      "nbconvert_exporter": "python",
      "pygments_lexer": "ipython3",
      "version": "3.13.0"
    }
  },
  "nbformat": 4,
  "nbformat_minor": 0
}
