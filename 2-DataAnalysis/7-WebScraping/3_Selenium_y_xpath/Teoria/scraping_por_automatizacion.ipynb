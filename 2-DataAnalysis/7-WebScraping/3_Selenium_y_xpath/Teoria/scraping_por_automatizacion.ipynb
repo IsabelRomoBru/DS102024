{
  "cells": [
    {
      "cell_type": "markdown",
      "metadata": {
        "id": "sMvL5m3GVuK-"
      },
      "source": [
        "# Scraping por Automatización con Selenium"
      ]
    },
    {
      "cell_type": "markdown",
      "metadata": {
        "id": "YhLG1LMEVhr9"
      },
      "source": [
        "## **XPath (XML Path Language)**\n",
        "\n",
        "Un selector muy utilizado es el [**Xpath**](https://es.wikipedia.org/wiki/XPath), basado en un lenguaje diseñado para localizar elementos en un archivo XML o HTML.\n",
        "\n",
        "Es una manera de recorrer un árbol como por ejemplo el DOM (*document object model*).\n",
        "\n",
        "Existen dos maneras de acceder a un elemento usando Xpath:\n",
        "\n",
        "### XPath absoluto\n",
        "* Contiene la ruta completa desde el elemento raíz hasta el elemento de interés. <br> Ejemplo: `/html/body/section[3]/div[2]/a[2]/div/div[1]/img`\n",
        "  * **Contra**: Cualquier cambio en la ruta del elemento hace que ya no se acceda de esa forma.\n",
        "\n",
        "### XPath relativo\n",
        "* Comienza haciendo referencia al elemento que queremos ubicar en relación con una ubicación particular. Esto significa que el elemento está posicionado con relación a su posición normal. <br> Ejemplo: \n",
        "`//*[@id=\"que-hacemos-a-tag\"]/div/div[1]/img`\n",
        "  * Cualquier cambio en el diseño de la página o la jerarquía DOM tendrá un impacto mínimo (o nulo) en el selector XPath existente.\n",
        "  * Su estructura básica es la siguiente: <br>\n",
        "  <font size=6>\n",
        "  <center>\n",
        "  <font color='red'>//</font><font color='blue'>nombreDelTag</font>[@<font color='green'>Atributo</font>=<font color='purple'>\"valor\"</font>]\n",
        "</center>\n",
        "<font>\n",
        "\n",
        "### Selección de nodos desconocidos\n",
        "\n",
        "* El asterisco (**\\***) o *wildcard* sirve como reemplazo para el nombre del tag, funcionando como comodín para cualquiera de ellos. <br>\n",
        "Ejemplo: `//*[@id=\"soy_un_div\"]`\n",
        "\n",
        "\n",
        "* El arroba seguido de asterisco (**\\@***) *matchea* cualquier atributo de un elemento. <br>\n",
        "Ejemplo: `//h2[@*=\"soy_un_subtitulo\"]`\n",
        "\n",
        "### Algunas funciones\n",
        "\n",
        "* `contains()` permite ver si un elemento contiene una *string* en particular. No es necesario que sea match exacto, sino que forme parte de la *string*.<br>\n",
        "Ejemplo: `//div[contains(@class,\"que\")]`\n",
        "\n",
        "* ` text() ` nos permite obtener un elemento en base al texto que tiene dentro del tag <br>\n",
        "Ejemplo: `//*[text()=\"SABER MÁS\"]`\n",
        "\n",
        "También los podríamos usar juntos: `//*[contains(text(),\"SABER\")]` 🤯\n",
        "\n",
        "\n",
        "\n",
        "\n",
        "**Hay mucho mucho más!** <br>\n",
        "\n",
        "Xpath [cheatsheet](https://www.lambdatest.com/blog/most-exhaustive-xpath-locators-cheat-sheet/) super completa\n",
        "\n"
      ]
    },
    {
      "cell_type": "markdown",
      "metadata": {
        "id": "IlqNHdOqVhr3"
      },
      "source": [
        "## **Bots que controlan nuestro browser** 🦾\n",
        "\n",
        "A veces los sitios webs tienen ciertas características que hacen que los métodos que venimos utilizando no funcionen.\n",
        "\n",
        "En esos casos uno puede intentar desarrollar una especie de robot que controle nuestro navegador interactuando con internet de igual forma que lo hace un humano. Hay una herramienta llamada __Selenium__ que puede utilizarse exactamente para eso.\n",
        "\n",
        "\n",
        "### ¿Cómo se hace para programar un bot para que utilice un sitio web?\n",
        "\n",
        "Lo principal es saber como localizar un elemento en la pagina.\n",
        "Selenium nos permite hacerlo de diversas formas (id, tag, clase, selector de CSS, etc)"
      ]
    },
    {
      "cell_type": "markdown",
      "metadata": {
        "id": "yjduskN_aU8C"
      },
      "source": [
        "## **Web scraping avanzado con Selenium**\n",
        "\n",
        "<img src=\"https://selenium-python.readthedocs.io/_static/logo.png\" alt=\"selenium-logo\">\n",
        "\n",
        "### ¿Qué es Selenium?\n",
        "* Es una herramienta de testing y automatización que tiene una API para Python\n",
        "\n",
        "* No fue pensado específicamente para web scraping ni web crawling, pero gracias al sistema cliente/servidor Web Driver permite utilizar un navegador de forma local o en remoto.\n",
        "Esto nos da acceso a un navegador con el que podemos recorrer la web.\n",
        "\n",
        "### ¿En qué casos podría resultarnos util?\n",
        "* Páginas dinámicas (por ej: [AJAX](https://developer.mozilla.org/es/docs/Web/Guide/AJAX), [lazy loading](https://developer.mozilla.org/en-US/docs/Web/Performance/Lazy_loading))\n",
        "* Scroll infinito\n",
        "* Completar formularios, autenticación, pop ups, manejo de sesiones, ¿captchas?,  etc  ...\n",
        "\n",
        "* va a permitirnos recorrer internet con un navegador \"virtual\", permitiéndonos hacer click, scroll, etc.\n",
        "\n",
        "* En Google Colab solo podremos usarlo sin interfaz gráfica (*headless*).\n",
        "\n",
        "\n",
        "Si podemos ver esa información en el navegador, deberíamos poder *scrapearla*.\n",
        "\n",
        "- Documentacion oficial: https://www.selenium.dev/documentation/\n",
        "- Documentacion no oficial pero recomendada: https://selenium-python.readthedocs.io/\n",
        "\n"
      ]
    },
    {
      "cell_type": "markdown",
      "metadata": {
        "id": "pRcpDhKurGsk"
      },
      "source": [
        "## **Hola mundo con Selenium: Buscar en google**\n",
        "\n",
        "Veamos un poco como se usa esta nueva herramienta.\n",
        "\n",
        "La base de Selenium (y un poco del web scraping en general) es la selección de elementos en la web. Para esto nos provee varios métodos:\n",
        "\n",
        "\n",
        "Para aprender más: https://selenium-python.readthedocs.io/locating-elements.html"
      ]
    },
    {
      "cell_type": "markdown",
      "metadata": {
        "id": "ZM1uR67U102y"
      },
      "source": [
        "### Instalación y configuración"
      ]
    },
    {
      "cell_type": "markdown",
      "metadata": {},
      "source": [
        "Necesitamos descargar el Driver de Chrome desde esta [url](https://googlechromelabs.github.io/chrome-for-testing/)"
      ]
    },
    {
      "cell_type": "markdown",
      "metadata": {},
      "source": []
    },
    {
      "cell_type": "code",
      "execution_count": 1,
      "metadata": {
        "id": "gB435MUYWWYG"
      },
      "outputs": [],
      "source": [
        "from selenium import webdriver\n",
        "from selenium.webdriver.chrome.service import Service  # Importa la clase Service\n",
        "from selenium.webdriver.support.ui import Select\n",
        "from selenium.webdriver.common.keys import Keys\n",
        "from selenium.webdriver.support.ui import WebDriverWait \n",
        "from selenium.webdriver.common.by import By\n",
        "from selenium.webdriver.support import expected_conditions as EC\n",
        "\n",
        "options = webdriver.ChromeOptions()\n",
        "options.add_argument('--headless')  # Chromium sin interfaz gráfica\n",
        "options.add_argument('--no-sandbox')  # Seguridad\n",
        "options.add_argument('--disable-dev-shm-usage')  # Configuración de Linux\n",
        "options.add_argument('--user-agent=\"Mozilla/5.0 (Windows NT 10.0; Win64; x64) AppleWebKit/537.36 (KHTML, like Gecko) Chrome/74.0.3729.157 Safari/537.36\"')  # User agent\n",
        "# options.add_argument('--start-maximized')  # Abrir en pantalla completa\n",
        "\n",
        "# Crear un objeto Service con la ruta correcta a chromedriver\n",
        "service = Service(executable_path='driver/chromedriver.exe')\n"
      ]
    },
    {
      "cell_type": "code",
      "execution_count": 2,
      "metadata": {
        "id": "jWrStt6NBTN6"
      },
      "outputs": [
        {
          "ename": "NoSuchDriverException",
          "evalue": "Message: Unable to obtain driver for chrome; For documentation on this error, please visit: https://www.selenium.dev/documentation/webdriver/troubleshooting/errors/driver_location\n",
          "output_type": "error",
          "traceback": [
            "\u001b[0;31m---------------------------------------------------------------------------\u001b[0m",
            "\u001b[0;31mValueError\u001b[0m                                Traceback (most recent call last)",
            "File \u001b[0;32m~/Desktop/DS102024_/.venv/lib/python3.13/site-packages/selenium/webdriver/common/driver_finder.py:64\u001b[0m, in \u001b[0;36mDriverFinder._binary_paths\u001b[0;34m(self)\u001b[0m\n\u001b[1;32m     63\u001b[0m \u001b[38;5;28;01mif\u001b[39;00m \u001b[38;5;129;01mnot\u001b[39;00m Path(path)\u001b[38;5;241m.\u001b[39mis_file():\n\u001b[0;32m---> 64\u001b[0m     \u001b[38;5;28;01mraise\u001b[39;00m \u001b[38;5;167;01mValueError\u001b[39;00m(\u001b[38;5;124mf\u001b[39m\u001b[38;5;124m\"\u001b[39m\u001b[38;5;124mThe path is not a valid file: \u001b[39m\u001b[38;5;132;01m{\u001b[39;00mpath\u001b[38;5;132;01m}\u001b[39;00m\u001b[38;5;124m\"\u001b[39m)\n\u001b[1;32m     65\u001b[0m \u001b[38;5;28mself\u001b[39m\u001b[38;5;241m.\u001b[39m_paths[\u001b[38;5;124m\"\u001b[39m\u001b[38;5;124mdriver_path\u001b[39m\u001b[38;5;124m\"\u001b[39m] \u001b[38;5;241m=\u001b[39m path\n",
            "\u001b[0;31mValueError\u001b[0m: The path is not a valid file: driver/chromedriver.exe",
            "\nThe above exception was the direct cause of the following exception:\n",
            "\u001b[0;31mNoSuchDriverException\u001b[0m                     Traceback (most recent call last)",
            "Cell \u001b[0;32mIn[2], line 2\u001b[0m\n\u001b[1;32m      1\u001b[0m \u001b[38;5;66;03m# Inicializar el WebDriver utilizando el objeto Service y las opciones\u001b[39;00m\n\u001b[0;32m----> 2\u001b[0m wd \u001b[38;5;241m=\u001b[39m \u001b[43mwebdriver\u001b[49m\u001b[38;5;241;43m.\u001b[39;49m\u001b[43mChrome\u001b[49m\u001b[43m(\u001b[49m\u001b[43mservice\u001b[49m\u001b[38;5;241;43m=\u001b[39;49m\u001b[43mservice\u001b[49m\u001b[43m,\u001b[49m\u001b[43m \u001b[49m\u001b[43moptions\u001b[49m\u001b[38;5;241;43m=\u001b[39;49m\u001b[43moptions\u001b[49m\u001b[43m)\u001b[49m\n\u001b[1;32m      4\u001b[0m \u001b[38;5;66;03m# Probemos buscando en google automágicamente\u001b[39;00m\n\u001b[1;32m      5\u001b[0m url \u001b[38;5;241m=\u001b[39m \u001b[38;5;124m\"\u001b[39m\u001b[38;5;124mhttps://www.google.com/\u001b[39m\u001b[38;5;124m\"\u001b[39m \n",
            "File \u001b[0;32m~/Desktop/DS102024_/.venv/lib/python3.13/site-packages/selenium/webdriver/chrome/webdriver.py:45\u001b[0m, in \u001b[0;36mWebDriver.__init__\u001b[0;34m(self, options, service, keep_alive)\u001b[0m\n\u001b[1;32m     42\u001b[0m service \u001b[38;5;241m=\u001b[39m service \u001b[38;5;28;01mif\u001b[39;00m service \u001b[38;5;28;01melse\u001b[39;00m Service()\n\u001b[1;32m     43\u001b[0m options \u001b[38;5;241m=\u001b[39m options \u001b[38;5;28;01mif\u001b[39;00m options \u001b[38;5;28;01melse\u001b[39;00m Options()\n\u001b[0;32m---> 45\u001b[0m \u001b[38;5;28;43msuper\u001b[39;49m\u001b[43m(\u001b[49m\u001b[43m)\u001b[49m\u001b[38;5;241;43m.\u001b[39;49m\u001b[38;5;21;43m__init__\u001b[39;49m\u001b[43m(\u001b[49m\n\u001b[1;32m     46\u001b[0m \u001b[43m    \u001b[49m\u001b[43mbrowser_name\u001b[49m\u001b[38;5;241;43m=\u001b[39;49m\u001b[43mDesiredCapabilities\u001b[49m\u001b[38;5;241;43m.\u001b[39;49m\u001b[43mCHROME\u001b[49m\u001b[43m[\u001b[49m\u001b[38;5;124;43m\"\u001b[39;49m\u001b[38;5;124;43mbrowserName\u001b[39;49m\u001b[38;5;124;43m\"\u001b[39;49m\u001b[43m]\u001b[49m\u001b[43m,\u001b[49m\n\u001b[1;32m     47\u001b[0m \u001b[43m    \u001b[49m\u001b[43mvendor_prefix\u001b[49m\u001b[38;5;241;43m=\u001b[39;49m\u001b[38;5;124;43m\"\u001b[39;49m\u001b[38;5;124;43mgoog\u001b[39;49m\u001b[38;5;124;43m\"\u001b[39;49m\u001b[43m,\u001b[49m\n\u001b[1;32m     48\u001b[0m \u001b[43m    \u001b[49m\u001b[43moptions\u001b[49m\u001b[38;5;241;43m=\u001b[39;49m\u001b[43moptions\u001b[49m\u001b[43m,\u001b[49m\n\u001b[1;32m     49\u001b[0m \u001b[43m    \u001b[49m\u001b[43mservice\u001b[49m\u001b[38;5;241;43m=\u001b[39;49m\u001b[43mservice\u001b[49m\u001b[43m,\u001b[49m\n\u001b[1;32m     50\u001b[0m \u001b[43m    \u001b[49m\u001b[43mkeep_alive\u001b[49m\u001b[38;5;241;43m=\u001b[39;49m\u001b[43mkeep_alive\u001b[49m\u001b[43m,\u001b[49m\n\u001b[1;32m     51\u001b[0m \u001b[43m\u001b[49m\u001b[43m)\u001b[49m\n",
            "File \u001b[0;32m~/Desktop/DS102024_/.venv/lib/python3.13/site-packages/selenium/webdriver/chromium/webdriver.py:50\u001b[0m, in \u001b[0;36mChromiumDriver.__init__\u001b[0;34m(self, browser_name, vendor_prefix, options, service, keep_alive)\u001b[0m\n\u001b[1;32m     47\u001b[0m \u001b[38;5;28mself\u001b[39m\u001b[38;5;241m.\u001b[39mservice \u001b[38;5;241m=\u001b[39m service\n\u001b[1;32m     49\u001b[0m finder \u001b[38;5;241m=\u001b[39m DriverFinder(\u001b[38;5;28mself\u001b[39m\u001b[38;5;241m.\u001b[39mservice, options)\n\u001b[0;32m---> 50\u001b[0m \u001b[38;5;28;01mif\u001b[39;00m \u001b[43mfinder\u001b[49m\u001b[38;5;241;43m.\u001b[39;49m\u001b[43mget_browser_path\u001b[49m\u001b[43m(\u001b[49m\u001b[43m)\u001b[49m:\n\u001b[1;32m     51\u001b[0m     options\u001b[38;5;241m.\u001b[39mbinary_location \u001b[38;5;241m=\u001b[39m finder\u001b[38;5;241m.\u001b[39mget_browser_path()\n\u001b[1;32m     52\u001b[0m     options\u001b[38;5;241m.\u001b[39mbrowser_version \u001b[38;5;241m=\u001b[39m \u001b[38;5;28;01mNone\u001b[39;00m\n",
            "File \u001b[0;32m~/Desktop/DS102024_/.venv/lib/python3.13/site-packages/selenium/webdriver/common/driver_finder.py:47\u001b[0m, in \u001b[0;36mDriverFinder.get_browser_path\u001b[0;34m(self)\u001b[0m\n\u001b[1;32m     46\u001b[0m \u001b[38;5;28;01mdef\u001b[39;00m \u001b[38;5;21mget_browser_path\u001b[39m(\u001b[38;5;28mself\u001b[39m) \u001b[38;5;241m-\u001b[39m\u001b[38;5;241m>\u001b[39m \u001b[38;5;28mstr\u001b[39m:\n\u001b[0;32m---> 47\u001b[0m     \u001b[38;5;28;01mreturn\u001b[39;00m \u001b[38;5;28;43mself\u001b[39;49m\u001b[38;5;241;43m.\u001b[39;49m\u001b[43m_binary_paths\u001b[49m\u001b[43m(\u001b[49m\u001b[43m)\u001b[49m[\u001b[38;5;124m\"\u001b[39m\u001b[38;5;124mbrowser_path\u001b[39m\u001b[38;5;124m\"\u001b[39m]\n",
            "File \u001b[0;32m~/Desktop/DS102024_/.venv/lib/python3.13/site-packages/selenium/webdriver/common/driver_finder.py:78\u001b[0m, in \u001b[0;36mDriverFinder._binary_paths\u001b[0;34m(self)\u001b[0m\n\u001b[1;32m     76\u001b[0m \u001b[38;5;28;01mexcept\u001b[39;00m \u001b[38;5;167;01mException\u001b[39;00m \u001b[38;5;28;01mas\u001b[39;00m err:\n\u001b[1;32m     77\u001b[0m     msg \u001b[38;5;241m=\u001b[39m \u001b[38;5;124mf\u001b[39m\u001b[38;5;124m\"\u001b[39m\u001b[38;5;124mUnable to obtain driver for \u001b[39m\u001b[38;5;132;01m{\u001b[39;00mbrowser\u001b[38;5;132;01m}\u001b[39;00m\u001b[38;5;124m\"\u001b[39m\n\u001b[0;32m---> 78\u001b[0m     \u001b[38;5;28;01mraise\u001b[39;00m NoSuchDriverException(msg) \u001b[38;5;28;01mfrom\u001b[39;00m \u001b[38;5;21;01merr\u001b[39;00m\n\u001b[1;32m     79\u001b[0m \u001b[38;5;28;01mreturn\u001b[39;00m \u001b[38;5;28mself\u001b[39m\u001b[38;5;241m.\u001b[39m_paths\n",
            "\u001b[0;31mNoSuchDriverException\u001b[0m: Message: Unable to obtain driver for chrome; For documentation on this error, please visit: https://www.selenium.dev/documentation/webdriver/troubleshooting/errors/driver_location\n"
          ]
        }
      ],
      "source": [
        "# Inicializar el WebDriver utilizando el objeto Service y las opciones\n",
        "wd = webdriver.Chrome(service=service, options=options)\n",
        "\n",
        "# Probemos buscando en google automágicamente\n",
        "url = \"https://www.google.com/\" \n",
        "wd.get(url)\n",
        "\n",
        "# Busco el boton de wikipedia en español\n",
        "boton_aceptar = wd.find_element(By.XPATH, '//*[@id=\"L2AGLb\"]/div')\n",
        "\n",
        "# Le hago click\n",
        "boton_aceptar.click()\n",
        "\n",
        "# Aca lo que hacemos es usar las funciones de `expected_conditions` para no clickear hasta que se haya cargado el elemento\n",
        "WebDriverWait(wd, 10).until(EC.element_to_be_clickable((By.XPATH, \"/html/body/div[1]/div[2]/div/img\")))\n",
        "\n",
        "input = wd.find_element(By.XPATH, '//*[@id=\"APjFqb\"]')\n",
        "\n",
        "input.send_keys(\"The Bridge\" + Keys.ENTER)\n"
      ]
    },
    {
      "cell_type": "code",
      "execution_count": 3,
      "metadata": {
        "id": "xe9Ju-KaFKuN"
      },
      "outputs": [
        {
          "ename": "NameError",
          "evalue": "name 'wd' is not defined",
          "output_type": "error",
          "traceback": [
            "\u001b[0;31m---------------------------------------------------------------------------\u001b[0m",
            "\u001b[0;31mNameError\u001b[0m                                 Traceback (most recent call last)",
            "Cell \u001b[0;32mIn[3], line 2\u001b[0m\n\u001b[1;32m      1\u001b[0m \u001b[38;5;66;03m# tomemos un screenshot\u001b[39;00m\n\u001b[0;32m----> 2\u001b[0m \u001b[43mwd\u001b[49m\u001b[38;5;241m.\u001b[39msave_screenshot(\u001b[38;5;124m'\u001b[39m\u001b[38;5;124mscreenshot/screenshot_google.png\u001b[39m\u001b[38;5;124m'\u001b[39m)\n",
            "\u001b[0;31mNameError\u001b[0m: name 'wd' is not defined"
          ]
        }
      ],
      "source": [
        "# tomemos un screenshot\n",
        "wd.save_screenshot('screenshot/screenshot_google.png')"
      ]
    },
    {
      "cell_type": "code",
      "execution_count": null,
      "metadata": {
        "id": "Z6oTgQtAiETs"
      },
      "outputs": [],
      "source": [
        "wd.close()"
      ]
    },
    {
      "cell_type": "code",
      "execution_count": null,
      "metadata": {
        "id": "8pzQgOtTGep3"
      },
      "outputs": [],
      "source": [
        "# Otro ejemplo\n",
        "\n",
        "# Inicializar el WebDriver utilizando el objeto Service y las opciones\n",
        "wd = webdriver.Chrome(service=service, options=options)\n",
        "\n",
        "url = \"https://www.wikipedia.org/\" \n",
        "wd.get(url)\n",
        "\n",
        "# Tiempo  de espera ( si encuentra antes, no espera)\n",
        "wd.implicitly_wait(20)\n",
        "\n",
        "# Busco el boton de wikipedia en español\n",
        "boton_wiki_esp = wd.find_element(By.ID, 'js-link-box-es')\n",
        "\n",
        "# Le hago click\n",
        "boton_wiki_esp.click()\n",
        "\n",
        "hello_wiki = wd.find_element(By.ID,'Bienvenidos_a_Wikipedia,')\n",
        "main_article = wd.find_element(By.ID,'main-tfa')\n",
        "\n",
        "print(f'Texto de bienvenida:\\n {hello_wiki.text}\\n')\n",
        "print(f'Texto del articulo destacado:\\n{main_article.text}')"
      ]
    },
    {
      "cell_type": "code",
      "execution_count": null,
      "metadata": {
        "colab": {
          "base_uri": "https://localhost:8080/"
        },
        "id": "Hzc538_7rGs4",
        "outputId": "e2a1c42d-12fd-48b2-e7b9-ca7abd9ec3a3"
      },
      "outputs": [],
      "source": [
        "# El input de busqueda\n",
        "input_busqueda = wd.find_element(By.XPATH, '//*[@id=\"p-search\"]/a/span[1]')\n",
        "\n",
        "# Le hago click\n",
        "input_busqueda.click()\n",
        "\n",
        "input = wd.find_element(By.XPATH, '//*[@id=\"searchform\"]/div/div/div[1]/input')\n",
        "\n",
        "input.send_keys('Procesamiento del lenguaje natural' + Keys.ENTER)\n",
        "\n",
        "# Imprimo el título de la página a la que se accedió\n",
        "heading = wd.find_element(By.ID,\"firstHeading\")\n",
        "print(f'Heading: \\n{heading.text}') "
      ]
    },
    {
      "cell_type": "code",
      "execution_count": null,
      "metadata": {
        "colab": {
          "base_uri": "https://localhost:8080/"
        },
        "id": "rmM5u7D7G3nm",
        "outputId": "ea90ab5a-4b3b-4889-a94e-33bbbf6ec21f"
      },
      "outputs": [],
      "source": [
        "# Podemos sacar una captura de pantalla \n",
        "wd.save_screenshot('screenshot/screenshot_wikipedia.png')"
      ]
    },
    {
      "cell_type": "code",
      "execution_count": null,
      "metadata": {
        "id": "_PuzfMY9VhsE"
      },
      "outputs": [],
      "source": [
        "# Cerramos el web driver\n",
        "wd.close()"
      ]
    },
    {
      "cell_type": "markdown",
      "metadata": {
        "id": "xmgNyogU9w5U"
      },
      "source": [
        "## **Caso de uso Nº 1: Scroll infinito**\n",
        "\n",
        "Existen páginas que no muestran todo el contenido a menos que vayamos hasta abajo (*scroll*). Esta acción dispara un evento de javascript que renderiza más HTML y por lo tanto vemos contenido nuevo.\n",
        "\n",
        "Podemos emular la acción de mediante Selenium."
      ]
    },
    {
      "cell_type": "code",
      "execution_count": null,
      "metadata": {
        "id": "UwqqBs_P96cW"
      },
      "outputs": [],
      "source": [
        "# Inicializar el WebDriver utilizando el objeto Service y las opciones\n",
        "driver = webdriver.Chrome(service=service, options=options)\n",
        "\n",
        "# Hacemos el pedido a la URL\n",
        "url = \"https://infinite-scroll.com/demo/full-page/\" \n",
        "driver.get(url)\n",
        "\n",
        "# Busco todos los h2 (notar la sutileza del metodo elements con la 's' al final)\n",
        "h2_list = driver.find_elements(By.CSS_SELECTOR, 'h2')\n",
        "for h2 in h2_list:\n",
        "  print(h2.text)"
      ]
    },
    {
      "cell_type": "markdown",
      "metadata": {
        "id": "rgrP5sUH-iws"
      },
      "source": [
        "Ahora veamos si obtenemos los mismos `h2` si utilizamos selenium para hacer *scroll*"
      ]
    },
    {
      "cell_type": "code",
      "execution_count": null,
      "metadata": {
        "id": "1DlxEjmK9zLC"
      },
      "outputs": [],
      "source": [
        "driver.save_screenshot('screenshot/infinite_page.screenshot.png')\n",
        "\n",
        "# Hago lo mismo que antes pero iterando 5 veces y pidiendole que scrollee hasta el final cada vez y saque un screenshot\n",
        "for i in range(5):\n",
        "  print(f'Iteracion numero {i+1}\\n\\n')\n",
        "  driver.save_screenshot(f'infinite_page_{i+1}.screenshot.png')\n",
        "  # el metodo execute_script me permite ejecutar codigo de javascript, en este caso para ir al final de la pagina\n",
        "  driver.execute_script(\"window.scrollTo(0, document.body.scrollHeight);\") \n",
        "  h2_list = driver.find_elements(By.CSS_SELECTOR, 'h2')\n",
        "  \n",
        "  for h2 in h2_list:\n",
        "    print(h2.text)\n",
        "  print('\\n\\n')"
      ]
    },
    {
      "cell_type": "code",
      "execution_count": null,
      "metadata": {
        "id": "5c5ICJi8UTYG"
      },
      "outputs": [],
      "source": [
        "driver.close()"
      ]
    }
  ],
  "metadata": {
    "colab": {
      "provenance": []
    },
    "instance_type": "ml.t3.medium",
    "kernelspec": {
      "display_name": "Python 3",
      "language": "python",
      "name": "python3"
    },
    "language_info": {
      "codemirror_mode": {
        "name": "ipython",
        "version": 3
      },
      "file_extension": ".py",
      "mimetype": "text/x-python",
      "name": "python",
      "nbconvert_exporter": "python",
      "pygments_lexer": "ipython3",
      "version": "3.13.0"
    }
  },
  "nbformat": 4,
  "nbformat_minor": 0
}
