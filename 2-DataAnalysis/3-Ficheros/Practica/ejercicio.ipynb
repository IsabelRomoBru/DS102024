{
 "cells": [
  {
   "cell_type": "markdown",
   "metadata": {},
   "source": [
    "# AutoImporter para Importaciones Simplificadas"
   ]
  },
  {
   "cell_type": "markdown",
   "metadata": {},
   "source": [
    "# Objetivo:\n",
    "\n",
    "Crear una clase en Python que, al ser importada y utilizada al inicio de un notebook o script, permita importar módulos directamente utilizando solo el nombre del archivo, sin necesidad de especificar rutas relativas o absolutas.\n",
    "\n",
    "# Descripción:\n",
    "En proyectos con estructuras de directorios complejas, es común tener que escribir rutas largas y complicadas para importar módulos ubicados en carpetas profundas. Esto puede hacer que el código sea menos legible y más propenso a errores. Para simplificar este proceso, se te pide que implementes una clase llamada AutoImporter que modifique dinámicamente el entorno de importaciones de Python.\n",
    "\n",
    "# Requisitos:\n",
    "\n",
    "1. Clase AutoImporter:\n",
    "\n",
    "    - Debe estar implementada en un archivo Python, por ejemplo, auto_importer.py.\n",
    "    - Al instanciar esta clase, debe:\n",
    "        - Añadir automáticamente al sys.path todos los subdirectorios del directorio base especificado, permitiendo que Python pueda encontrar y cargar módulos desde cualquier subdirectorio.\n",
    "        - Si no se especifica un directorio base, debe utilizar el directorio actual desde donde se ejecuta el notebook o script (Path.cwd()).\n",
    "\n",
    "2. Métodos de la Clase:\n",
    "\n",
    "    - **__init__(self, base_dir=None)**: Constructor que acepta un parámetro opcional base_dir. Si se proporciona, este será el directorio base para buscar subdirectorios; si no, se utilizará el directorio actual.\n",
    "    - **add_to_sys_path(self)**: Método que recorre recursivamente todos los subdirectorios del base_dir y los añade a sys.path.\n",
    "\n",
    "2. Uso de la Clase:\n",
    "\n",
    "    - Una vez creada la instancia de la clase AutoImporter en un notebook o script, debe ser posible importar cualquier archivo ubicado en las subcarpetas del base_dir sin necesidad de escribir la ruta completa, usando únicamente import nombre_modulo."
   ]
  },
  {
   "cell_type": "markdown",
   "metadata": {},
   "source": [
    "## Ejemplo de Uso:\n",
    "\n",
    "Supongamos que tienes la siguiente estructura de carpetas:"
   ]
  },
  {
   "cell_type": "markdown",
   "metadata": {},
   "source": [
    "````/mi_proyecto\n",
    "│\n",
    "├── /src\n",
    "│   ├── /utils\n",
    "│   │   └── mi_utilidad.py\n",
    "│   └── /models\n",
    "│       └── mi_modelo.py\n",
    "└── main.py"
   ]
  },
  {
   "cell_type": "markdown",
   "metadata": {},
   "source": [
    "Si utilizas la clase AutoImporter al inicio de main.py, podrías importar los módulos mi_utilidad.py y mi_modelo.py directamente en el código de la siguiente manera:"
   ]
  },
  {
   "cell_type": "markdown",
   "metadata": {
    "vscode": {
     "languageId": "plaintext"
    }
   },
   "source": [
    "```python\n",
    "from auto_importer import AutoImporter\n",
    "\n",
    "# Inicializa el AutoImporter, utilizando la carpeta 'src' como base\n",
    "auto_importer = AutoImporter(base_dir='src')\n",
    "\n",
    "# Ahora puedes importar los módulos directamente por su nombre\n",
    "import mi_utilidad\n",
    "import mi_modelo"
   ]
  },
  {
   "cell_type": "markdown",
   "metadata": {},
   "source": [
    "Con esta clase, ya no será necesario especificar rutas como from utils.mi_utilidad import ... o from models.mi_modelo import ..., lo que simplifica el proceso de importación en proyectos con estructuras de carpetas complejas."
   ]
  },
  {
   "cell_type": "code",
   "execution_count": 1,
   "metadata": {},
   "outputs": [],
   "source": [
    "import sys\n",
    "import os\n",
    "\n",
    "class AutoImporter:\n",
    "    def __init__(self, base_dir=None):\n",
    "        \"\"\"\n",
    "        Constructor que inicializa la clase AutoImporter.\n",
    "\n",
    "        Args:\n",
    "            base_dir (str, opcional): Directorio base para buscar subdirectorios.\n",
    "            Si no se especifica, se utiliza el directorio actual (os.getcwd()).\n",
    "        \"\"\"\n",
    "        # Si no se proporciona un directorio base, usa el directorio actual\n",
    "        self.base_dir = base_dir if base_dir else os.getcwd()\n",
    "\n",
    "        # Verifica que el directorio base sea válido\n",
    "        if not os.path.isdir(self.base_dir):\n",
    "            raise ValueError(f\"El directorio base '{self.base_dir}' no es válido.\")\n",
    "\n",
    "        # Añade los subdirectorios a sys.path\n",
    "        self.add_to_sys_path()\n",
    "\n",
    "    def add_to_sys_path(self):\n",
    "        \"\"\"\n",
    "        Recorre recursivamente todos los subdirectorios del directorio base\n",
    "        y los añade a sys.path si no están ya presentes.\n",
    "        \"\"\"\n",
    "        for root, dirs, files in os.walk(self.base_dir):\n",
    "            if root not in sys.path:\n",
    "                sys.path.append(root)\n",
    "\n",
    "\n"
   ]
  }
 ],
 "metadata": {
  "kernelspec": {
   "display_name": ".venv",
   "language": "python",
   "name": "python3"
  },
  "language_info": {
   "codemirror_mode": {
    "name": "ipython",
    "version": 3
   },
   "file_extension": ".py",
   "mimetype": "text/x-python",
   "name": "python",
   "nbconvert_exporter": "python",
   "pygments_lexer": "ipython3",
   "version": "3.13.0"
  }
 },
 "nbformat": 4,
 "nbformat_minor": 2
}
