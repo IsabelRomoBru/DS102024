{
 "cells": [
  {
   "cell_type": "markdown",
   "metadata": {},
   "source": [
    "## librerías"
   ]
  },
  {
   "cell_type": "code",
   "execution_count": 48,
   "metadata": {},
   "outputs": [],
   "source": [
    "import pandas as pd\n",
    "import seaborn as sns\n",
    "from sklearn.model_selection import train_test_split\n",
    "from sklearn.linear_model import LinearRegression\n",
    "from sklearn.metrics import root_mean_squared_error,r2_score,mean_absolute_percentage_error\n",
    "from sklearn.preprocessing import StandardScaler, MinMaxScaler,PowerTransformer\n"
   ]
  },
  {
   "cell_type": "code",
   "execution_count": 2,
   "metadata": {},
   "outputs": [],
   "source": [
    "df=pd.read_csv('/Users/isaromobru/Desktop/DS102024_/3-MachineLearning/2-Supervisado/2-RegresionLineal/Ejercicio/ejercicios/winequality-red.csv', sep=';')"
   ]
  },
  {
   "cell_type": "code",
   "execution_count": 3,
   "metadata": {},
   "outputs": [
    {
     "data": {
      "text/html": [
       "<div>\n",
       "<style scoped>\n",
       "    .dataframe tbody tr th:only-of-type {\n",
       "        vertical-align: middle;\n",
       "    }\n",
       "\n",
       "    .dataframe tbody tr th {\n",
       "        vertical-align: top;\n",
       "    }\n",
       "\n",
       "    .dataframe thead th {\n",
       "        text-align: right;\n",
       "    }\n",
       "</style>\n",
       "<table border=\"1\" class=\"dataframe\">\n",
       "  <thead>\n",
       "    <tr style=\"text-align: right;\">\n",
       "      <th></th>\n",
       "      <th>fixed acidity</th>\n",
       "      <th>volatile acidity</th>\n",
       "      <th>citric acid</th>\n",
       "      <th>residual sugar</th>\n",
       "      <th>chlorides</th>\n",
       "      <th>free sulfur dioxide</th>\n",
       "      <th>total sulfur dioxide</th>\n",
       "      <th>density</th>\n",
       "      <th>pH</th>\n",
       "      <th>sulphates</th>\n",
       "      <th>alcohol</th>\n",
       "      <th>quality</th>\n",
       "    </tr>\n",
       "  </thead>\n",
       "  <tbody>\n",
       "    <tr>\n",
       "      <th>0</th>\n",
       "      <td>7.4</td>\n",
       "      <td>0.70</td>\n",
       "      <td>0.00</td>\n",
       "      <td>1.9</td>\n",
       "      <td>0.076</td>\n",
       "      <td>11.0</td>\n",
       "      <td>34.0</td>\n",
       "      <td>0.9978</td>\n",
       "      <td>3.51</td>\n",
       "      <td>0.56</td>\n",
       "      <td>9.4</td>\n",
       "      <td>5</td>\n",
       "    </tr>\n",
       "    <tr>\n",
       "      <th>1</th>\n",
       "      <td>7.8</td>\n",
       "      <td>0.88</td>\n",
       "      <td>0.00</td>\n",
       "      <td>2.6</td>\n",
       "      <td>0.098</td>\n",
       "      <td>25.0</td>\n",
       "      <td>67.0</td>\n",
       "      <td>0.9968</td>\n",
       "      <td>3.20</td>\n",
       "      <td>0.68</td>\n",
       "      <td>9.8</td>\n",
       "      <td>5</td>\n",
       "    </tr>\n",
       "    <tr>\n",
       "      <th>2</th>\n",
       "      <td>7.8</td>\n",
       "      <td>0.76</td>\n",
       "      <td>0.04</td>\n",
       "      <td>2.3</td>\n",
       "      <td>0.092</td>\n",
       "      <td>15.0</td>\n",
       "      <td>54.0</td>\n",
       "      <td>0.9970</td>\n",
       "      <td>3.26</td>\n",
       "      <td>0.65</td>\n",
       "      <td>9.8</td>\n",
       "      <td>5</td>\n",
       "    </tr>\n",
       "    <tr>\n",
       "      <th>3</th>\n",
       "      <td>11.2</td>\n",
       "      <td>0.28</td>\n",
       "      <td>0.56</td>\n",
       "      <td>1.9</td>\n",
       "      <td>0.075</td>\n",
       "      <td>17.0</td>\n",
       "      <td>60.0</td>\n",
       "      <td>0.9980</td>\n",
       "      <td>3.16</td>\n",
       "      <td>0.58</td>\n",
       "      <td>9.8</td>\n",
       "      <td>6</td>\n",
       "    </tr>\n",
       "    <tr>\n",
       "      <th>4</th>\n",
       "      <td>7.4</td>\n",
       "      <td>0.70</td>\n",
       "      <td>0.00</td>\n",
       "      <td>1.9</td>\n",
       "      <td>0.076</td>\n",
       "      <td>11.0</td>\n",
       "      <td>34.0</td>\n",
       "      <td>0.9978</td>\n",
       "      <td>3.51</td>\n",
       "      <td>0.56</td>\n",
       "      <td>9.4</td>\n",
       "      <td>5</td>\n",
       "    </tr>\n",
       "  </tbody>\n",
       "</table>\n",
       "</div>"
      ],
      "text/plain": [
       "   fixed acidity  volatile acidity  citric acid  residual sugar  chlorides  \\\n",
       "0            7.4              0.70         0.00             1.9      0.076   \n",
       "1            7.8              0.88         0.00             2.6      0.098   \n",
       "2            7.8              0.76         0.04             2.3      0.092   \n",
       "3           11.2              0.28         0.56             1.9      0.075   \n",
       "4            7.4              0.70         0.00             1.9      0.076   \n",
       "\n",
       "   free sulfur dioxide  total sulfur dioxide  density    pH  sulphates  \\\n",
       "0                 11.0                  34.0   0.9978  3.51       0.56   \n",
       "1                 25.0                  67.0   0.9968  3.20       0.68   \n",
       "2                 15.0                  54.0   0.9970  3.26       0.65   \n",
       "3                 17.0                  60.0   0.9980  3.16       0.58   \n",
       "4                 11.0                  34.0   0.9978  3.51       0.56   \n",
       "\n",
       "   alcohol  quality  \n",
       "0      9.4        5  \n",
       "1      9.8        5  \n",
       "2      9.8        5  \n",
       "3      9.8        6  \n",
       "4      9.4        5  "
      ]
     },
     "execution_count": 3,
     "metadata": {},
     "output_type": "execute_result"
    }
   ],
   "source": [
    "df.head()"
   ]
  },
  {
   "cell_type": "code",
   "execution_count": 4,
   "metadata": {},
   "outputs": [
    {
     "data": {
      "text/html": [
       "<div>\n",
       "<style scoped>\n",
       "    .dataframe tbody tr th:only-of-type {\n",
       "        vertical-align: middle;\n",
       "    }\n",
       "\n",
       "    .dataframe tbody tr th {\n",
       "        vertical-align: top;\n",
       "    }\n",
       "\n",
       "    .dataframe thead th {\n",
       "        text-align: right;\n",
       "    }\n",
       "</style>\n",
       "<table border=\"1\" class=\"dataframe\">\n",
       "  <thead>\n",
       "    <tr style=\"text-align: right;\">\n",
       "      <th></th>\n",
       "      <th>fixed acidity</th>\n",
       "      <th>volatile acidity</th>\n",
       "      <th>citric acid</th>\n",
       "      <th>residual sugar</th>\n",
       "      <th>chlorides</th>\n",
       "      <th>free sulfur dioxide</th>\n",
       "      <th>total sulfur dioxide</th>\n",
       "      <th>density</th>\n",
       "      <th>pH</th>\n",
       "      <th>sulphates</th>\n",
       "      <th>alcohol</th>\n",
       "      <th>quality</th>\n",
       "    </tr>\n",
       "  </thead>\n",
       "  <tbody>\n",
       "    <tr>\n",
       "      <th>count</th>\n",
       "      <td>1599.000000</td>\n",
       "      <td>1599.000000</td>\n",
       "      <td>1599.000000</td>\n",
       "      <td>1599.000000</td>\n",
       "      <td>1599.000000</td>\n",
       "      <td>1599.000000</td>\n",
       "      <td>1599.000000</td>\n",
       "      <td>1599.000000</td>\n",
       "      <td>1599.000000</td>\n",
       "      <td>1599.000000</td>\n",
       "      <td>1599.000000</td>\n",
       "      <td>1599.000000</td>\n",
       "    </tr>\n",
       "    <tr>\n",
       "      <th>mean</th>\n",
       "      <td>8.319637</td>\n",
       "      <td>0.527821</td>\n",
       "      <td>0.270976</td>\n",
       "      <td>2.538806</td>\n",
       "      <td>0.087467</td>\n",
       "      <td>15.874922</td>\n",
       "      <td>46.467792</td>\n",
       "      <td>0.996747</td>\n",
       "      <td>3.311113</td>\n",
       "      <td>0.658149</td>\n",
       "      <td>10.422983</td>\n",
       "      <td>5.636023</td>\n",
       "    </tr>\n",
       "    <tr>\n",
       "      <th>std</th>\n",
       "      <td>1.741096</td>\n",
       "      <td>0.179060</td>\n",
       "      <td>0.194801</td>\n",
       "      <td>1.409928</td>\n",
       "      <td>0.047065</td>\n",
       "      <td>10.460157</td>\n",
       "      <td>32.895324</td>\n",
       "      <td>0.001887</td>\n",
       "      <td>0.154386</td>\n",
       "      <td>0.169507</td>\n",
       "      <td>1.065668</td>\n",
       "      <td>0.807569</td>\n",
       "    </tr>\n",
       "    <tr>\n",
       "      <th>min</th>\n",
       "      <td>4.600000</td>\n",
       "      <td>0.120000</td>\n",
       "      <td>0.000000</td>\n",
       "      <td>0.900000</td>\n",
       "      <td>0.012000</td>\n",
       "      <td>1.000000</td>\n",
       "      <td>6.000000</td>\n",
       "      <td>0.990070</td>\n",
       "      <td>2.740000</td>\n",
       "      <td>0.330000</td>\n",
       "      <td>8.400000</td>\n",
       "      <td>3.000000</td>\n",
       "    </tr>\n",
       "    <tr>\n",
       "      <th>25%</th>\n",
       "      <td>7.100000</td>\n",
       "      <td>0.390000</td>\n",
       "      <td>0.090000</td>\n",
       "      <td>1.900000</td>\n",
       "      <td>0.070000</td>\n",
       "      <td>7.000000</td>\n",
       "      <td>22.000000</td>\n",
       "      <td>0.995600</td>\n",
       "      <td>3.210000</td>\n",
       "      <td>0.550000</td>\n",
       "      <td>9.500000</td>\n",
       "      <td>5.000000</td>\n",
       "    </tr>\n",
       "    <tr>\n",
       "      <th>50%</th>\n",
       "      <td>7.900000</td>\n",
       "      <td>0.520000</td>\n",
       "      <td>0.260000</td>\n",
       "      <td>2.200000</td>\n",
       "      <td>0.079000</td>\n",
       "      <td>14.000000</td>\n",
       "      <td>38.000000</td>\n",
       "      <td>0.996750</td>\n",
       "      <td>3.310000</td>\n",
       "      <td>0.620000</td>\n",
       "      <td>10.200000</td>\n",
       "      <td>6.000000</td>\n",
       "    </tr>\n",
       "    <tr>\n",
       "      <th>75%</th>\n",
       "      <td>9.200000</td>\n",
       "      <td>0.640000</td>\n",
       "      <td>0.420000</td>\n",
       "      <td>2.600000</td>\n",
       "      <td>0.090000</td>\n",
       "      <td>21.000000</td>\n",
       "      <td>62.000000</td>\n",
       "      <td>0.997835</td>\n",
       "      <td>3.400000</td>\n",
       "      <td>0.730000</td>\n",
       "      <td>11.100000</td>\n",
       "      <td>6.000000</td>\n",
       "    </tr>\n",
       "    <tr>\n",
       "      <th>max</th>\n",
       "      <td>15.900000</td>\n",
       "      <td>1.580000</td>\n",
       "      <td>1.000000</td>\n",
       "      <td>15.500000</td>\n",
       "      <td>0.611000</td>\n",
       "      <td>72.000000</td>\n",
       "      <td>289.000000</td>\n",
       "      <td>1.003690</td>\n",
       "      <td>4.010000</td>\n",
       "      <td>2.000000</td>\n",
       "      <td>14.900000</td>\n",
       "      <td>8.000000</td>\n",
       "    </tr>\n",
       "  </tbody>\n",
       "</table>\n",
       "</div>"
      ],
      "text/plain": [
       "       fixed acidity  volatile acidity  citric acid  residual sugar  \\\n",
       "count    1599.000000       1599.000000  1599.000000     1599.000000   \n",
       "mean        8.319637          0.527821     0.270976        2.538806   \n",
       "std         1.741096          0.179060     0.194801        1.409928   \n",
       "min         4.600000          0.120000     0.000000        0.900000   \n",
       "25%         7.100000          0.390000     0.090000        1.900000   \n",
       "50%         7.900000          0.520000     0.260000        2.200000   \n",
       "75%         9.200000          0.640000     0.420000        2.600000   \n",
       "max        15.900000          1.580000     1.000000       15.500000   \n",
       "\n",
       "         chlorides  free sulfur dioxide  total sulfur dioxide      density  \\\n",
       "count  1599.000000          1599.000000           1599.000000  1599.000000   \n",
       "mean      0.087467            15.874922             46.467792     0.996747   \n",
       "std       0.047065            10.460157             32.895324     0.001887   \n",
       "min       0.012000             1.000000              6.000000     0.990070   \n",
       "25%       0.070000             7.000000             22.000000     0.995600   \n",
       "50%       0.079000            14.000000             38.000000     0.996750   \n",
       "75%       0.090000            21.000000             62.000000     0.997835   \n",
       "max       0.611000            72.000000            289.000000     1.003690   \n",
       "\n",
       "                pH    sulphates      alcohol      quality  \n",
       "count  1599.000000  1599.000000  1599.000000  1599.000000  \n",
       "mean      3.311113     0.658149    10.422983     5.636023  \n",
       "std       0.154386     0.169507     1.065668     0.807569  \n",
       "min       2.740000     0.330000     8.400000     3.000000  \n",
       "25%       3.210000     0.550000     9.500000     5.000000  \n",
       "50%       3.310000     0.620000    10.200000     6.000000  \n",
       "75%       3.400000     0.730000    11.100000     6.000000  \n",
       "max       4.010000     2.000000    14.900000     8.000000  "
      ]
     },
     "execution_count": 4,
     "metadata": {},
     "output_type": "execute_result"
    }
   ],
   "source": [
    "df.describe()"
   ]
  },
  {
   "cell_type": "code",
   "execution_count": 5,
   "metadata": {},
   "outputs": [
    {
     "name": "stdout",
     "output_type": "stream",
     "text": [
      "<class 'pandas.core.frame.DataFrame'>\n",
      "RangeIndex: 1599 entries, 0 to 1598\n",
      "Data columns (total 12 columns):\n",
      " #   Column                Non-Null Count  Dtype  \n",
      "---  ------                --------------  -----  \n",
      " 0   fixed acidity         1599 non-null   float64\n",
      " 1   volatile acidity      1599 non-null   float64\n",
      " 2   citric acid           1599 non-null   float64\n",
      " 3   residual sugar        1599 non-null   float64\n",
      " 4   chlorides             1599 non-null   float64\n",
      " 5   free sulfur dioxide   1599 non-null   float64\n",
      " 6   total sulfur dioxide  1599 non-null   float64\n",
      " 7   density               1599 non-null   float64\n",
      " 8   pH                    1599 non-null   float64\n",
      " 9   sulphates             1599 non-null   float64\n",
      " 10  alcohol               1599 non-null   float64\n",
      " 11  quality               1599 non-null   int64  \n",
      "dtypes: float64(11), int64(1)\n",
      "memory usage: 150.0 KB\n"
     ]
    }
   ],
   "source": [
    "df.info()"
   ]
  },
  {
   "cell_type": "code",
   "execution_count": 6,
   "metadata": {},
   "outputs": [],
   "source": [
    "import seaborn as sns\n",
    "#sns.pairplot(df)"
   ]
  },
  {
   "cell_type": "markdown",
   "metadata": {},
   "source": [
    "La que interesa es la ultima, la de target."
   ]
  },
  {
   "cell_type": "code",
   "execution_count": 7,
   "metadata": {},
   "outputs": [
    {
     "data": {
      "text/plain": [
       "<Axes: ylabel='Frequency'>"
      ]
     },
     "execution_count": 7,
     "metadata": {},
     "output_type": "execute_result"
    },
    {
     "data": {
      "image/png": "[encoded data removed]",
      "text/plain": [
       "<Figure size 640x480 with 1 Axes>"
      ]
     },
     "metadata": {},
     "output_type": "display_data"
    }
   ],
   "source": [
    "X= df.drop(columns='alcohol')\n",
    "y= df['alcohol']\n",
    "y.plot(kind='hist')"
   ]
  },
  {
   "cell_type": "code",
   "execution_count": 8,
   "metadata": {},
   "outputs": [
    {
     "data": {
      "text/plain": [
       "<Axes: ylabel='Frequency'>"
      ]
     },
     "execution_count": 8,
     "metadata": {},
     "output_type": "execute_result"
    },
    {
     "data": {
      "image/png": "[encoded data removed]",
      "text/plain": [
       "<Figure size 640x480 with 1 Axes>"
      ]
     },
     "metadata": {},
     "output_type": "display_data"
    }
   ],
   "source": [
    "import numpy as np\n",
    "np.log(y).plot(kind='hist')"
   ]
  },
  {
   "cell_type": "code",
   "execution_count": 9,
   "metadata": {},
   "outputs": [
    {
     "data": {
      "text/plain": [
       "count    1599.000000\n",
       "mean       10.422983\n",
       "std         1.065668\n",
       "min         8.400000\n",
       "25%         9.500000\n",
       "50%        10.200000\n",
       "75%        11.100000\n",
       "max        14.900000\n",
       "Name: alcohol, dtype: float64"
      ]
     },
     "execution_count": 9,
     "metadata": {},
     "output_type": "execute_result"
    }
   ],
   "source": [
    "y.describe()"
   ]
  },
  {
   "cell_type": "code",
   "execution_count": 10,
   "metadata": {},
   "outputs": [
    {
     "data": {
      "text/plain": [
       "count    1599.000000\n",
       "mean        2.339021\n",
       "std         0.098899\n",
       "min         2.128232\n",
       "25%         2.251292\n",
       "50%         2.322388\n",
       "75%         2.406945\n",
       "max         2.701361\n",
       "Name: alcohol, dtype: float64"
      ]
     },
     "execution_count": 10,
     "metadata": {},
     "output_type": "execute_result"
    }
   ],
   "source": [
    "np.log(y).describe()"
   ]
  },
  {
   "cell_type": "markdown",
   "metadata": {},
   "source": [
    "Para que sea una regresion se necesita que las barras esten juntas, es decir, que sea continua. Por eso se hace el logaritmo"
   ]
  },
  {
   "cell_type": "code",
   "execution_count": 11,
   "metadata": {},
   "outputs": [],
   "source": [
    "x= df.drop(columns='alcohol')\n",
    "y = np.log(df['alcohol'])"
   ]
  },
  {
   "cell_type": "code",
   "execution_count": 12,
   "metadata": {},
   "outputs": [
    {
     "data": {
      "text/plain": [
       "<Axes: >"
      ]
     },
     "execution_count": 12,
     "metadata": {},
     "output_type": "execute_result"
    },
    {
     "data": {
      "image/png": "[encoded data removed]",
      "text/plain": [
       "<Figure size 640x480 with 2 Axes>"
      ]
     },
     "metadata": {},
     "output_type": "display_data"
    }
   ],
   "source": [
    "sns.heatmap(x.corr(),annot=True,cmap='Reds')"
   ]
  },
  {
   "cell_type": "code",
   "execution_count": 13,
   "metadata": {},
   "outputs": [
    {
     "data": {
      "text/plain": [
       "array([[ 1.        ,  0.        ,  0.67170343,  0.        ,  0.        ,\n",
       "         0.        ,  0.        ,  0.66804729, -0.68297819,  0.        ,\n",
       "         0.        ],\n",
       "       [ 0.        ,  1.        , -0.55249568,  0.        ,  0.        ,\n",
       "         0.        ,  0.        ,  0.        ,  0.        ,  0.        ,\n",
       "         0.        ],\n",
       "       [ 0.67170343, -0.55249568,  1.        ,  0.        ,  0.        ,\n",
       "         0.        ,  0.        ,  0.        , -0.54190414,  0.        ,\n",
       "         0.        ],\n",
       "       [ 0.        ,  0.        ,  0.        ,  1.        ,  0.        ,\n",
       "         0.        ,  0.        ,  0.        ,  0.        ,  0.        ,\n",
       "         0.        ],\n",
       "       [ 0.        ,  0.        ,  0.        ,  0.        ,  1.        ,\n",
       "         0.        ,  0.        ,  0.        ,  0.        ,  0.        ,\n",
       "         0.        ],\n",
       "       [ 0.        ,  0.        ,  0.        ,  0.        ,  0.        ,\n",
       "         1.        ,  0.66766645,  0.        ,  0.        ,  0.        ,\n",
       "         0.        ],\n",
       "       [ 0.        ,  0.        ,  0.        ,  0.        ,  0.        ,\n",
       "         0.66766645,  1.        ,  0.        ,  0.        ,  0.        ,\n",
       "         0.        ],\n",
       "       [ 0.66804729,  0.        ,  0.        ,  0.        ,  0.        ,\n",
       "         0.        ,  0.        ,  1.        ,  0.        ,  0.        ,\n",
       "         0.        ],\n",
       "       [-0.68297819,  0.        , -0.54190414,  0.        ,  0.        ,\n",
       "         0.        ,  0.        ,  0.        ,  1.        ,  0.        ,\n",
       "         0.        ],\n",
       "       [ 0.        ,  0.        ,  0.        ,  0.        ,  0.        ,\n",
       "         0.        ,  0.        ,  0.        ,  0.        ,  1.        ,\n",
       "         0.        ],\n",
       "       [ 0.        ,  0.        ,  0.        ,  0.        ,  0.        ,\n",
       "         0.        ,  0.        ,  0.        ,  0.        ,  0.        ,\n",
       "         1.        ]])"
      ]
     },
     "execution_count": 13,
     "metadata": {},
     "output_type": "execute_result"
    }
   ],
   "source": [
    "np.where(np.abs(X.corr())>0.5,X.corr(),0)"
   ]
  },
  {
   "cell_type": "code",
   "execution_count": 14,
   "metadata": {},
   "outputs": [
    {
     "data": {
      "text/plain": [
       "<Axes: >"
      ]
     },
     "execution_count": 14,
     "metadata": {},
     "output_type": "execute_result"
    },
    {
     "data": {
      "image/png": "[encoded data removed]",
      "text/plain": [
       "<Figure size 640x480 with 2 Axes>"
      ]
     },
     "metadata": {},
     "output_type": "display_data"
    }
   ],
   "source": [
    "sns.heatmap(np.where(np.abs(X.corr())>0.5,X.corr(),0),annot=True,cmap='Reds')"
   ]
  },
  {
   "cell_type": "code",
   "execution_count": 15,
   "metadata": {},
   "outputs": [],
   "source": [
    "from sklearn.model_selection import train_test_split\n",
    "from sklearn.linear_model import LinearRegression\n",
    "from sklearn.metrics import root_mean_squared_error,r2_score,mean_absolute_percentage_error"
   ]
  },
  {
   "cell_type": "code",
   "execution_count": 16,
   "metadata": {},
   "outputs": [],
   "source": [
    "X_train, X_test, y_train, y_test = train_test_split(X,y,test_size=.2,random_state=69)"
   ]
  },
  {
   "cell_type": "code",
   "execution_count": 17,
   "metadata": {},
   "outputs": [
    {
     "name": "stdout",
     "output_type": "stream",
     "text": [
      "RMSE: 0.05994792887068284\n",
      "R2: 0.6414908626951059\n",
      "MAPE: 0.020147996076300637\n"
     ]
    }
   ],
   "source": [
    "lr = LinearRegression()\n",
    "lr.fit(X_train, y_train)\n",
    "\n",
    "y_pred = lr.predict(X_test)\n",
    "\n",
    "print('RMSE:', root_mean_squared_error(y_test, y_pred))\n",
    "print('R2:', r2_score(y_test, y_pred))\n",
    "print('MAPE:', mean_absolute_percentage_error(y_test, y_pred))"
   ]
  },
  {
   "cell_type": "markdown",
   "metadata": {},
   "source": [
    "El logaritmo se ve reflejado en el RMSE porque es sobrer la target "
   ]
  },
  {
   "cell_type": "code",
   "execution_count": 19,
   "metadata": {},
   "outputs": [
    {
     "data": {
      "text/plain": [
       "array([2.46442547, 2.21526665, 2.26034248, 2.31146869, 2.31505959,\n",
       "       2.28760107, 2.50336971, 2.29667099, 2.3340369 , 2.38857222,\n",
       "       2.24008087, 2.30880558, 2.27227078, 2.28720172, 2.30318337,\n",
       "       2.25802097, 2.24617473, 2.31400871, 2.3100974 , 2.43397803,\n",
       "       2.37861337, 2.23490752, 2.34272521, 2.41277769, 2.35095446,\n",
       "       2.42953081, 2.31554056, 2.28474109, 2.45842695, 2.40213762,\n",
       "       2.24089498, 2.41859283, 2.43406356, 2.26314898, 2.27784051,\n",
       "       2.30504904, 2.34261477, 2.29246117, 2.28053291, 2.23778463,\n",
       "       2.2990533 , 2.48925896, 2.36620463, 2.29724595, 2.31216171,\n",
       "       2.41180424, 2.3139636 , 2.27985233, 2.27882174, 2.25419517,\n",
       "       2.26419711, 2.26923295, 2.309786  , 2.30811191, 2.41360676,\n",
       "       2.26595027, 2.44021157, 2.39160024, 2.48398712, 2.38336242,\n",
       "       2.26601259, 2.38460821, 2.28800955, 2.45075613, 2.39837877,\n",
       "       2.32238572, 2.29250466, 2.43387414, 2.43704915, 2.47998665,\n",
       "       2.56347105, 2.26030259, 2.32470982, 2.22551006, 2.38927022,\n",
       "       2.28590955, 2.45672753, 2.37527282, 2.49247918, 2.1786724 ,\n",
       "       2.28591607, 2.30554973, 2.21652904, 2.40330221, 2.27510458,\n",
       "       2.43453163, 2.28585081, 2.24245349, 2.32818733, 2.33749456,\n",
       "       2.31412755, 2.26617329, 2.37075185, 2.29171831, 2.30909853,\n",
       "       2.32189702, 2.30083735, 2.19120535, 2.30760122, 2.26259866,\n",
       "       2.3380975 , 2.31483045, 2.32567857, 2.54118698, 2.4414458 ,\n",
       "       2.25004126, 2.33353664, 2.25902831, 2.5591469 , 2.37339866,\n",
       "       2.40998205, 2.2016016 , 2.45433547, 2.2848537 , 2.29923963,\n",
       "       2.29657996, 2.3275039 , 2.36430679, 2.33697077, 2.32404869,\n",
       "       2.32315148, 2.37500117, 2.48890405, 2.28000351, 2.48751184,\n",
       "       2.31173441, 2.27630507, 2.41424485, 2.28669101, 2.28462826,\n",
       "       2.34032102, 2.41937628, 2.23043902, 2.62552231, 2.44288669,\n",
       "       2.4180467 , 2.46280325, 2.45133139, 2.23104603, 2.21093827,\n",
       "       2.37622784, 2.34853202, 2.32756849, 2.21095461, 2.42476412,\n",
       "       2.39894332, 2.29729494, 2.24685019, 2.37500117, 2.29246117,\n",
       "       2.22079372, 2.33976169, 2.27949134, 2.34214298, 2.33336762,\n",
       "       2.31274714, 2.37452899, 2.3084945 , 2.29293524, 2.35989391,\n",
       "       2.55961208, 2.41818303, 2.45284467, 2.31809141, 2.42427475,\n",
       "       2.29328397, 2.37542473, 2.31327992, 2.33267306, 2.26752315,\n",
       "       2.27695134, 2.35608808, 2.53180971, 2.28128368, 2.30337801,\n",
       "       2.28353673, 2.26228134, 2.22756498, 2.25030739, 2.27664163,\n",
       "       2.31766222, 2.27881247, 2.31274714, 2.39806699, 2.28485671,\n",
       "       2.47730606, 2.31287092, 2.23722847, 2.47426534, 2.31793184,\n",
       "       2.26134231, 2.25343128, 2.26447604, 2.3606983 , 2.31366241,\n",
       "       2.29557791, 2.38544829, 2.32783325, 2.43704915, 2.49557974,\n",
       "       2.23749783, 2.27931234, 2.2770108 , 2.22285328, 2.26649435,\n",
       "       2.36588621, 2.28127742, 2.45472194, 2.26153518, 2.32657525,\n",
       "       2.28571461, 2.25104875, 2.25302581, 2.34801324, 2.42475171,\n",
       "       2.27659473, 2.26243716, 2.23452755, 2.3036442 , 2.26586637,\n",
       "       2.30694979, 2.32817055, 2.41505595, 2.48674072, 2.34209998,\n",
       "       2.26046912, 2.23133784, 2.20227817, 2.45286333, 2.2046384 ,\n",
       "       2.25378924, 2.31366868, 2.31766222, 2.23501752, 2.44216807,\n",
       "       2.37182833, 2.29647726, 2.28086367, 2.35503034, 2.4423242 ,\n",
       "       2.32365012, 2.36756408, 2.47262403, 2.47730606, 2.37339866,\n",
       "       2.48517391, 2.30067686, 2.34670267, 2.48453299, 2.39764358,\n",
       "       2.23474756, 2.37217567, 2.5215145 , 2.42694784, 2.24469866,\n",
       "       2.26581494, 2.37892242, 2.49670938, 2.43683096, 2.26656699,\n",
       "       2.39087761, 2.29274535, 2.32836484, 2.332933  , 2.26167448,\n",
       "       2.43296561, 2.20854334, 2.32134727, 2.31216744, 2.2623507 ,\n",
       "       2.30631046, 2.3672138 , 2.27931234, 2.26127819, 2.29885077,\n",
       "       2.23762805, 2.55851029, 2.43356961, 2.33764291, 2.39806699,\n",
       "       2.32824425, 2.27810535, 2.1786724 , 2.19535614, 2.17638969,\n",
       "       2.28018228, 2.24534822, 2.38893713, 2.44127587, 2.36096211,\n",
       "       2.44007445, 2.31539394, 2.4498187 , 2.42476412, 2.48335657,\n",
       "       2.25030739, 2.12418337, 2.24105757, 2.4533736 , 2.3380975 ,\n",
       "       2.23529248, 2.43397803, 2.2959897 , 2.30413213, 2.25546248,\n",
       "       2.38609062, 2.37947036, 2.27566231, 2.26679521, 2.29420085,\n",
       "       2.26629943, 2.30631876, 2.37753491, 2.28888892, 2.26348468,\n",
       "       2.34963252, 2.34272521, 2.34304208, 2.49718584, 2.43683096])"
      ]
     },
     "execution_count": 19,
     "metadata": {},
     "output_type": "execute_result"
    }
   ],
   "source": [
    "y_pred"
   ]
  },
  {
   "cell_type": "markdown",
   "metadata": {},
   "source": [
    "esto es el alcohol en logaritmo, para mostralo definitivamente hay que devolverla con datos reales"
   ]
  },
  {
   "cell_type": "code",
   "execution_count": 20,
   "metadata": {},
   "outputs": [
    {
     "data": {
      "text/plain": [
       "array([11.75672563,  9.1638523 ,  9.58637174, 10.08923176, 10.12552633,\n",
       "        9.8512768 , 12.22361465,  9.94103352, 10.31951638, 10.89792296,\n",
       "        9.39409092, 10.06239879,  9.7014056 ,  9.84734351, 10.00598455,\n",
       "        9.56414274,  9.45151205, 10.1148912 , 10.07540597, 11.40415805,\n",
       "       10.7899308 ,  9.3456175 , 10.40956617, 11.16493088, 10.49558257,\n",
       "       11.3535539 , 10.13039749,  9.82314254, 11.68641379, 11.04676493,\n",
       "        9.40174188, 11.23004557, 11.40513345,  9.61331367,  9.7555905 ,\n",
       "       10.02466984, 10.40841667,  9.89927151,  9.7818919 ,  9.37254458,\n",
       "        9.96474441, 12.05234157, 10.65686868,  9.94675082, 10.09622617,\n",
       "       11.15406759, 10.11443483,  9.77523675,  9.76516775,  9.52762213,\n",
       "        9.623395  ,  9.67197912, 10.07226894, 10.05542114, 11.17419115,\n",
       "        9.64028114, 11.4754683 , 10.93097214, 11.98897076, 10.84129458,\n",
       "        9.64088195, 10.85480907,  9.85530161, 11.59711237, 11.00531977,\n",
       "       10.19997961,  9.89970202, 11.40297335, 11.43923537, 11.94110496,\n",
       "       12.98079622,  9.58598936, 10.2237129 ,  9.2582038 , 10.90553243,\n",
       "        9.83462722, 11.66657048, 10.75394672, 12.09121529,  8.83456965,\n",
       "        9.8346914 , 10.0296904 ,  9.17542802, 11.05963744,  9.72893639,\n",
       "       11.41047316,  9.83404956,  9.41640602, 10.25932791, 10.35525952,\n",
       "       10.11609324,  9.6424313 , 10.70543818,  9.89192052, 10.06534692,\n",
       "       10.19499607,  9.98253781,  8.9459897 , 10.05028732,  9.60802471,\n",
       "       10.36150506, 10.12320636, 10.23362196, 12.69473039, 11.48964052,\n",
       "        9.48812728, 10.31435527,  9.57378191, 12.92478653, 10.73381095,\n",
       "       11.13376127,  9.0394795 , 11.63869668,  9.82424879,  9.96660128,\n",
       "        9.94012857, 10.25231876, 10.63666283, 10.34983704, 10.216956  ,\n",
       "       10.20779337, 10.75102582, 12.04806478,  9.77671471, 12.03130304,\n",
       "       10.09191299,  9.7406229 , 11.18132364,  9.84231561,  9.82203427,\n",
       "       10.38456972, 11.23884719,  9.30394983, 13.81178629, 11.50620774,\n",
       "       11.22391418, 11.73766912, 11.60378557,  9.30959911,  9.12427339,\n",
       "       10.76422185, 10.47018838, 10.25298102,  9.12442249, 11.29956372,\n",
       "       11.01153454,  9.94723819,  9.45789828, 10.75102582,  9.89927151,\n",
       "        9.21464183, 10.3787629 ,  9.77170869, 10.4035072 , 10.31261205,\n",
       "       10.10213851, 10.74595053, 10.05926904,  9.90396555, 10.58982788,\n",
       "       12.93080019, 11.22544451, 11.62135869, 10.15627163, 11.2940355 ,\n",
       "        9.90741998, 10.75558044, 10.1075222 , 10.30545189,  9.65545609,\n",
       "        9.74692005, 10.54960147, 12.57624492,  9.78923862, 10.00793227,\n",
       "        9.81131912,  9.60497643,  9.27724828,  9.49065273,  9.74390178,\n",
       "       10.15191362,  9.76507715, 10.10213851, 11.00188903,  9.82427841,\n",
       "       11.9091387 , 10.10338908,  9.36733347, 11.87298125, 10.15465116,\n",
       "        9.59596133,  9.52034684,  9.62607957, 10.59834969, 10.11138895,\n",
       "        9.93017307, 10.86393178, 10.25569589, 11.43923537, 12.12876306,\n",
       "        9.36985694,  9.76995967,  9.74749957,  9.23363945,  9.64552764,\n",
       "       10.65347583,  9.78917734, 11.6431956 ,  9.59781226, 10.24280237,\n",
       "        9.8327103 ,  9.49769129,  9.51648739, 10.46475806, 11.29942358,\n",
       "        9.74344482,  9.60647316,  9.34206715, 10.01059671,  9.63947231,\n",
       "       10.04374239, 10.25915572, 11.19039641, 12.02202906, 10.40305982,\n",
       "        9.5875858 ,  9.31231616,  9.04559742, 11.62157551,  9.06697239,\n",
       "        9.52375535, 10.11145233, 10.15191362,  9.34664558, 11.49794211,\n",
       "       10.71696855,  9.93910784,  9.78512791, 10.5384486 , 11.49973741,\n",
       "       10.21288459, 10.67136602, 11.85351008, 11.9091387 , 10.73381095,\n",
       "       12.0032075 ,  9.98093587, 10.45105225, 11.99551695, 10.99723171,\n",
       "        9.34412268, 10.72069163, 12.44743407, 11.32426576,  9.43757125,\n",
       "        9.63897658, 10.79326597, 12.14247184, 11.43673977,  9.64622826,\n",
       "       10.92307593,  9.90208509, 10.26114924, 10.30813095,  9.5991493 ,\n",
       "       11.39261812,  9.10244759, 10.18939294, 10.096284  ,  9.60564267,\n",
       "       10.03732316, 10.66762865,  9.76995967,  9.59534598,  9.9627264 ,\n",
       "        9.37107722, 12.91656108, 11.39950133, 10.35679584, 11.00188903,\n",
       "       10.25991187,  9.75817458,  8.83456965,  8.98319974,  8.81442594,\n",
       "        9.7784627 ,  9.44370344, 10.9019005 , 11.48768817, 10.60114604,\n",
       "       11.47389489, 10.12891227, 11.58624594, 11.29956372, 11.98141351,\n",
       "        9.49065273,  8.3660627 ,  9.40327069, 11.62750723, 10.36150506,\n",
       "        9.34921592, 11.40415805,  9.93426307, 10.01548238,  9.53970418,\n",
       "       10.87091219, 10.79918167,  9.73436403,  9.64843   ,  9.91650805,\n",
       "        9.6436477 , 10.03740642, 10.77830066,  9.86397195,  9.61654137,\n",
       "       10.48171719, 10.40956617, 10.41286523, 12.14825863, 11.43673977])"
      ]
     },
     "execution_count": 20,
     "metadata": {},
     "output_type": "execute_result"
    }
   ],
   "source": [
    "np.exp(y_pred)"
   ]
  },
  {
   "cell_type": "markdown",
   "metadata": {},
   "source": [
    "- Para reducir el valor es importante informandose para bajar el error, por lo que para bajar el error se puede hacer un future engineer cambiando los datos.\n",
    "\n",
    "- Otra forma es estandarizar nuestros datos ya que cada uno esta medido de una forma disitinta por lo que se estandariza"
   ]
  },
  {
   "cell_type": "code",
   "execution_count": 39,
   "metadata": {},
   "outputs": [],
   "source": [
    "from sklearn.preprocessing import StandardScaler, MinMaxScaler,PowerTransformer\n",
    "esc= PowerTransformer()\n",
    "esc.fit(X)\n",
    "X_esc=esc.transform(X)"
   ]
  },
  {
   "cell_type": "code",
   "execution_count": 41,
   "metadata": {},
   "outputs": [],
   "source": [
    "X=X_esc"
   ]
  },
  {
   "cell_type": "code",
   "execution_count": 42,
   "metadata": {},
   "outputs": [],
   "source": [
    "X_train, X_test, y_train, y_test = train_test_split(X,y,test_size=.2,random_state=69)"
   ]
  },
  {
   "cell_type": "code",
   "execution_count": 43,
   "metadata": {},
   "outputs": [
    {
     "name": "stdout",
     "output_type": "stream",
     "text": [
      "RMSE: 0.060982880169881105\n",
      "R2: 0.6290052823203862\n",
      "MAPE: 0.020120746775673826\n"
     ]
    }
   ],
   "source": [
    "lr = LinearRegression()\n",
    "lr.fit(X_train, y_train)\n",
    "\n",
    "y_pred = lr.predict(X_test)\n",
    "\n",
    "print('RMSE:', root_mean_squared_error(y_test, y_pred))\n",
    "print('R2:', r2_score(y_test, y_pred))\n",
    "print('MAPE:', mean_absolute_percentage_error(y_test, y_pred))"
   ]
  },
  {
   "cell_type": "code",
   "execution_count": 46,
   "metadata": {},
   "outputs": [
    {
     "data": {
      "text/html": [
       "<div>\n",
       "<style scoped>\n",
       "    .dataframe tbody tr th:only-of-type {\n",
       "        vertical-align: middle;\n",
       "    }\n",
       "\n",
       "    .dataframe tbody tr th {\n",
       "        vertical-align: top;\n",
       "    }\n",
       "\n",
       "    .dataframe thead th {\n",
       "        text-align: right;\n",
       "    }\n",
       "</style>\n",
       "<table border=\"1\" class=\"dataframe\">\n",
       "  <thead>\n",
       "    <tr style=\"text-align: right;\">\n",
       "      <th></th>\n",
       "      <th>0</th>\n",
       "      <th>1</th>\n",
       "      <th>2</th>\n",
       "      <th>3</th>\n",
       "      <th>4</th>\n",
       "      <th>5</th>\n",
       "      <th>6</th>\n",
       "      <th>7</th>\n",
       "      <th>8</th>\n",
       "      <th>9</th>\n",
       "      <th>10</th>\n",
       "    </tr>\n",
       "  </thead>\n",
       "  <tbody>\n",
       "    <tr>\n",
       "      <th>count</th>\n",
       "      <td>1.599000e+03</td>\n",
       "      <td>1.599000e+03</td>\n",
       "      <td>1.599000e+03</td>\n",
       "      <td>1.599000e+03</td>\n",
       "      <td>1.599000e+03</td>\n",
       "      <td>1.599000e+03</td>\n",
       "      <td>1.599000e+03</td>\n",
       "      <td>1.599000e+03</td>\n",
       "      <td>1.599000e+03</td>\n",
       "      <td>1.599000e+03</td>\n",
       "      <td>1.599000e+03</td>\n",
       "    </tr>\n",
       "    <tr>\n",
       "      <th>mean</th>\n",
       "      <td>3.554936e-17</td>\n",
       "      <td>2.799512e-16</td>\n",
       "      <td>1.510848e-16</td>\n",
       "      <td>5.687897e-16</td>\n",
       "      <td>-3.554936e-17</td>\n",
       "      <td>1.155354e-16</td>\n",
       "      <td>-1.955215e-16</td>\n",
       "      <td>-3.554936e-17</td>\n",
       "      <td>-1.777468e-16</td>\n",
       "      <td>-2.399581e-16</td>\n",
       "      <td>-6.221137e-17</td>\n",
       "    </tr>\n",
       "    <tr>\n",
       "      <th>std</th>\n",
       "      <td>1.000313e+00</td>\n",
       "      <td>1.000313e+00</td>\n",
       "      <td>1.000313e+00</td>\n",
       "      <td>1.000313e+00</td>\n",
       "      <td>1.000313e+00</td>\n",
       "      <td>1.000313e+00</td>\n",
       "      <td>1.000313e+00</td>\n",
       "      <td>1.000313e+00</td>\n",
       "      <td>1.000313e+00</td>\n",
       "      <td>1.000313e+00</td>\n",
       "      <td>1.000313e+00</td>\n",
       "    </tr>\n",
       "    <tr>\n",
       "      <th>min</th>\n",
       "      <td>-3.360199e+00</td>\n",
       "      <td>-2.942699e+00</td>\n",
       "      <td>-1.531109e+00</td>\n",
       "      <td>-4.085344e+00</td>\n",
       "      <td>-6.765715e+00</td>\n",
       "      <td>-2.193511e+00</td>\n",
       "      <td>-1.903515e+00</td>\n",
       "      <td>-3.605861e+00</td>\n",
       "      <td>-4.053537e+00</td>\n",
       "      <td>-3.952592e+00</td>\n",
       "      <td>-3.617168e+00</td>\n",
       "    </tr>\n",
       "    <tr>\n",
       "      <th>25%</th>\n",
       "      <td>-6.767407e-01</td>\n",
       "      <td>-7.529664e-01</td>\n",
       "      <td>-9.298079e-01</td>\n",
       "      <td>-6.330183e-01</td>\n",
       "      <td>-5.032389e-01</td>\n",
       "      <td>-9.538515e-01</td>\n",
       "      <td>-8.141808e-01</td>\n",
       "      <td>-6.043213e-01</td>\n",
       "      <td>-6.424181e-01</td>\n",
       "      <td>-6.831048e-01</td>\n",
       "      <td>-7.775638e-01</td>\n",
       "    </tr>\n",
       "    <tr>\n",
       "      <th>50%</th>\n",
       "      <td>-9.637618e-02</td>\n",
       "      <td>5.781454e-02</td>\n",
       "      <td>4.423533e-02</td>\n",
       "      <td>-4.041238e-02</td>\n",
       "      <td>-1.618474e-02</td>\n",
       "      <td>4.770364e-02</td>\n",
       "      <td>-2.799171e-02</td>\n",
       "      <td>6.897956e-03</td>\n",
       "      <td>1.564952e-02</td>\n",
       "      <td>-4.943516e-02</td>\n",
       "      <td>4.741336e-01</td>\n",
       "    </tr>\n",
       "    <tr>\n",
       "      <th>75%</th>\n",
       "      <td>6.654430e-01</td>\n",
       "      <td>7.044123e-01</td>\n",
       "      <td>8.138191e-01</td>\n",
       "      <td>5.600667e-01</td>\n",
       "      <td>4.796797e-01</td>\n",
       "      <td>7.422879e-01</td>\n",
       "      <td>7.792013e-01</td>\n",
       "      <td>5.800789e-01</td>\n",
       "      <td>5.914238e-01</td>\n",
       "      <td>7.091934e-01</td>\n",
       "      <td>4.741336e-01</td>\n",
       "    </tr>\n",
       "    <tr>\n",
       "      <th>max</th>\n",
       "      <td>2.725096e+00</td>\n",
       "      <td>3.818735e+00</td>\n",
       "      <td>2.860035e+00</td>\n",
       "      <td>2.360793e+00</td>\n",
       "      <td>2.933821e+00</td>\n",
       "      <td>2.482690e+00</td>\n",
       "      <td>2.431673e+00</td>\n",
       "      <td>3.621990e+00</td>\n",
       "      <td>4.156843e+00</td>\n",
       "      <td>2.898250e+00</td>\n",
       "      <td>2.741353e+00</td>\n",
       "    </tr>\n",
       "  </tbody>\n",
       "</table>\n",
       "</div>"
      ],
      "text/plain": [
       "                 0             1             2             3             4   \\\n",
       "count  1.599000e+03  1.599000e+03  1.599000e+03  1.599000e+03  1.599000e+03   \n",
       "mean   3.554936e-17  2.799512e-16  1.510848e-16  5.687897e-16 -3.554936e-17   \n",
       "std    1.000313e+00  1.000313e+00  1.000313e+00  1.000313e+00  1.000313e+00   \n",
       "min   -3.360199e+00 -2.942699e+00 -1.531109e+00 -4.085344e+00 -6.765715e+00   \n",
       "25%   -6.767407e-01 -7.529664e-01 -9.298079e-01 -6.330183e-01 -5.032389e-01   \n",
       "50%   -9.637618e-02  5.781454e-02  4.423533e-02 -4.041238e-02 -1.618474e-02   \n",
       "75%    6.654430e-01  7.044123e-01  8.138191e-01  5.600667e-01  4.796797e-01   \n",
       "max    2.725096e+00  3.818735e+00  2.860035e+00  2.360793e+00  2.933821e+00   \n",
       "\n",
       "                 5             6             7             8             9   \\\n",
       "count  1.599000e+03  1.599000e+03  1.599000e+03  1.599000e+03  1.599000e+03   \n",
       "mean   1.155354e-16 -1.955215e-16 -3.554936e-17 -1.777468e-16 -2.399581e-16   \n",
       "std    1.000313e+00  1.000313e+00  1.000313e+00  1.000313e+00  1.000313e+00   \n",
       "min   -2.193511e+00 -1.903515e+00 -3.605861e+00 -4.053537e+00 -3.952592e+00   \n",
       "25%   -9.538515e-01 -8.141808e-01 -6.043213e-01 -6.424181e-01 -6.831048e-01   \n",
       "50%    4.770364e-02 -2.799171e-02  6.897956e-03  1.564952e-02 -4.943516e-02   \n",
       "75%    7.422879e-01  7.792013e-01  5.800789e-01  5.914238e-01  7.091934e-01   \n",
       "max    2.482690e+00  2.431673e+00  3.621990e+00  4.156843e+00  2.898250e+00   \n",
       "\n",
       "                 10  \n",
       "count  1.599000e+03  \n",
       "mean  -6.221137e-17  \n",
       "std    1.000313e+00  \n",
       "min   -3.617168e+00  \n",
       "25%   -7.775638e-01  \n",
       "50%    4.741336e-01  \n",
       "75%    4.741336e-01  \n",
       "max    2.741353e+00  "
      ]
     },
     "execution_count": 46,
     "metadata": {},
     "output_type": "execute_result"
    }
   ],
   "source": [
    "pd.DataFrame(X).describe()"
   ]
  },
  {
   "cell_type": "markdown",
   "metadata": {},
   "source": [
    "No sirve lo de escalar para reducir el error, por lo que la mejor forma este caso es investigar y  hacer lo de la multiplicación."
   ]
  },
  {
   "cell_type": "code",
   "execution_count": 47,
   "metadata": {},
   "outputs": [],
   "source": [
    "#pd.DataFrame(lr.coef_.reshape(1,-1), columns=X.columns)"
   ]
  },
  {
   "cell_type": "code",
   "execution_count": 24,
   "metadata": {},
   "outputs": [
    {
     "data": {
      "text/plain": [
       "np.float64(53.23877019391017)"
      ]
     },
     "execution_count": 24,
     "metadata": {},
     "output_type": "execute_result"
    }
   ],
   "source": [
    "lr.intercept_"
   ]
  },
  {
   "cell_type": "markdown",
   "metadata": {},
   "source": [
    "Lo suyo es hacer varios notebooks y es importante hacer diferentes notebooks con los experimentos que se hagan."
   ]
  },
  {
   "cell_type": "markdown",
   "metadata": {},
   "source": [
    "----------------------------------------------------------------"
   ]
  },
  {
   "cell_type": "markdown",
   "metadata": {},
   "source": [
    "## Clase regresión lineal "
   ]
  },
  {
   "cell_type": "code",
   "execution_count": 58,
   "metadata": {},
   "outputs": [],
   "source": [
    "import numpy as np\n",
    "import pandas as pd\n",
    "\n",
    "class LinearRegressionBootcamp:\n",
    "    def __init__(self, normalized=False):\n",
    "        self.coeficientes = None\n",
    "        self.intercepto = None\n",
    "        self.media = None\n",
    "        self.desviacion_estandar = None\n",
    "        self.normalized = normalized\n",
    "\n",
    "    def _normalizado_features(self, X:pd.DataFrame):\n",
    "        if self.media is None or self.desviacion_estandar is None:\n",
    "            self.media = X.mean(axis=0)\n",
    "            self.desviacion_estandar = X.std(axis=0)\n",
    "\n",
    "        return (X - self.media) / self.desviacion_estandar\n",
    "\n",
    "    def fit(self, df:pd.DataFrame, target:str):\n",
    "        X = df.drop(columns=target)\n",
    "        self.feature_columns = X.columns\n",
    "        y = df[target].values\n",
    "\n",
    "        if self.normalized:\n",
    "            X = self._normalizado_features(X)\n",
    "\n",
    "        X = np.c_[np.ones(X.shape[0]), X]\n",
    "\n",
    "        theta = np.linalg.solve(X.T @ X, X.T @ y)\n",
    "\n",
    "        self.intercepto = theta[0]\n",
    "        self.coeficientes = theta[1:]  # Corregido: los coeficientes son desde el índice 1\n",
    "\n",
    "    def predict(self, df: pd.DataFrame):\n",
    "        if self.coeficientes is None or self.intercepto is None:\n",
    "            raise ValueError('El modelo no ha sido entrenado.')\n",
    "\n",
    "        X = df[self.feature_columns].copy()\n",
    "\n",
    "        if self.normalized:\n",
    "            X = self._normalizado_features(X)\n",
    "\n",
    "        X = X.values  # Convertimos a numpy array después de normalizar\n",
    "\n",
    "        y_pred = self.intercepto + np.dot(X, self.coeficientes)\n",
    "\n",
    "        return y_pred"
   ]
  },
  {
   "cell_type": "code",
   "execution_count": 59,
   "metadata": {},
   "outputs": [
    {
     "name": "stdout",
     "output_type": "stream",
     "text": [
      "Intercepto: 10.422983114446492\n",
      "Coeficientes: [ 0.85745535  0.10552457  0.15968768  0.36993179 -0.04390991 -0.03157529\n",
      " -0.04573902 -1.08263909  0.55842251  0.1617152   0.18753436]\n",
      "RMSE: 0.5919529738606677\n",
      "R2: 0.6912531089251452\n",
      "MAPE: 0.04329530043897454\n"
     ]
    }
   ],
   "source": [
    "model = LinearRegressionBootcamp(normalized=True)\n",
    "\n",
    "model.fit(df, 'alcohol')\n",
    "\n",
    "print('Intercepto:', model.intercepto)\n",
    "print('Coeficientes:', model.coeficientes)\n",
    "\n",
    "y_pred = model.predict(df)\n",
    "\n",
    "print('RMSE:', root_mean_squared_error(df['alcohol'].values, y_pred))\n",
    "print('R2:', r2_score(df['alcohol'].values, y_pred))\n",
    "print('MAPE:', mean_absolute_percentage_error(df['alcohol'].values, y_pred))"
   ]
  },
  {
   "cell_type": "code",
   "execution_count": null,
   "metadata": {},
   "outputs": [],
   "source": []
  }
 ],
 "metadata": {
  "kernelspec": {
   "display_name": ".venv",
   "language": "python",
   "name": "python3"
  },
  "language_info": {
   "codemirror_mode": {
    "name": "ipython",
    "version": 3
   },
   "file_extension": ".py",
   "mimetype": "text/x-python",
   "name": "python",
   "nbconvert_exporter": "python",
   "pygments_lexer": "ipython3",
   "version": "3.13.0"
  }
 },
 "nbformat": 4,
 "nbformat_minor": 2
}
