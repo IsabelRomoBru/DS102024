{
 "cells": [
  {
   "cell_type": "markdown",
   "metadata": {},
   "source": [
    "![](img/arima.jpeg)"
   ]
  },
  {
   "cell_type": "markdown",
   "metadata": {},
   "source": [
    "El mundo de la previsión de series temporales mediante modelos ARIMA (media móvil integrada autorregresiva) y SARIMAX (media móvil integrada autorregresiva estacional con regresores eXógenos) en Python, el panorama actual, impulsado por los datos, la capacidad de predecir con exactitud las tendencias futuras tiene un valor incalculable. Ya se trate de predecir los movimientos del mercado de valores, los patrones meteorológicos o la planificación de las ventas de productos, comprender y utilizar estas potentes herramientas estadísticas puede proporcionarle una ventaja significativa.\n",
    "\n",
    "Este notebook le guiará a través de los modelos ARIMA y SARIMAX, dos de las metodologías más utilizadas en el análisis de series temporales. Exploraremos sus fundamentos teóricos, sus implementaciones prácticas en Python y sus aplicaciones en escenarios reales."
   ]
  },
  {
   "cell_type": "markdown",
   "metadata": {},
   "source": [
    "## Entendiendo ARIMA y SARIMAX\n",
    "Antes de sumergirnos en las implementaciones de Python, aclaremos qué son los modelos ARIMA y SARIMAX y en qué se diferencian.\n",
    "\n",
    "- **Modelo ARIMA**:\n",
    "\n",
    "    El modelo ARIMA es una mezcla de tres componentes:\n",
    "\n",
    "    1. **Autorregresivo (AR)**: Esta parte capta la relación entre el valor actual de una variable y sus valores anteriores.\n",
    "    2. **Integrada (I)**: Implica diferenciar los datos una o más veces para hacer estacionaria la serie temporal.\n",
    "    3. **Media móvil (MA)**: Este componente modela el término de error como una combinación lineal de términos de error en puntos temporales anteriores.\n",
    "\n",
    "    El modelo ARIMA se denomina ARIMA(p, d, q), donde:\n",
    "\n",
    "    - *p* es el número de observaciones retardadas en el modelo AR.\n",
    "    - *d* es el grado de diferenciación.\n",
    "    - *q* es el tamaño de la ventana de la media móvil.\n",
    "\n",
    "- Modelo SARIMAX\n",
    "\n",
    "    SARIMAX amplía ARIMA añadiendo dos aspectos clave:\n",
    "\n",
    "    1. **Estacionalidad**: Tiene en cuenta las variaciones estacionales utilizando los elementos estacionales P, D, Q y m.\n",
    "    2. **Regresores exógenos**: Son variables externas que pueden influir en la variable pronosticada.\n",
    "    \n",
    "    En SARIMAX(P, D, Q, m), los parámetros representan:\n",
    "\n",
    "    - *P, D, Q*: Componentes estacionales equivalentes a p, d, q en ARIMA.\n",
    "    - *m*: Número de periodos de cada estación.\n",
    "    \n",
    "    Cuando P, D, Q y m son cero y no se incluyen variables exógenas, SARIMAX se simplifica a un modelo ARIMA."
   ]
  },
  {
   "cell_type": "markdown",
   "metadata": {},
   "source": [
    "## Librerías Python para ARIMA y SARIMAX\n",
    "\n",
    "1. **Statsmodels**:\n",
    "\n",
    "    Es una biblioteca completa para la modelización estadística. Es particularmente fácil de usar para aquellos con experiencia en R.\n",
    "\n",
    "2. **pmdarima**:\n",
    "\n",
    "    Adapta el modelo SARIMAX de statsmodels a la API de scikit-learn, por lo que es una gran opción para los usuarios familiarizados con scikit-learn.\n",
    "\n",
    "3. **skforecast**:\n",
    "\n",
    "    Adapta el modelo statsmodels SARIMAX y está diseñado para ofrecer velocidad y simplicidad, alineándose con la API de scikit-learn.\n"
   ]
  },
  {
   "cell_type": "markdown",
   "metadata": {},
   "source": [
    "### ForecasterSarimax\n",
    "\n",
    "La clase ForecasterSarimax permite entrenar y validar modelos ARIMA y SARIMAX utilizando la API de skforecast. ForecasterSarimax es compatible con la implementación Sarimax de skforecast, un novedoso envoltorio para los modelos estadísticos SARIMAX que también sigue la API de sklearn. Esta implementación es muy similar a pmdarima, pero se ha racionalizado para incluir sólo los elementos esenciales para skforecast, lo que se traduce en importantes mejoras de velocidad.\n"
   ]
  },
  {
   "cell_type": "code",
   "execution_count": 1,
   "metadata": {},
   "outputs": [],
   "source": [
    "# Librerías\n",
    "import numpy as np\n",
    "import pandas as pd\n",
    "import matplotlib.pyplot as plt\n",
    "import warnings\n",
    "plt.style.use('seaborn-v0_8-darkgrid')\n",
    "\n",
    "# statsmodels\n",
    "from statsmodels.tsa.stattools import adfuller, kpss\n",
    "from statsmodels.tsa.seasonal import seasonal_decompose\n",
    "from statsmodels.graphics.tsaplots import plot_acf, plot_pacf\n",
    "\n",
    "# # skforecast\n",
    "from skforecast.datasets import fetch_dataset\n",
    "from skforecast.model_selection import TimeSeriesFold\n",
    "\n",
    "# from skforecast.plot import set_dark_theme\n",
    "from skforecast.sarimax import Sarimax\n",
    "from skforecast.recursive import ForecasterSarimax\n",
    "from skforecast.model_selection import backtesting_sarimax, grid_search_sarimax\n",
    "from sklearn.metrics import mean_absolute_error,root_mean_squared_error\n",
    "warnings.filterwarnings(\"ignore\", category=FutureWarning, module=\"sklearn\")\n",
    "\n"
   ]
  },
  {
   "cell_type": "markdown",
   "metadata": {},
   "source": [
    "## **1. Datos**\n",
    "El conjunto de datos de este documento es un resumen del consumo mensual de combustible en España."
   ]
  },
  {
   "cell_type": "code",
   "execution_count": 6,
   "metadata": {},
   "outputs": [
    {
     "name": "stdout",
     "output_type": "stream",
     "text": [
      "        Fecha          GLPs    Gasolinas   Querosenos     Gasoleos  \\\n",
      "0  1969-01-01  133615.09620  166875.2129  123257.8090  401185.2939   \n",
      "1  1969-02-01  126748.47410  155466.8105  114682.5767  385360.0381   \n",
      "2  1969-03-01  107795.80910  184983.6699  109970.0796  418955.5808   \n",
      "3  1969-04-01   96683.15967  202319.8164  108797.9255  438975.5445   \n",
      "4  1969-05-01   79506.23804  206259.1523  103554.0784  467451.9469   \n",
      "\n",
      "     Fueloleos  \n",
      "0  912583.4202  \n",
      "1  851877.8115  \n",
      "2  873884.2933  \n",
      "3  755490.1170  \n",
      "4  729963.6009  \n"
     ]
    },
    {
     "name": "stderr",
     "output_type": "stream",
     "text": [
      "/Users/isaromobru/Desktop/DS102024_/.venv/lib/python3.11/site-packages/urllib3/connectionpool.py:1097: InsecureRequestWarning: Unverified HTTPS request is being made to host 'raw.githubusercontent.com'. Adding certificate verification is strongly advised. See: https://urllib3.readthedocs.io/en/latest/advanced-usage.html#tls-warnings\n",
      "  warnings.warn(\n"
     ]
    }
   ],
   "source": [
    "import pandas as pd\n",
    "import requests\n",
    "from io import StringIO\n",
    "\n",
    "url = \"https://raw.githubusercontent.com/skforecast/skforecast-datasets/main/data/consumos-combustibles-mensual.csv\"\n",
    "\n",
    "response = requests.get(url, verify=False)  # Desactiva la verificación SSL\n",
    "if response.status_code == 200:\n",
    "    datos = pd.read_csv(StringIO(response.text))\n",
    "    print(datos.head())\n",
    "else:\n",
    "    print(\"Error al descargar los datos\")\n"
   ]
  },
  {
   "cell_type": "code",
   "execution_count": 5,
   "metadata": {},
   "outputs": [
    {
     "ename": "ValueError",
     "evalue": "Error reading dataset 'fuel_consumption' from https://raw.githubusercontent.com/skforecast/skforecast-datasets/main/data/consumos-combustibles-mensual.csv. Try to version = 'latest'",
     "output_type": "error",
     "traceback": [
      "\u001b[0;31m---------------------------------------------------------------------------\u001b[0m",
      "\u001b[0;31mSSLCertVerificationError\u001b[0m                  Traceback (most recent call last)",
      "File \u001b[0;32m/Library/Frameworks/Python.framework/Versions/3.11/lib/python3.11/urllib/request.py:1348\u001b[0m, in \u001b[0;36mAbstractHTTPHandler.do_open\u001b[0;34m(self, http_class, req, **http_conn_args)\u001b[0m\n\u001b[1;32m   1347\u001b[0m \u001b[38;5;28;01mtry\u001b[39;00m:\n\u001b[0;32m-> 1348\u001b[0m     \u001b[43mh\u001b[49m\u001b[38;5;241;43m.\u001b[39;49m\u001b[43mrequest\u001b[49m\u001b[43m(\u001b[49m\u001b[43mreq\u001b[49m\u001b[38;5;241;43m.\u001b[39;49m\u001b[43mget_method\u001b[49m\u001b[43m(\u001b[49m\u001b[43m)\u001b[49m\u001b[43m,\u001b[49m\u001b[43m \u001b[49m\u001b[43mreq\u001b[49m\u001b[38;5;241;43m.\u001b[39;49m\u001b[43mselector\u001b[49m\u001b[43m,\u001b[49m\u001b[43m \u001b[49m\u001b[43mreq\u001b[49m\u001b[38;5;241;43m.\u001b[39;49m\u001b[43mdata\u001b[49m\u001b[43m,\u001b[49m\u001b[43m \u001b[49m\u001b[43mheaders\u001b[49m\u001b[43m,\u001b[49m\n\u001b[1;32m   1349\u001b[0m \u001b[43m              \u001b[49m\u001b[43mencode_chunked\u001b[49m\u001b[38;5;241;43m=\u001b[39;49m\u001b[43mreq\u001b[49m\u001b[38;5;241;43m.\u001b[39;49m\u001b[43mhas_header\u001b[49m\u001b[43m(\u001b[49m\u001b[38;5;124;43m'\u001b[39;49m\u001b[38;5;124;43mTransfer-encoding\u001b[39;49m\u001b[38;5;124;43m'\u001b[39;49m\u001b[43m)\u001b[49m\u001b[43m)\u001b[49m\n\u001b[1;32m   1350\u001b[0m \u001b[38;5;28;01mexcept\u001b[39;00m \u001b[38;5;167;01mOSError\u001b[39;00m \u001b[38;5;28;01mas\u001b[39;00m err: \u001b[38;5;66;03m# timeout error\u001b[39;00m\n",
      "File \u001b[0;32m/Library/Frameworks/Python.framework/Versions/3.11/lib/python3.11/http/client.py:1294\u001b[0m, in \u001b[0;36mHTTPConnection.request\u001b[0;34m(self, method, url, body, headers, encode_chunked)\u001b[0m\n\u001b[1;32m   1293\u001b[0m \u001b[38;5;250m\u001b[39m\u001b[38;5;124;03m\"\"\"Send a complete request to the server.\"\"\"\u001b[39;00m\n\u001b[0;32m-> 1294\u001b[0m \u001b[38;5;28;43mself\u001b[39;49m\u001b[38;5;241;43m.\u001b[39;49m\u001b[43m_send_request\u001b[49m\u001b[43m(\u001b[49m\u001b[43mmethod\u001b[49m\u001b[43m,\u001b[49m\u001b[43m \u001b[49m\u001b[43murl\u001b[49m\u001b[43m,\u001b[49m\u001b[43m \u001b[49m\u001b[43mbody\u001b[49m\u001b[43m,\u001b[49m\u001b[43m \u001b[49m\u001b[43mheaders\u001b[49m\u001b[43m,\u001b[49m\u001b[43m \u001b[49m\u001b[43mencode_chunked\u001b[49m\u001b[43m)\u001b[49m\n",
      "File \u001b[0;32m/Library/Frameworks/Python.framework/Versions/3.11/lib/python3.11/http/client.py:1340\u001b[0m, in \u001b[0;36mHTTPConnection._send_request\u001b[0;34m(self, method, url, body, headers, encode_chunked)\u001b[0m\n\u001b[1;32m   1339\u001b[0m     body \u001b[38;5;241m=\u001b[39m _encode(body, \u001b[38;5;124m'\u001b[39m\u001b[38;5;124mbody\u001b[39m\u001b[38;5;124m'\u001b[39m)\n\u001b[0;32m-> 1340\u001b[0m \u001b[38;5;28;43mself\u001b[39;49m\u001b[38;5;241;43m.\u001b[39;49m\u001b[43mendheaders\u001b[49m\u001b[43m(\u001b[49m\u001b[43mbody\u001b[49m\u001b[43m,\u001b[49m\u001b[43m \u001b[49m\u001b[43mencode_chunked\u001b[49m\u001b[38;5;241;43m=\u001b[39;49m\u001b[43mencode_chunked\u001b[49m\u001b[43m)\u001b[49m\n",
      "File \u001b[0;32m/Library/Frameworks/Python.framework/Versions/3.11/lib/python3.11/http/client.py:1289\u001b[0m, in \u001b[0;36mHTTPConnection.endheaders\u001b[0;34m(self, message_body, encode_chunked)\u001b[0m\n\u001b[1;32m   1288\u001b[0m     \u001b[38;5;28;01mraise\u001b[39;00m CannotSendHeader()\n\u001b[0;32m-> 1289\u001b[0m \u001b[38;5;28;43mself\u001b[39;49m\u001b[38;5;241;43m.\u001b[39;49m\u001b[43m_send_output\u001b[49m\u001b[43m(\u001b[49m\u001b[43mmessage_body\u001b[49m\u001b[43m,\u001b[49m\u001b[43m \u001b[49m\u001b[43mencode_chunked\u001b[49m\u001b[38;5;241;43m=\u001b[39;49m\u001b[43mencode_chunked\u001b[49m\u001b[43m)\u001b[49m\n",
      "File \u001b[0;32m/Library/Frameworks/Python.framework/Versions/3.11/lib/python3.11/http/client.py:1048\u001b[0m, in \u001b[0;36mHTTPConnection._send_output\u001b[0;34m(self, message_body, encode_chunked)\u001b[0m\n\u001b[1;32m   1047\u001b[0m \u001b[38;5;28;01mdel\u001b[39;00m \u001b[38;5;28mself\u001b[39m\u001b[38;5;241m.\u001b[39m_buffer[:]\n\u001b[0;32m-> 1048\u001b[0m \u001b[38;5;28;43mself\u001b[39;49m\u001b[38;5;241;43m.\u001b[39;49m\u001b[43msend\u001b[49m\u001b[43m(\u001b[49m\u001b[43mmsg\u001b[49m\u001b[43m)\u001b[49m\n\u001b[1;32m   1050\u001b[0m \u001b[38;5;28;01mif\u001b[39;00m message_body \u001b[38;5;129;01mis\u001b[39;00m \u001b[38;5;129;01mnot\u001b[39;00m \u001b[38;5;28;01mNone\u001b[39;00m:\n\u001b[1;32m   1051\u001b[0m \n\u001b[1;32m   1052\u001b[0m     \u001b[38;5;66;03m# create a consistent interface to message_body\u001b[39;00m\n",
      "File \u001b[0;32m/Library/Frameworks/Python.framework/Versions/3.11/lib/python3.11/http/client.py:986\u001b[0m, in \u001b[0;36mHTTPConnection.send\u001b[0;34m(self, data)\u001b[0m\n\u001b[1;32m    985\u001b[0m \u001b[38;5;28;01mif\u001b[39;00m \u001b[38;5;28mself\u001b[39m\u001b[38;5;241m.\u001b[39mauto_open:\n\u001b[0;32m--> 986\u001b[0m     \u001b[38;5;28;43mself\u001b[39;49m\u001b[38;5;241;43m.\u001b[39;49m\u001b[43mconnect\u001b[49m\u001b[43m(\u001b[49m\u001b[43m)\u001b[49m\n\u001b[1;32m    987\u001b[0m \u001b[38;5;28;01melse\u001b[39;00m:\n",
      "File \u001b[0;32m/Library/Frameworks/Python.framework/Versions/3.11/lib/python3.11/http/client.py:1466\u001b[0m, in \u001b[0;36mHTTPSConnection.connect\u001b[0;34m(self)\u001b[0m\n\u001b[1;32m   1464\u001b[0m     server_hostname \u001b[38;5;241m=\u001b[39m \u001b[38;5;28mself\u001b[39m\u001b[38;5;241m.\u001b[39mhost\n\u001b[0;32m-> 1466\u001b[0m \u001b[38;5;28mself\u001b[39m\u001b[38;5;241m.\u001b[39msock \u001b[38;5;241m=\u001b[39m \u001b[38;5;28;43mself\u001b[39;49m\u001b[38;5;241;43m.\u001b[39;49m\u001b[43m_context\u001b[49m\u001b[38;5;241;43m.\u001b[39;49m\u001b[43mwrap_socket\u001b[49m\u001b[43m(\u001b[49m\u001b[38;5;28;43mself\u001b[39;49m\u001b[38;5;241;43m.\u001b[39;49m\u001b[43msock\u001b[49m\u001b[43m,\u001b[49m\n\u001b[1;32m   1467\u001b[0m \u001b[43m                                      \u001b[49m\u001b[43mserver_hostname\u001b[49m\u001b[38;5;241;43m=\u001b[39;49m\u001b[43mserver_hostname\u001b[49m\u001b[43m)\u001b[49m\n",
      "File \u001b[0;32m/Library/Frameworks/Python.framework/Versions/3.11/lib/python3.11/ssl.py:517\u001b[0m, in \u001b[0;36mSSLContext.wrap_socket\u001b[0;34m(self, sock, server_side, do_handshake_on_connect, suppress_ragged_eofs, server_hostname, session)\u001b[0m\n\u001b[1;32m    511\u001b[0m \u001b[38;5;28;01mdef\u001b[39;00m\u001b[38;5;250m \u001b[39m\u001b[38;5;21mwrap_socket\u001b[39m(\u001b[38;5;28mself\u001b[39m, sock, server_side\u001b[38;5;241m=\u001b[39m\u001b[38;5;28;01mFalse\u001b[39;00m,\n\u001b[1;32m    512\u001b[0m                 do_handshake_on_connect\u001b[38;5;241m=\u001b[39m\u001b[38;5;28;01mTrue\u001b[39;00m,\n\u001b[1;32m    513\u001b[0m                 suppress_ragged_eofs\u001b[38;5;241m=\u001b[39m\u001b[38;5;28;01mTrue\u001b[39;00m,\n\u001b[1;32m    514\u001b[0m                 server_hostname\u001b[38;5;241m=\u001b[39m\u001b[38;5;28;01mNone\u001b[39;00m, session\u001b[38;5;241m=\u001b[39m\u001b[38;5;28;01mNone\u001b[39;00m):\n\u001b[1;32m    515\u001b[0m     \u001b[38;5;66;03m# SSLSocket class handles server_hostname encoding before it calls\u001b[39;00m\n\u001b[1;32m    516\u001b[0m     \u001b[38;5;66;03m# ctx._wrap_socket()\u001b[39;00m\n\u001b[0;32m--> 517\u001b[0m     \u001b[38;5;28;01mreturn\u001b[39;00m \u001b[38;5;28;43mself\u001b[39;49m\u001b[38;5;241;43m.\u001b[39;49m\u001b[43msslsocket_class\u001b[49m\u001b[38;5;241;43m.\u001b[39;49m\u001b[43m_create\u001b[49m\u001b[43m(\u001b[49m\n\u001b[1;32m    518\u001b[0m \u001b[43m        \u001b[49m\u001b[43msock\u001b[49m\u001b[38;5;241;43m=\u001b[39;49m\u001b[43msock\u001b[49m\u001b[43m,\u001b[49m\n\u001b[1;32m    519\u001b[0m \u001b[43m        \u001b[49m\u001b[43mserver_side\u001b[49m\u001b[38;5;241;43m=\u001b[39;49m\u001b[43mserver_side\u001b[49m\u001b[43m,\u001b[49m\n\u001b[1;32m    520\u001b[0m \u001b[43m        \u001b[49m\u001b[43mdo_handshake_on_connect\u001b[49m\u001b[38;5;241;43m=\u001b[39;49m\u001b[43mdo_handshake_on_connect\u001b[49m\u001b[43m,\u001b[49m\n\u001b[1;32m    521\u001b[0m \u001b[43m        \u001b[49m\u001b[43msuppress_ragged_eofs\u001b[49m\u001b[38;5;241;43m=\u001b[39;49m\u001b[43msuppress_ragged_eofs\u001b[49m\u001b[43m,\u001b[49m\n\u001b[1;32m    522\u001b[0m \u001b[43m        \u001b[49m\u001b[43mserver_hostname\u001b[49m\u001b[38;5;241;43m=\u001b[39;49m\u001b[43mserver_hostname\u001b[49m\u001b[43m,\u001b[49m\n\u001b[1;32m    523\u001b[0m \u001b[43m        \u001b[49m\u001b[43mcontext\u001b[49m\u001b[38;5;241;43m=\u001b[39;49m\u001b[38;5;28;43mself\u001b[39;49m\u001b[43m,\u001b[49m\n\u001b[1;32m    524\u001b[0m \u001b[43m        \u001b[49m\u001b[43msession\u001b[49m\u001b[38;5;241;43m=\u001b[39;49m\u001b[43msession\u001b[49m\n\u001b[1;32m    525\u001b[0m \u001b[43m    \u001b[49m\u001b[43m)\u001b[49m\n",
      "File \u001b[0;32m/Library/Frameworks/Python.framework/Versions/3.11/lib/python3.11/ssl.py:1108\u001b[0m, in \u001b[0;36mSSLSocket._create\u001b[0;34m(cls, sock, server_side, do_handshake_on_connect, suppress_ragged_eofs, server_hostname, context, session)\u001b[0m\n\u001b[1;32m   1107\u001b[0m             \u001b[38;5;28;01mraise\u001b[39;00m \u001b[38;5;167;01mValueError\u001b[39;00m(\u001b[38;5;124m\"\u001b[39m\u001b[38;5;124mdo_handshake_on_connect should not be specified for non-blocking sockets\u001b[39m\u001b[38;5;124m\"\u001b[39m)\n\u001b[0;32m-> 1108\u001b[0m         \u001b[38;5;28;43mself\u001b[39;49m\u001b[38;5;241;43m.\u001b[39;49m\u001b[43mdo_handshake\u001b[49m\u001b[43m(\u001b[49m\u001b[43m)\u001b[49m\n\u001b[1;32m   1109\u001b[0m \u001b[38;5;28;01mexcept\u001b[39;00m (\u001b[38;5;167;01mOSError\u001b[39;00m, \u001b[38;5;167;01mValueError\u001b[39;00m):\n",
      "File \u001b[0;32m/Library/Frameworks/Python.framework/Versions/3.11/lib/python3.11/ssl.py:1383\u001b[0m, in \u001b[0;36mSSLSocket.do_handshake\u001b[0;34m(self, block)\u001b[0m\n\u001b[1;32m   1382\u001b[0m         \u001b[38;5;28mself\u001b[39m\u001b[38;5;241m.\u001b[39msettimeout(\u001b[38;5;28;01mNone\u001b[39;00m)\n\u001b[0;32m-> 1383\u001b[0m     \u001b[38;5;28;43mself\u001b[39;49m\u001b[38;5;241;43m.\u001b[39;49m\u001b[43m_sslobj\u001b[49m\u001b[38;5;241;43m.\u001b[39;49m\u001b[43mdo_handshake\u001b[49m\u001b[43m(\u001b[49m\u001b[43m)\u001b[49m\n\u001b[1;32m   1384\u001b[0m \u001b[38;5;28;01mfinally\u001b[39;00m:\n",
      "\u001b[0;31mSSLCertVerificationError\u001b[0m: [SSL: CERTIFICATE_VERIFY_FAILED] certificate verify failed: unable to get local issuer certificate (_ssl.c:1006)",
      "\nDuring handling of the above exception, another exception occurred:\n",
      "\u001b[0;31mURLError\u001b[0m                                  Traceback (most recent call last)",
      "File \u001b[0;32m~/Desktop/DS102024_/.venv/lib/python3.11/site-packages/skforecast/datasets/datasets.py:454\u001b[0m, in \u001b[0;36mfetch_dataset\u001b[0;34m(name, version, raw, kwargs_read_csv, verbose)\u001b[0m\n\u001b[1;32m    453\u001b[0m     sep \u001b[38;5;241m=\u001b[39m datasets[name][\u001b[38;5;124m'\u001b[39m\u001b[38;5;124msep\u001b[39m\u001b[38;5;124m'\u001b[39m]\n\u001b[0;32m--> 454\u001b[0m     df \u001b[38;5;241m=\u001b[39m \u001b[43mpd\u001b[49m\u001b[38;5;241;43m.\u001b[39;49m\u001b[43mread_csv\u001b[49m\u001b[43m(\u001b[49m\u001b[43murl\u001b[49m\u001b[43m,\u001b[49m\u001b[43m \u001b[49m\u001b[43msep\u001b[49m\u001b[38;5;241;43m=\u001b[39;49m\u001b[43msep\u001b[49m\u001b[43m,\u001b[49m\u001b[43m \u001b[49m\u001b[38;5;241;43m*\u001b[39;49m\u001b[38;5;241;43m*\u001b[39;49m\u001b[43mkwargs_read_csv\u001b[49m\u001b[43m)\u001b[49m\n\u001b[1;32m    455\u001b[0m \u001b[38;5;28;01mexcept\u001b[39;00m:\n",
      "File \u001b[0;32m~/Desktop/DS102024_/.venv/lib/python3.11/site-packages/pandas/io/parsers/readers.py:1026\u001b[0m, in \u001b[0;36mread_csv\u001b[0;34m(filepath_or_buffer, sep, delimiter, header, names, index_col, usecols, dtype, engine, converters, true_values, false_values, skipinitialspace, skiprows, skipfooter, nrows, na_values, keep_default_na, na_filter, verbose, skip_blank_lines, parse_dates, infer_datetime_format, keep_date_col, date_parser, date_format, dayfirst, cache_dates, iterator, chunksize, compression, thousands, decimal, lineterminator, quotechar, quoting, doublequote, escapechar, comment, encoding, encoding_errors, dialect, on_bad_lines, delim_whitespace, low_memory, memory_map, float_precision, storage_options, dtype_backend)\u001b[0m\n\u001b[1;32m   1024\u001b[0m kwds\u001b[38;5;241m.\u001b[39mupdate(kwds_defaults)\n\u001b[0;32m-> 1026\u001b[0m \u001b[38;5;28;01mreturn\u001b[39;00m \u001b[43m_read\u001b[49m\u001b[43m(\u001b[49m\u001b[43mfilepath_or_buffer\u001b[49m\u001b[43m,\u001b[49m\u001b[43m \u001b[49m\u001b[43mkwds\u001b[49m\u001b[43m)\u001b[49m\n",
      "File \u001b[0;32m~/Desktop/DS102024_/.venv/lib/python3.11/site-packages/pandas/io/parsers/readers.py:620\u001b[0m, in \u001b[0;36m_read\u001b[0;34m(filepath_or_buffer, kwds)\u001b[0m\n\u001b[1;32m    619\u001b[0m \u001b[38;5;66;03m# Create the parser.\u001b[39;00m\n\u001b[0;32m--> 620\u001b[0m parser \u001b[38;5;241m=\u001b[39m \u001b[43mTextFileReader\u001b[49m\u001b[43m(\u001b[49m\u001b[43mfilepath_or_buffer\u001b[49m\u001b[43m,\u001b[49m\u001b[43m \u001b[49m\u001b[38;5;241;43m*\u001b[39;49m\u001b[38;5;241;43m*\u001b[39;49m\u001b[43mkwds\u001b[49m\u001b[43m)\u001b[49m\n\u001b[1;32m    622\u001b[0m \u001b[38;5;28;01mif\u001b[39;00m chunksize \u001b[38;5;129;01mor\u001b[39;00m iterator:\n",
      "File \u001b[0;32m~/Desktop/DS102024_/.venv/lib/python3.11/site-packages/pandas/io/parsers/readers.py:1620\u001b[0m, in \u001b[0;36mTextFileReader.__init__\u001b[0;34m(self, f, engine, **kwds)\u001b[0m\n\u001b[1;32m   1619\u001b[0m \u001b[38;5;28mself\u001b[39m\u001b[38;5;241m.\u001b[39mhandles: IOHandles \u001b[38;5;241m|\u001b[39m \u001b[38;5;28;01mNone\u001b[39;00m \u001b[38;5;241m=\u001b[39m \u001b[38;5;28;01mNone\u001b[39;00m\n\u001b[0;32m-> 1620\u001b[0m \u001b[38;5;28mself\u001b[39m\u001b[38;5;241m.\u001b[39m_engine \u001b[38;5;241m=\u001b[39m \u001b[38;5;28;43mself\u001b[39;49m\u001b[38;5;241;43m.\u001b[39;49m\u001b[43m_make_engine\u001b[49m\u001b[43m(\u001b[49m\u001b[43mf\u001b[49m\u001b[43m,\u001b[49m\u001b[43m \u001b[49m\u001b[38;5;28;43mself\u001b[39;49m\u001b[38;5;241;43m.\u001b[39;49m\u001b[43mengine\u001b[49m\u001b[43m)\u001b[49m\n",
      "File \u001b[0;32m~/Desktop/DS102024_/.venv/lib/python3.11/site-packages/pandas/io/parsers/readers.py:1880\u001b[0m, in \u001b[0;36mTextFileReader._make_engine\u001b[0;34m(self, f, engine)\u001b[0m\n\u001b[1;32m   1879\u001b[0m         mode \u001b[38;5;241m+\u001b[39m\u001b[38;5;241m=\u001b[39m \u001b[38;5;124m\"\u001b[39m\u001b[38;5;124mb\u001b[39m\u001b[38;5;124m\"\u001b[39m\n\u001b[0;32m-> 1880\u001b[0m \u001b[38;5;28mself\u001b[39m\u001b[38;5;241m.\u001b[39mhandles \u001b[38;5;241m=\u001b[39m \u001b[43mget_handle\u001b[49m\u001b[43m(\u001b[49m\n\u001b[1;32m   1881\u001b[0m \u001b[43m    \u001b[49m\u001b[43mf\u001b[49m\u001b[43m,\u001b[49m\n\u001b[1;32m   1882\u001b[0m \u001b[43m    \u001b[49m\u001b[43mmode\u001b[49m\u001b[43m,\u001b[49m\n\u001b[1;32m   1883\u001b[0m \u001b[43m    \u001b[49m\u001b[43mencoding\u001b[49m\u001b[38;5;241;43m=\u001b[39;49m\u001b[38;5;28;43mself\u001b[39;49m\u001b[38;5;241;43m.\u001b[39;49m\u001b[43moptions\u001b[49m\u001b[38;5;241;43m.\u001b[39;49m\u001b[43mget\u001b[49m\u001b[43m(\u001b[49m\u001b[38;5;124;43m\"\u001b[39;49m\u001b[38;5;124;43mencoding\u001b[39;49m\u001b[38;5;124;43m\"\u001b[39;49m\u001b[43m,\u001b[49m\u001b[43m \u001b[49m\u001b[38;5;28;43;01mNone\u001b[39;49;00m\u001b[43m)\u001b[49m\u001b[43m,\u001b[49m\n\u001b[1;32m   1884\u001b[0m \u001b[43m    \u001b[49m\u001b[43mcompression\u001b[49m\u001b[38;5;241;43m=\u001b[39;49m\u001b[38;5;28;43mself\u001b[39;49m\u001b[38;5;241;43m.\u001b[39;49m\u001b[43moptions\u001b[49m\u001b[38;5;241;43m.\u001b[39;49m\u001b[43mget\u001b[49m\u001b[43m(\u001b[49m\u001b[38;5;124;43m\"\u001b[39;49m\u001b[38;5;124;43mcompression\u001b[39;49m\u001b[38;5;124;43m\"\u001b[39;49m\u001b[43m,\u001b[49m\u001b[43m \u001b[49m\u001b[38;5;28;43;01mNone\u001b[39;49;00m\u001b[43m)\u001b[49m\u001b[43m,\u001b[49m\n\u001b[1;32m   1885\u001b[0m \u001b[43m    \u001b[49m\u001b[43mmemory_map\u001b[49m\u001b[38;5;241;43m=\u001b[39;49m\u001b[38;5;28;43mself\u001b[39;49m\u001b[38;5;241;43m.\u001b[39;49m\u001b[43moptions\u001b[49m\u001b[38;5;241;43m.\u001b[39;49m\u001b[43mget\u001b[49m\u001b[43m(\u001b[49m\u001b[38;5;124;43m\"\u001b[39;49m\u001b[38;5;124;43mmemory_map\u001b[39;49m\u001b[38;5;124;43m\"\u001b[39;49m\u001b[43m,\u001b[49m\u001b[43m \u001b[49m\u001b[38;5;28;43;01mFalse\u001b[39;49;00m\u001b[43m)\u001b[49m\u001b[43m,\u001b[49m\n\u001b[1;32m   1886\u001b[0m \u001b[43m    \u001b[49m\u001b[43mis_text\u001b[49m\u001b[38;5;241;43m=\u001b[39;49m\u001b[43mis_text\u001b[49m\u001b[43m,\u001b[49m\n\u001b[1;32m   1887\u001b[0m \u001b[43m    \u001b[49m\u001b[43merrors\u001b[49m\u001b[38;5;241;43m=\u001b[39;49m\u001b[38;5;28;43mself\u001b[39;49m\u001b[38;5;241;43m.\u001b[39;49m\u001b[43moptions\u001b[49m\u001b[38;5;241;43m.\u001b[39;49m\u001b[43mget\u001b[49m\u001b[43m(\u001b[49m\u001b[38;5;124;43m\"\u001b[39;49m\u001b[38;5;124;43mencoding_errors\u001b[39;49m\u001b[38;5;124;43m\"\u001b[39;49m\u001b[43m,\u001b[49m\u001b[43m \u001b[49m\u001b[38;5;124;43m\"\u001b[39;49m\u001b[38;5;124;43mstrict\u001b[39;49m\u001b[38;5;124;43m\"\u001b[39;49m\u001b[43m)\u001b[49m\u001b[43m,\u001b[49m\n\u001b[1;32m   1888\u001b[0m \u001b[43m    \u001b[49m\u001b[43mstorage_options\u001b[49m\u001b[38;5;241;43m=\u001b[39;49m\u001b[38;5;28;43mself\u001b[39;49m\u001b[38;5;241;43m.\u001b[39;49m\u001b[43moptions\u001b[49m\u001b[38;5;241;43m.\u001b[39;49m\u001b[43mget\u001b[49m\u001b[43m(\u001b[49m\u001b[38;5;124;43m\"\u001b[39;49m\u001b[38;5;124;43mstorage_options\u001b[39;49m\u001b[38;5;124;43m\"\u001b[39;49m\u001b[43m,\u001b[49m\u001b[43m \u001b[49m\u001b[38;5;28;43;01mNone\u001b[39;49;00m\u001b[43m)\u001b[49m\u001b[43m,\u001b[49m\n\u001b[1;32m   1889\u001b[0m \u001b[43m\u001b[49m\u001b[43m)\u001b[49m\n\u001b[1;32m   1890\u001b[0m \u001b[38;5;28;01massert\u001b[39;00m \u001b[38;5;28mself\u001b[39m\u001b[38;5;241m.\u001b[39mhandles \u001b[38;5;129;01mis\u001b[39;00m \u001b[38;5;129;01mnot\u001b[39;00m \u001b[38;5;28;01mNone\u001b[39;00m\n",
      "File \u001b[0;32m~/Desktop/DS102024_/.venv/lib/python3.11/site-packages/pandas/io/common.py:728\u001b[0m, in \u001b[0;36mget_handle\u001b[0;34m(path_or_buf, mode, encoding, compression, memory_map, is_text, errors, storage_options)\u001b[0m\n\u001b[1;32m    727\u001b[0m \u001b[38;5;66;03m# open URLs\u001b[39;00m\n\u001b[0;32m--> 728\u001b[0m ioargs \u001b[38;5;241m=\u001b[39m \u001b[43m_get_filepath_or_buffer\u001b[49m\u001b[43m(\u001b[49m\n\u001b[1;32m    729\u001b[0m \u001b[43m    \u001b[49m\u001b[43mpath_or_buf\u001b[49m\u001b[43m,\u001b[49m\n\u001b[1;32m    730\u001b[0m \u001b[43m    \u001b[49m\u001b[43mencoding\u001b[49m\u001b[38;5;241;43m=\u001b[39;49m\u001b[43mencoding\u001b[49m\u001b[43m,\u001b[49m\n\u001b[1;32m    731\u001b[0m \u001b[43m    \u001b[49m\u001b[43mcompression\u001b[49m\u001b[38;5;241;43m=\u001b[39;49m\u001b[43mcompression\u001b[49m\u001b[43m,\u001b[49m\n\u001b[1;32m    732\u001b[0m \u001b[43m    \u001b[49m\u001b[43mmode\u001b[49m\u001b[38;5;241;43m=\u001b[39;49m\u001b[43mmode\u001b[49m\u001b[43m,\u001b[49m\n\u001b[1;32m    733\u001b[0m \u001b[43m    \u001b[49m\u001b[43mstorage_options\u001b[49m\u001b[38;5;241;43m=\u001b[39;49m\u001b[43mstorage_options\u001b[49m\u001b[43m,\u001b[49m\n\u001b[1;32m    734\u001b[0m \u001b[43m\u001b[49m\u001b[43m)\u001b[49m\n\u001b[1;32m    736\u001b[0m handle \u001b[38;5;241m=\u001b[39m ioargs\u001b[38;5;241m.\u001b[39mfilepath_or_buffer\n",
      "File \u001b[0;32m~/Desktop/DS102024_/.venv/lib/python3.11/site-packages/pandas/io/common.py:384\u001b[0m, in \u001b[0;36m_get_filepath_or_buffer\u001b[0;34m(filepath_or_buffer, encoding, compression, mode, storage_options)\u001b[0m\n\u001b[1;32m    383\u001b[0m req_info \u001b[38;5;241m=\u001b[39m urllib\u001b[38;5;241m.\u001b[39mrequest\u001b[38;5;241m.\u001b[39mRequest(filepath_or_buffer, headers\u001b[38;5;241m=\u001b[39mstorage_options)\n\u001b[0;32m--> 384\u001b[0m \u001b[38;5;28;01mwith\u001b[39;00m \u001b[43murlopen\u001b[49m\u001b[43m(\u001b[49m\u001b[43mreq_info\u001b[49m\u001b[43m)\u001b[49m \u001b[38;5;28;01mas\u001b[39;00m req:\n\u001b[1;32m    385\u001b[0m     content_encoding \u001b[38;5;241m=\u001b[39m req\u001b[38;5;241m.\u001b[39mheaders\u001b[38;5;241m.\u001b[39mget(\u001b[38;5;124m\"\u001b[39m\u001b[38;5;124mContent-Encoding\u001b[39m\u001b[38;5;124m\"\u001b[39m, \u001b[38;5;28;01mNone\u001b[39;00m)\n",
      "File \u001b[0;32m~/Desktop/DS102024_/.venv/lib/python3.11/site-packages/pandas/io/common.py:289\u001b[0m, in \u001b[0;36murlopen\u001b[0;34m(*args, **kwargs)\u001b[0m\n\u001b[1;32m    287\u001b[0m \u001b[38;5;28;01mimport\u001b[39;00m\u001b[38;5;250m \u001b[39m\u001b[38;5;21;01murllib\u001b[39;00m\u001b[38;5;21;01m.\u001b[39;00m\u001b[38;5;21;01mrequest\u001b[39;00m\n\u001b[0;32m--> 289\u001b[0m \u001b[38;5;28;01mreturn\u001b[39;00m \u001b[43murllib\u001b[49m\u001b[38;5;241;43m.\u001b[39;49m\u001b[43mrequest\u001b[49m\u001b[38;5;241;43m.\u001b[39;49m\u001b[43murlopen\u001b[49m\u001b[43m(\u001b[49m\u001b[38;5;241;43m*\u001b[39;49m\u001b[43margs\u001b[49m\u001b[43m,\u001b[49m\u001b[43m \u001b[49m\u001b[38;5;241;43m*\u001b[39;49m\u001b[38;5;241;43m*\u001b[39;49m\u001b[43mkwargs\u001b[49m\u001b[43m)\u001b[49m\n",
      "File \u001b[0;32m/Library/Frameworks/Python.framework/Versions/3.11/lib/python3.11/urllib/request.py:216\u001b[0m, in \u001b[0;36murlopen\u001b[0;34m(url, data, timeout, cafile, capath, cadefault, context)\u001b[0m\n\u001b[1;32m    215\u001b[0m     opener \u001b[38;5;241m=\u001b[39m _opener\n\u001b[0;32m--> 216\u001b[0m \u001b[38;5;28;01mreturn\u001b[39;00m \u001b[43mopener\u001b[49m\u001b[38;5;241;43m.\u001b[39;49m\u001b[43mopen\u001b[49m\u001b[43m(\u001b[49m\u001b[43murl\u001b[49m\u001b[43m,\u001b[49m\u001b[43m \u001b[49m\u001b[43mdata\u001b[49m\u001b[43m,\u001b[49m\u001b[43m \u001b[49m\u001b[43mtimeout\u001b[49m\u001b[43m)\u001b[49m\n",
      "File \u001b[0;32m/Library/Frameworks/Python.framework/Versions/3.11/lib/python3.11/urllib/request.py:519\u001b[0m, in \u001b[0;36mOpenerDirector.open\u001b[0;34m(self, fullurl, data, timeout)\u001b[0m\n\u001b[1;32m    518\u001b[0m sys\u001b[38;5;241m.\u001b[39maudit(\u001b[38;5;124m'\u001b[39m\u001b[38;5;124murllib.Request\u001b[39m\u001b[38;5;124m'\u001b[39m, req\u001b[38;5;241m.\u001b[39mfull_url, req\u001b[38;5;241m.\u001b[39mdata, req\u001b[38;5;241m.\u001b[39mheaders, req\u001b[38;5;241m.\u001b[39mget_method())\n\u001b[0;32m--> 519\u001b[0m response \u001b[38;5;241m=\u001b[39m \u001b[38;5;28;43mself\u001b[39;49m\u001b[38;5;241;43m.\u001b[39;49m\u001b[43m_open\u001b[49m\u001b[43m(\u001b[49m\u001b[43mreq\u001b[49m\u001b[43m,\u001b[49m\u001b[43m \u001b[49m\u001b[43mdata\u001b[49m\u001b[43m)\u001b[49m\n\u001b[1;32m    521\u001b[0m \u001b[38;5;66;03m# post-process response\u001b[39;00m\n",
      "File \u001b[0;32m/Library/Frameworks/Python.framework/Versions/3.11/lib/python3.11/urllib/request.py:536\u001b[0m, in \u001b[0;36mOpenerDirector._open\u001b[0;34m(self, req, data)\u001b[0m\n\u001b[1;32m    535\u001b[0m protocol \u001b[38;5;241m=\u001b[39m req\u001b[38;5;241m.\u001b[39mtype\n\u001b[0;32m--> 536\u001b[0m result \u001b[38;5;241m=\u001b[39m \u001b[38;5;28;43mself\u001b[39;49m\u001b[38;5;241;43m.\u001b[39;49m\u001b[43m_call_chain\u001b[49m\u001b[43m(\u001b[49m\u001b[38;5;28;43mself\u001b[39;49m\u001b[38;5;241;43m.\u001b[39;49m\u001b[43mhandle_open\u001b[49m\u001b[43m,\u001b[49m\u001b[43m \u001b[49m\u001b[43mprotocol\u001b[49m\u001b[43m,\u001b[49m\u001b[43m \u001b[49m\u001b[43mprotocol\u001b[49m\u001b[43m \u001b[49m\u001b[38;5;241;43m+\u001b[39;49m\n\u001b[1;32m    537\u001b[0m \u001b[43m                          \u001b[49m\u001b[38;5;124;43m'\u001b[39;49m\u001b[38;5;124;43m_open\u001b[39;49m\u001b[38;5;124;43m'\u001b[39;49m\u001b[43m,\u001b[49m\u001b[43m \u001b[49m\u001b[43mreq\u001b[49m\u001b[43m)\u001b[49m\n\u001b[1;32m    538\u001b[0m \u001b[38;5;28;01mif\u001b[39;00m result:\n",
      "File \u001b[0;32m/Library/Frameworks/Python.framework/Versions/3.11/lib/python3.11/urllib/request.py:496\u001b[0m, in \u001b[0;36mOpenerDirector._call_chain\u001b[0;34m(self, chain, kind, meth_name, *args)\u001b[0m\n\u001b[1;32m    495\u001b[0m func \u001b[38;5;241m=\u001b[39m \u001b[38;5;28mgetattr\u001b[39m(handler, meth_name)\n\u001b[0;32m--> 496\u001b[0m result \u001b[38;5;241m=\u001b[39m \u001b[43mfunc\u001b[49m\u001b[43m(\u001b[49m\u001b[38;5;241;43m*\u001b[39;49m\u001b[43margs\u001b[49m\u001b[43m)\u001b[49m\n\u001b[1;32m    497\u001b[0m \u001b[38;5;28;01mif\u001b[39;00m result \u001b[38;5;129;01mis\u001b[39;00m \u001b[38;5;129;01mnot\u001b[39;00m \u001b[38;5;28;01mNone\u001b[39;00m:\n",
      "File \u001b[0;32m/Library/Frameworks/Python.framework/Versions/3.11/lib/python3.11/urllib/request.py:1391\u001b[0m, in \u001b[0;36mHTTPSHandler.https_open\u001b[0;34m(self, req)\u001b[0m\n\u001b[1;32m   1390\u001b[0m \u001b[38;5;28;01mdef\u001b[39;00m\u001b[38;5;250m \u001b[39m\u001b[38;5;21mhttps_open\u001b[39m(\u001b[38;5;28mself\u001b[39m, req):\n\u001b[0;32m-> 1391\u001b[0m     \u001b[38;5;28;01mreturn\u001b[39;00m \u001b[38;5;28;43mself\u001b[39;49m\u001b[38;5;241;43m.\u001b[39;49m\u001b[43mdo_open\u001b[49m\u001b[43m(\u001b[49m\u001b[43mhttp\u001b[49m\u001b[38;5;241;43m.\u001b[39;49m\u001b[43mclient\u001b[49m\u001b[38;5;241;43m.\u001b[39;49m\u001b[43mHTTPSConnection\u001b[49m\u001b[43m,\u001b[49m\u001b[43m \u001b[49m\u001b[43mreq\u001b[49m\u001b[43m,\u001b[49m\n\u001b[1;32m   1392\u001b[0m \u001b[43m        \u001b[49m\u001b[43mcontext\u001b[49m\u001b[38;5;241;43m=\u001b[39;49m\u001b[38;5;28;43mself\u001b[39;49m\u001b[38;5;241;43m.\u001b[39;49m\u001b[43m_context\u001b[49m\u001b[43m,\u001b[49m\u001b[43m \u001b[49m\u001b[43mcheck_hostname\u001b[49m\u001b[38;5;241;43m=\u001b[39;49m\u001b[38;5;28;43mself\u001b[39;49m\u001b[38;5;241;43m.\u001b[39;49m\u001b[43m_check_hostname\u001b[49m\u001b[43m)\u001b[49m\n",
      "File \u001b[0;32m/Library/Frameworks/Python.framework/Versions/3.11/lib/python3.11/urllib/request.py:1351\u001b[0m, in \u001b[0;36mAbstractHTTPHandler.do_open\u001b[0;34m(self, http_class, req, **http_conn_args)\u001b[0m\n\u001b[1;32m   1350\u001b[0m \u001b[38;5;28;01mexcept\u001b[39;00m \u001b[38;5;167;01mOSError\u001b[39;00m \u001b[38;5;28;01mas\u001b[39;00m err: \u001b[38;5;66;03m# timeout error\u001b[39;00m\n\u001b[0;32m-> 1351\u001b[0m     \u001b[38;5;28;01mraise\u001b[39;00m URLError(err)\n\u001b[1;32m   1352\u001b[0m r \u001b[38;5;241m=\u001b[39m h\u001b[38;5;241m.\u001b[39mgetresponse()\n",
      "\u001b[0;31mURLError\u001b[0m: <urlopen error [SSL: CERTIFICATE_VERIFY_FAILED] certificate verify failed: unable to get local issuer certificate (_ssl.c:1006)>",
      "\nDuring handling of the above exception, another exception occurred:\n",
      "\u001b[0;31mValueError\u001b[0m                                Traceback (most recent call last)",
      "Cell \u001b[0;32mIn[5], line 3\u001b[0m\n\u001b[1;32m      1\u001b[0m \u001b[38;5;66;03m# Descarga datos\u001b[39;00m\n\u001b[1;32m      2\u001b[0m \u001b[38;5;66;03m#datos = pd.read_csv('https://raw.githubusercontent.com/skforecast/skforecast-datasets/main/data/consumos-combustibles-mensual.csv')\u001b[39;00m\n\u001b[0;32m----> 3\u001b[0m datos \u001b[38;5;241m=\u001b[39m \u001b[43mfetch_dataset\u001b[49m\u001b[43m(\u001b[49m\u001b[43mname\u001b[49m\u001b[38;5;241;43m=\u001b[39;49m\u001b[38;5;124;43m'\u001b[39;49m\u001b[38;5;124;43mfuel_consumption\u001b[39;49m\u001b[38;5;124;43m'\u001b[39;49m\u001b[43m,\u001b[49m\u001b[43m \u001b[49m\u001b[43mraw\u001b[49m\u001b[38;5;241;43m=\u001b[39;49m\u001b[38;5;28;43;01mTrue\u001b[39;49;00m\u001b[43m,\u001b[49m\u001b[43mversion\u001b[49m\u001b[38;5;241;43m=\u001b[39;49m\u001b[38;5;124;43m'\u001b[39;49m\u001b[38;5;124;43mlatest\u001b[39;49m\u001b[38;5;124;43m'\u001b[39;49m\u001b[43m)\u001b[49m\n\u001b[1;32m      4\u001b[0m datos \u001b[38;5;241m=\u001b[39m datos[[\u001b[38;5;124m'\u001b[39m\u001b[38;5;124mFecha\u001b[39m\u001b[38;5;124m'\u001b[39m, \u001b[38;5;124m'\u001b[39m\u001b[38;5;124mGasolinas\u001b[39m\u001b[38;5;124m'\u001b[39m]]\n\u001b[1;32m      5\u001b[0m datos \u001b[38;5;241m=\u001b[39m datos\u001b[38;5;241m.\u001b[39mrename(columns\u001b[38;5;241m=\u001b[39m{\u001b[38;5;124m'\u001b[39m\u001b[38;5;124mFecha\u001b[39m\u001b[38;5;124m'\u001b[39m:\u001b[38;5;124m'\u001b[39m\u001b[38;5;124mdate\u001b[39m\u001b[38;5;124m'\u001b[39m, \u001b[38;5;124m'\u001b[39m\u001b[38;5;124mGasolinas\u001b[39m\u001b[38;5;124m'\u001b[39m:\u001b[38;5;124m'\u001b[39m\u001b[38;5;124mlitters\u001b[39m\u001b[38;5;124m'\u001b[39m})\n",
      "File \u001b[0;32m~/Desktop/DS102024_/.venv/lib/python3.11/site-packages/skforecast/datasets/datasets.py:456\u001b[0m, in \u001b[0;36mfetch_dataset\u001b[0;34m(name, version, raw, kwargs_read_csv, verbose)\u001b[0m\n\u001b[1;32m    454\u001b[0m         df \u001b[38;5;241m=\u001b[39m pd\u001b[38;5;241m.\u001b[39mread_csv(url, sep\u001b[38;5;241m=\u001b[39msep, \u001b[38;5;241m*\u001b[39m\u001b[38;5;241m*\u001b[39mkwargs_read_csv)\n\u001b[1;32m    455\u001b[0m     \u001b[38;5;28;01mexcept\u001b[39;00m:\n\u001b[0;32m--> 456\u001b[0m         \u001b[38;5;28;01mraise\u001b[39;00m \u001b[38;5;167;01mValueError\u001b[39;00m(\n\u001b[1;32m    457\u001b[0m             \u001b[38;5;124mf\u001b[39m\u001b[38;5;124m\"\u001b[39m\u001b[38;5;124mError reading dataset \u001b[39m\u001b[38;5;124m'\u001b[39m\u001b[38;5;132;01m{\u001b[39;00mname\u001b[38;5;132;01m}\u001b[39;00m\u001b[38;5;124m'\u001b[39m\u001b[38;5;124m from \u001b[39m\u001b[38;5;132;01m{\u001b[39;00murl\u001b[38;5;132;01m}\u001b[39;00m\u001b[38;5;124m. Try to version = \u001b[39m\u001b[38;5;124m'\u001b[39m\u001b[38;5;124mlatest\u001b[39m\u001b[38;5;124m'\u001b[39m\u001b[38;5;124m\"\u001b[39m\n\u001b[1;32m    458\u001b[0m         )\n\u001b[1;32m    460\u001b[0m \u001b[38;5;28;01mif\u001b[39;00m url\u001b[38;5;241m.\u001b[39mendswith(\u001b[38;5;124m'\u001b[39m\u001b[38;5;124m.parquet\u001b[39m\u001b[38;5;124m'\u001b[39m):\n\u001b[1;32m    461\u001b[0m     \u001b[38;5;28;01mtry\u001b[39;00m:\n",
      "\u001b[0;31mValueError\u001b[0m: Error reading dataset 'fuel_consumption' from https://raw.githubusercontent.com/skforecast/skforecast-datasets/main/data/consumos-combustibles-mensual.csv. Try to version = 'latest'"
     ]
    }
   ],
   "source": [
    "# Descarga datos\n",
    "#datos = pd.read_csv('https://raw.githubusercontent.com/skforecast/skforecast-datasets/main/data/consumos-combustibles-mensual.csv')\n",
    "datos = fetch_dataset(name='fuel_consumption', raw=True,version='latest')\n",
    "datos = datos[['Fecha', 'Gasolinas']]\n",
    "datos = datos.rename(columns={'Fecha':'date', 'Gasolinas':'litters'})\n",
    "datos['date'] = pd.to_datetime(datos['date'], format='%Y-%m-%d')\n",
    "datos = datos.set_index('date')\n",
    "datos = datos.loc[:'1990-01-01 00:00:00']\n",
    "datos = datos.asfreq('MS')\n",
    "datos = datos['litters']\n",
    "display(datos.head())"
   ]
  },
  {
   "cell_type": "code",
   "execution_count": 7,
   "metadata": {},
   "outputs": [
    {
     "name": "stdout",
     "output_type": "stream",
     "text": [
      "Fechas train : 0 --- 198  (n=199)\n",
      "Fechas test  : 199 --- 643  (n=445)\n"
     ]
    }
   ],
   "source": [
    "# Fechas Train-test\n",
    "\n",
    "fin_train = '1980-01-01 23:59:59'\n",
    "print(\n",
    "    f\"Fechas train : {datos.index.min()} --- {datos.loc[:fin_train].index.max()}  \"\n",
    "    f\"(n={len(datos.loc[:fin_train])})\"\n",
    ")\n",
    "print(\n",
    "    f\"Fechas test  : {datos.loc[fin_train:].index.min()} --- {datos.loc[:].index.max()}  \"\n",
    "    f\"(n={len(datos.loc[fin_train:])})\"\n",
    ")\n",
    "datos_train = datos.loc[:fin_train]\n",
    "datos_test  = datos.loc[fin_train:]"
   ]
  },
  {
   "cell_type": "code",
   "execution_count": 8,
   "metadata": {},
   "outputs": [
    {
     "data": {
      "image/png": "[encoded data removed]",
      "text/plain": [
       "<Figure size 700x300 with 1 Axes>"
      ]
     },
     "metadata": {},
     "output_type": "display_data"
    }
   ],
   "source": [
    "# Gráfico\n",
    "fig, ax=plt.subplots(figsize=(7, 3))\n",
    "datos_train.plot(ax=ax, label='train')\n",
    "datos_test.plot(ax=ax, label='test')\n",
    "ax.set_title('Consumo mensual combustible España')\n",
    "ax.legend();"
   ]
  },
  {
   "cell_type": "markdown",
   "metadata": {},
   "source": [
    "## **2. Análisis Exploratorio**"
   ]
  },
  {
   "cell_type": "markdown",
   "metadata": {},
   "source": [
    "Crear un modelo ARIMA requiere un análisis exploratorio exhaustivo. Este paso crítico sirve de brújula, guiando al analista hacia una comprensión detallada de la dinámica intrínseca de los datos. Antes de entrenar un modelo ARIMA a una serie temporal, es importante realizar un análisis exploratorio para determinar, como mínimo, lo siguiente:\n",
    "\n",
    "1. Estacionariedad: Significa que las propiedades estadísticas (media, varianza...) permanecen constantes a lo largo del tiempo, por lo que las series temporales con tendencias o estacionalidad no son estacionarias. Dado que ARIMA presupone la estacionariedad de los datos, es esencial someterlos a pruebas rigurosas, como la prueba Dickey-Fuller aumentada, para evaluar que se cumple. Si se constata la no estacionariedad, las series deben diferenciarse hasta alcanzar la estacionariedad. Este análisis ayuda a determinar el valor óptimo del parámetro  d.\n",
    "\n",
    "2. Análisis de autocorrelación: Graficar las funciones de autocorrelación y autocorrelación parcial (ACF y PACF) para identificar posibles relaciones de rezago (lags) entre los valores de la serie. Este análisis visual ayuda a determinar los términos autorregresivos (AR) y de media móvil (MA) adecuados ( p y q ) para el modelo ARIMA.\n",
    "\n",
    "3. Descomposición estacional: en los casos donde se sospecha de estacionalidad, descomponer la serie en componentes de tendencia, estacionales y residuales utilizando técnicas como las medias móviles la descomposición estacional de series temporales (STL) puede revelar patrones ocultos y ayudar a identificar la estacionalidad. Este análisis ayuda a determinar los valores óptimos de los parámetros  P, D, Q y m.\n",
    "\n",
    "Estos análisis exploratorios establecen la base para empezar a construir un modelo ARIMA efectivo que capture los patrones fundamentales y las asociaciones dentro de los datos."
   ]
  },
  {
   "cell_type": "markdown",
   "metadata": {},
   "source": [
    "### **3. Estacionariedad**"
   ]
  },
  {
   "cell_type": "markdown",
   "metadata": {},
   "source": [
    "Existen varios métodos para evaluar si una serie temporal es estacionaria o no estacionaria:\n",
    "\n",
    "1. Inspección visual de la serie temporal: inspeccionando visualmente el gráfico de la serie temporal, es posible identificar la presencia de una tendencia o estacionalidad notables. Si se observan estos patrones, es probable que la serie no sea estacionaria.\n",
    "\n",
    "2. Valores estadísticos: calcular estadísticos como la media y la varianza, de varios segmentos de la serie. Si existen diferencias significativas, la serie no es estacionaria.\n",
    "\n",
    "3. Pruebas estadísticas: utilizar test estadísticos como la prueba Dickey-Fuller aumentada o la prueba Kwiatkowski-Phillips-Schmidt-Shin (KPSS).\n",
    "\n",
    "El gráfico generado en el apartado anterior muestra una clara tendencia positiva, lo que indica un aumento constante a lo largo del tiempo. En consecuencia, la media de la serie aumenta con el tiempo, lo que confirma su no estacionariedad.\n",
    "\n",
    "La diferenciación es una de las técnicas más sencillas para eliminar la tendencia de una serie temporal. Consiste en generar una nueva serie en la que cada valor se calcula como la diferencia entre el valor actual y el valor anterior, es decir, la diferencia entre valores consecutivos. Matemáticamente, la primera diferencia se calcula como:\n",
    "\n",
    "$$ΔXt=Xt−Xt−1$$\n",
    "\n",
    "Donde  $X_t$ es el valor en el tiempo $t$ y $X_t−1$ es el valor en el tiempo $t−1$. Esta es conocida como diferenciación de primer orden. Este proceso se puede repetir si es necesario hasta que se alcance la estacionariedad deseada.\n",
    "\n"
   ]
  },
  {
   "cell_type": "markdown",
   "metadata": {},
   "source": [
    "#### Prueba de Dickey-Fuller aumentada\n",
    "\n",
    "La prueba Dickey-Fuller aumentada considera como hipótesis nula que la serie temporal tiene una raíz unitaria, una característica frecuente de las series temporales no estacionarias. Por el contrario, la hipótesis alternativa (bajo la cual se rechaza la hipótesis nula) es que la serie es estacionaria.\n",
    "\n",
    "+ Hipótesis nula ( $H_O$ ): La serie tiene una raíz unitaria, no es estacionaria.\n",
    "\n",
    "+ Hipótesis alternativa ( $H_A$ ): La serie no tiene raíz unitaria, es estacionaria.\n",
    "\n",
    "Dado que la hipótesis nula supone la presencia de una raíz unitaria, el p-value obtenido debe ser inferior a un nivel de significación determinado, a menudo fijado en 0.05, para rechazar esta hipótesis. Este resultado indica la estacionariedad de la serie. La función ``adfuller()`` de la biblioteca Statsmodels permite aplicar la prueba ADF. Su resultado incluye cuatro valores: el p-value, el valor del estadístico, el número de retardos (lags) incluidos en la prueba y los umbrales del valor crítico para tres niveles diferentes de significancia."
   ]
  },
  {
   "cell_type": "markdown",
   "metadata": {},
   "source": [
    "#### Prueba Kwiatkowski-Phillips-Schmidt-Shin (KPSS).\n",
    "\n",
    "La prueba KPSS se utiliza para verificar si hay tendencia en la serie temporal. En otras palabras, evalúa si los datos muestran una tendencia en el tiempo que podría hacer que la serie sea no estacionaria.\n",
    "\n",
    " -Hipótesis nula (H0): La serie temporal es estacionaria alrededor de una tendencia determinista (es decir, que la serie no tiene tendencia).   \n",
    " -Hipótesis alternativa (H1): La serie tiene una tendencia significativa, lo que significa que no es estacionaria.\n",
    "\n",
    "¿Qué pasa con el p-value?\n",
    "\n",
    "Si el p-value es bajo (generalmente por debajo de 0.05), entonces rechazamos la hipótesis nula (H0) y concluimos que la serie tiene una tendencia no estacionaria.\n",
    "Si el p-value es alto, no tenemos suficiente evidencia para rechazar la hipótesis nula y concluimos que la serie es estacionaria o no muestra una tendencia fuerte."
   ]
  },
  {
   "cell_type": "markdown",
   "metadata": {},
   "source": [
    "**NOTA**:\n",
    "Si bien ambas pruebas se utilizan para comprobar la estacionariedad:\n",
    "\n",
    "- La prueba KPSS se centra en la presencia de tendencias. Un p-value bajo indica la no estacionariedad debida a una tendencia.\n",
    "\n",
    "- La prueba ADF se centra en la presencia de una raíz unitaria. Un p-value bajo indica que la serie temporal no tiene una raíz unitaria, lo que sugiere que podría ser estacionaria.\n",
    "\n",
    "Es habitual utilizar ambas pruebas a la vez para comprender mejor las propiedades de estacionariedad de una serie temporal."
   ]
  },
  {
   "cell_type": "code",
   "execution_count": 9,
   "metadata": {},
   "outputs": [
    {
     "ename": "TypeError",
     "evalue": "unsupported operand type(s) for -: 'str' and 'str'",
     "output_type": "error",
     "traceback": [
      "\u001b[0;31m---------------------------------------------------------------------------\u001b[0m",
      "\u001b[0;31mTypeError\u001b[0m                                 Traceback (most recent call last)",
      "Cell \u001b[0;32mIn[9], line 5\u001b[0m\n\u001b[1;32m      1\u001b[0m \u001b[38;5;66;03m# Test estacionariedad\u001b[39;00m\n\u001b[1;32m      3\u001b[0m warnings\u001b[38;5;241m.\u001b[39mfilterwarnings(\u001b[38;5;124m\"\u001b[39m\u001b[38;5;124mignore\u001b[39m\u001b[38;5;124m\"\u001b[39m)\n\u001b[0;32m----> 5\u001b[0m datos_diff_1 \u001b[38;5;241m=\u001b[39m \u001b[43mdatos_train\u001b[49m\u001b[38;5;241;43m.\u001b[39;49m\u001b[43mdiff\u001b[49m\u001b[43m(\u001b[49m\u001b[43m)\u001b[49m\u001b[38;5;241m.\u001b[39mdropna()\n\u001b[1;32m      6\u001b[0m datos_diff_2 \u001b[38;5;241m=\u001b[39m datos_diff_1\u001b[38;5;241m.\u001b[39mdiff()\u001b[38;5;241m.\u001b[39mdropna()\n\u001b[1;32m      8\u001b[0m \u001b[38;5;28mprint\u001b[39m(\u001b[38;5;124m'\u001b[39m\u001b[38;5;124mTest estacionariedad serie original\u001b[39m\u001b[38;5;124m'\u001b[39m)\n",
      "File \u001b[0;32m~/Desktop/DS102024_/.venv/lib/python3.11/site-packages/pandas/core/frame.py:10044\u001b[0m, in \u001b[0;36mDataFrame.diff\u001b[0;34m(self, periods, axis)\u001b[0m\n\u001b[1;32m  10041\u001b[0m     \u001b[38;5;66;03m# With periods=0 this is equivalent to a diff with axis=0\u001b[39;00m\n\u001b[1;32m  10042\u001b[0m     axis \u001b[38;5;241m=\u001b[39m \u001b[38;5;241m0\u001b[39m\n\u001b[0;32m> 10044\u001b[0m new_data \u001b[38;5;241m=\u001b[39m \u001b[38;5;28;43mself\u001b[39;49m\u001b[38;5;241;43m.\u001b[39;49m\u001b[43m_mgr\u001b[49m\u001b[38;5;241;43m.\u001b[39;49m\u001b[43mdiff\u001b[49m\u001b[43m(\u001b[49m\u001b[43mn\u001b[49m\u001b[38;5;241;43m=\u001b[39;49m\u001b[43mperiods\u001b[49m\u001b[43m)\u001b[49m\n\u001b[1;32m  10045\u001b[0m res_df \u001b[38;5;241m=\u001b[39m \u001b[38;5;28mself\u001b[39m\u001b[38;5;241m.\u001b[39m_constructor_from_mgr(new_data, axes\u001b[38;5;241m=\u001b[39mnew_data\u001b[38;5;241m.\u001b[39maxes)\n\u001b[1;32m  10046\u001b[0m \u001b[38;5;28;01mreturn\u001b[39;00m res_df\u001b[38;5;241m.\u001b[39m__finalize__(\u001b[38;5;28mself\u001b[39m, \u001b[38;5;124m\"\u001b[39m\u001b[38;5;124mdiff\u001b[39m\u001b[38;5;124m\"\u001b[39m)\n",
      "File \u001b[0;32m~/Desktop/DS102024_/.venv/lib/python3.11/site-packages/pandas/core/internals/managers.py:419\u001b[0m, in \u001b[0;36mBaseBlockManager.diff\u001b[0;34m(self, n)\u001b[0m\n\u001b[1;32m    417\u001b[0m \u001b[38;5;28;01mdef\u001b[39;00m\u001b[38;5;250m \u001b[39m\u001b[38;5;21mdiff\u001b[39m(\u001b[38;5;28mself\u001b[39m, n: \u001b[38;5;28mint\u001b[39m) \u001b[38;5;241m-\u001b[39m\u001b[38;5;241m>\u001b[39m Self:\n\u001b[1;32m    418\u001b[0m     \u001b[38;5;66;03m# only reached with self.ndim == 2\u001b[39;00m\n\u001b[0;32m--> 419\u001b[0m     \u001b[38;5;28;01mreturn\u001b[39;00m \u001b[38;5;28;43mself\u001b[39;49m\u001b[38;5;241;43m.\u001b[39;49m\u001b[43mapply\u001b[49m\u001b[43m(\u001b[49m\u001b[38;5;124;43m\"\u001b[39;49m\u001b[38;5;124;43mdiff\u001b[39;49m\u001b[38;5;124;43m\"\u001b[39;49m\u001b[43m,\u001b[49m\u001b[43m \u001b[49m\u001b[43mn\u001b[49m\u001b[38;5;241;43m=\u001b[39;49m\u001b[43mn\u001b[49m\u001b[43m)\u001b[49m\n",
      "File \u001b[0;32m~/Desktop/DS102024_/.venv/lib/python3.11/site-packages/pandas/core/internals/managers.py:363\u001b[0m, in \u001b[0;36mBaseBlockManager.apply\u001b[0;34m(self, f, align_keys, **kwargs)\u001b[0m\n\u001b[1;32m    361\u001b[0m         applied \u001b[38;5;241m=\u001b[39m b\u001b[38;5;241m.\u001b[39mapply(f, \u001b[38;5;241m*\u001b[39m\u001b[38;5;241m*\u001b[39mkwargs)\n\u001b[1;32m    362\u001b[0m     \u001b[38;5;28;01melse\u001b[39;00m:\n\u001b[0;32m--> 363\u001b[0m         applied \u001b[38;5;241m=\u001b[39m \u001b[38;5;28;43mgetattr\u001b[39;49m\u001b[43m(\u001b[49m\u001b[43mb\u001b[49m\u001b[43m,\u001b[49m\u001b[43m \u001b[49m\u001b[43mf\u001b[49m\u001b[43m)\u001b[49m\u001b[43m(\u001b[49m\u001b[38;5;241;43m*\u001b[39;49m\u001b[38;5;241;43m*\u001b[39;49m\u001b[43mkwargs\u001b[49m\u001b[43m)\u001b[49m\n\u001b[1;32m    364\u001b[0m     result_blocks \u001b[38;5;241m=\u001b[39m extend_blocks(applied, result_blocks)\n\u001b[1;32m    366\u001b[0m out \u001b[38;5;241m=\u001b[39m \u001b[38;5;28mtype\u001b[39m(\u001b[38;5;28mself\u001b[39m)\u001b[38;5;241m.\u001b[39mfrom_blocks(result_blocks, \u001b[38;5;28mself\u001b[39m\u001b[38;5;241m.\u001b[39maxes)\n",
      "File \u001b[0;32m~/Desktop/DS102024_/.venv/lib/python3.11/site-packages/pandas/core/internals/blocks.py:1831\u001b[0m, in \u001b[0;36mBlock.diff\u001b[0;34m(self, n)\u001b[0m\n\u001b[1;32m   1828\u001b[0m \u001b[38;5;250m\u001b[39m\u001b[38;5;124;03m\"\"\"return block for the diff of the values\"\"\"\u001b[39;00m\n\u001b[1;32m   1829\u001b[0m \u001b[38;5;66;03m# only reached with ndim == 2\u001b[39;00m\n\u001b[1;32m   1830\u001b[0m \u001b[38;5;66;03m# TODO(EA2D): transpose will be unnecessary with 2D EAs\u001b[39;00m\n\u001b[0;32m-> 1831\u001b[0m new_values \u001b[38;5;241m=\u001b[39m \u001b[43malgos\u001b[49m\u001b[38;5;241;43m.\u001b[39;49m\u001b[43mdiff\u001b[49m\u001b[43m(\u001b[49m\u001b[38;5;28;43mself\u001b[39;49m\u001b[38;5;241;43m.\u001b[39;49m\u001b[43mvalues\u001b[49m\u001b[38;5;241;43m.\u001b[39;49m\u001b[43mT\u001b[49m\u001b[43m,\u001b[49m\u001b[43m \u001b[49m\u001b[43mn\u001b[49m\u001b[43m,\u001b[49m\u001b[43m \u001b[49m\u001b[43maxis\u001b[49m\u001b[38;5;241;43m=\u001b[39;49m\u001b[38;5;241;43m0\u001b[39;49m\u001b[43m)\u001b[49m\u001b[38;5;241m.\u001b[39mT\n\u001b[1;32m   1832\u001b[0m \u001b[38;5;28;01mreturn\u001b[39;00m [\u001b[38;5;28mself\u001b[39m\u001b[38;5;241m.\u001b[39mmake_block(values\u001b[38;5;241m=\u001b[39mnew_values)]\n",
      "File \u001b[0;32m~/Desktop/DS102024_/.venv/lib/python3.11/site-packages/pandas/core/algorithms.py:1435\u001b[0m, in \u001b[0;36mdiff\u001b[0;34m(arr, n, axis)\u001b[0m\n\u001b[1;32m   1432\u001b[0m     _lag_indexer[axis] \u001b[38;5;241m=\u001b[39m \u001b[38;5;28mslice\u001b[39m(\u001b[38;5;28;01mNone\u001b[39;00m, \u001b[38;5;241m-\u001b[39mn) \u001b[38;5;28;01mif\u001b[39;00m n \u001b[38;5;241m>\u001b[39m \u001b[38;5;241m0\u001b[39m \u001b[38;5;28;01melse\u001b[39;00m \u001b[38;5;28mslice\u001b[39m(\u001b[38;5;241m-\u001b[39mn, \u001b[38;5;28;01mNone\u001b[39;00m)\n\u001b[1;32m   1433\u001b[0m     lag_indexer \u001b[38;5;241m=\u001b[39m \u001b[38;5;28mtuple\u001b[39m(_lag_indexer)\n\u001b[0;32m-> 1435\u001b[0m     out_arr[res_indexer] \u001b[38;5;241m=\u001b[39m \u001b[43mop\u001b[49m\u001b[43m(\u001b[49m\u001b[43marr\u001b[49m\u001b[43m[\u001b[49m\u001b[43mres_indexer\u001b[49m\u001b[43m]\u001b[49m\u001b[43m,\u001b[49m\u001b[43m \u001b[49m\u001b[43marr\u001b[49m\u001b[43m[\u001b[49m\u001b[43mlag_indexer\u001b[49m\u001b[43m]\u001b[49m\u001b[43m)\u001b[49m\n\u001b[1;32m   1437\u001b[0m \u001b[38;5;28;01mif\u001b[39;00m is_timedelta:\n\u001b[1;32m   1438\u001b[0m     out_arr \u001b[38;5;241m=\u001b[39m out_arr\u001b[38;5;241m.\u001b[39mview(\u001b[38;5;124m\"\u001b[39m\u001b[38;5;124mtimedelta64[ns]\u001b[39m\u001b[38;5;124m\"\u001b[39m)\n",
      "\u001b[0;31mTypeError\u001b[0m: unsupported operand type(s) for -: 'str' and 'str'"
     ]
    }
   ],
   "source": [
    "# Test estacionariedad\n",
    "\n",
    "warnings.filterwarnings(\"ignore\")\n",
    "\n",
    "datos_diff_1 = datos_train.diff().dropna()\n",
    "datos_diff_2 = datos_diff_1.diff().dropna()\n",
    "\n",
    "print('Test estacionariedad serie original')\n",
    "print('-------------------------------------')\n",
    "adfuller_result = adfuller(datos)\n",
    "kpss_result = kpss(datos)\n",
    "print(f'ADF Statistic: {adfuller_result[0]}, p-value: {adfuller_result[1]}')\n",
    "print(f'KPSS Statistic: {kpss_result[0]}, p-value: {kpss_result[1]}')\n",
    "\n",
    "print('\\nTest estacionariedad para serie diferenciada (order=1)')\n",
    "print('--------------------------------------------------')\n",
    "adfuller_result = adfuller(datos_diff_1)\n",
    "kpss_result = kpss(datos.diff().dropna())\n",
    "print(f'ADF Statistic: {adfuller_result[0]}, p-value: {adfuller_result[1]}')\n",
    "print(f'KPSS Statistic: {kpss_result[0]}, p-value: {kpss_result[1]}')\n",
    "\n",
    "print('\\nTest estacionariedad para serie diferenciada (order=2)')\n",
    "print('--------------------------------------------------')\n",
    "adfuller_result = adfuller(datos_diff_2)\n",
    "kpss_result = kpss(datos.diff().diff().dropna())\n",
    "print(f'ADF Statistic: {adfuller_result[0]}, p-value: {adfuller_result[1]}')\n",
    "print(f'KPSS Statistic: {kpss_result[0]}, p-value: {kpss_result[1]}')\n",
    "\n",
    "warnings.filterwarnings(\"default\")"
   ]
  },
  {
   "cell_type": "markdown",
   "metadata": {},
   "source": [
    "### **4. Análisis de autocorrelación**"
   ]
  },
  {
   "cell_type": "markdown",
   "metadata": {},
   "source": [
    "El gráfico de la función de autocorrelación ( Autocorrelation Function ACF) y la función de autocorrelación parcial (Partial Autocorrelation Function (PACF)) de la serie temporal proporciona información útil sobre los posibles valores adecuados de *p* y *q*. La ACF ayuda a identificar el valor de *q* (retardos en la parte de media móvil), mientras que la PACF ayuda a identificar el valor de *p* (retardos en la parte autorregresiva)."
   ]
  },
  {
   "cell_type": "markdown",
   "metadata": {},
   "source": [
    "#### Función de autocorrelación (ACF)\n",
    "\n",
    "La ACF calcula la correlación entre una serie temporal y sus valores retardados (lags). En el contexto de la modelización ARIMA, una caída brusca de la ACF después de unos pocos retardos indica que los datos tienen un orden autorregresivo finito. El retardo en el que cae la ACF proporciona una estimación del valor de *q*. Si el ACF muestra un patrón sinusoidal o sinusoidal amortiguado, sugiere la presencia de estacionalidad y requiere la consideración de órdenes estacionales además de órdenes no estacionales.\n"
   ]
  },
  {
   "cell_type": "code",
   "execution_count": null,
   "metadata": {},
   "outputs": [],
   "source": [
    "# Grafico de autocorrelación para la serie original y la serie diferenciada\n",
    "\n",
    "fig, axs = plt.subplots(nrows=2, ncols=1, figsize=(10, 8), sharex=True)\n",
    "plot_acf(datos, ax=axs[0], lags=50, alpha=0.05)\n",
    "axs[0].set_title('Autocorrelación serie original')\n",
    "plot_acf(datos_diff_1, ax=axs[1], lags=50, alpha=0.05)\n",
    "axs[1].set_title('Autocorrelación serie diferenciada (order=1)');"
   ]
  },
  {
   "cell_type": "markdown",
   "metadata": {},
   "source": [
    "\n",
    "#### Función de autocorrelación parcial (PACF)\n",
    "\n",
    "La PACF mide la correlación entre un valor retardado (lag) y el valor actual de la serie temporal, teniendo en cuenta el efecto de los retardos intermedios. En el contexto de la modelización ARIMA, si la PACF se corta bruscamente después de un determinado retardo, mientras que los valores restantes están dentro del intervalo de confianza, sugiere un modelo AR de ese orden. El desfase en el que se corta el PACF da una idea del valor de *p*."
   ]
  },
  {
   "cell_type": "code",
   "execution_count": null,
   "metadata": {},
   "outputs": [],
   "source": [
    "# Autocorrelación parcial para la serie original y la serie diferenciada\n",
    "fig, axs = plt.subplots(nrows=2, ncols=1, figsize=(10, 8), sharex=True)\n",
    "plot_pacf(datos, ax=axs[0], lags=50, alpha=0.05)\n",
    "axs[0].set_title('Autocorrelación parcial serie original')\n",
    "plot_pacf(datos_diff_1, ax=axs[1], lags=50, alpha=0.05)\n",
    "axs[1].set_title('Autoorrelación parcial serie diferenciada (order=1)');\n",
    "plt.tight_layout();"
   ]
  },
  {
   "cell_type": "markdown",
   "metadata": {},
   "source": [
    "**NOTA**:\n",
    "\n",
    "Algunas reglas generales son:\n",
    "\n",
    "- Utilizar un orden del término AR p igual al numero de *lags* que cruzan el límite de significancia en el gráfico PACF.\n",
    "\n",
    "- Utilizar un orden del término MA q igual al numero de *lags* que cruzan el límite de significancia en el gráfico ACF.\n",
    "\n",
    "- Si el ACF corta en el lag q y el PACF corta en el lag p, se recomienda empezar con un modelo ARIMA(p, d, q).\n",
    "\n",
    "- Si sólo el PACF decae después del lag p, se recomienda empezar con un modelo AR(p).\n",
    "\n",
    "- Si sólo el ACF decae después del lag q, se recomienda empezar con un modelo MA(q).\n",
    "\n",
    "Estas pautas proporcionan un punto de partida útil al seleccionar los órdenes de un modelo ARIMA y pueden ser ajustadas según las características específicas de los datos en cuestión."
   ]
  },
  {
   "cell_type": "markdown",
   "metadata": {},
   "source": [
    "Acorde a la función de autocorrelación, el valor óptimo para el parámetro *p* es 0. Sin embargo, se va a asignar un valor de 1 para proporcionar un componente autorregresivo al modelo. En cuanto al componente *q*, la función de autocorrelación parcial sugiere un valor de 1."
   ]
  },
  {
   "cell_type": "markdown",
   "metadata": {},
   "source": [
    "### **5. Descomposición de series temporales**\n",
    "\n",
    "La descomposición de series temporales consiste en descomponer la serie temporal original en sus componentes fundamentales: la tendencia, la estacionalidad y los residuos. Esta descomposición puede llevarse a cabo de manera aditiva o multiplicativa. Al combinar la descomposición de las series temporales con el análisis de la ACF y la PACF, se obtiene una descripción bastante completa con la que comprender la estructura subyacente de los datos y acotar el valor los parámetros ARIMA más apropiados."
   ]
  },
  {
   "cell_type": "code",
   "execution_count": null,
   "metadata": {},
   "outputs": [],
   "source": [
    "# Descomposición de la serie original y la serie diferenciada\n",
    "\n",
    "res_decompose = seasonal_decompose(datos, model='additive', extrapolate_trend='freq')\n",
    "\n",
    "fig, axs = plt.subplots(nrows=5, ncols=1, figsize=(9, 6), sharex=True)\n",
    "res_decompose.observed.plot(ax=axs[0])\n",
    "axs[0].set_title('Serie original', fontsize=12)\n",
    "res_decompose.trend.plot(ax=axs[1])\n",
    "axs[1].set_title('Tendencia', fontsize=12)\n",
    "res_decompose.seasonal.plot(ax=axs[2])\n",
    "axs[2].set_title('Estacionalidad', fontsize=12)\n",
    "res_decompose.resid.plot(ax=axs[3])\n",
    "axs[3].set_title('Residuos', fontsize=12)\n",
    "datos_diff_1.plot(ax=axs[4])\n",
    "axs[4].set_title('Serie_differenciada', fontsize=12)\n",
    "\n",
    "fig.suptitle('Descomposición de la serie original ', fontsize=14)\n",
    "fig.tight_layout();"
   ]
  },
  {
   "cell_type": "markdown",
   "metadata": {},
   "source": [
    "- El patrón recurrente cada 12 meses sugiere una estacionalidad anual, probablemente influenciada por factores vacacionales. \n",
    "- El gráfico de ACF respalda aún más la presencia de esta estacionalidad, ya que se observan picos significativos en los lags correspondientes a los intervalos de 12 meses, confirmando la idea de patrones recurrentes."
   ]
  },
  {
   "cell_type": "markdown",
   "metadata": {},
   "source": [
    "### **6. Conclusiones**\n",
    "\n",
    "Basandose en los resultados del análisis exploratorio, utilizar una combinación de diferenciación de primer orden y diferenciación estacional puede ser el enfoque más apropiado. La diferenciación de primer orden es efectiva para capturar las transiciones entre observaciones y resaltar las fluctuaciones a corto plazo. Al mismo tiempo, la diferenciación estacional, que abarca un período de 12 meses y representa el cambio de un año a otro, captura de manera efectiva los patrones cíclicos inherentes en los datos. Este enfoque nos permite lograr la estacionariedad necesaria para el proceso de modelado ARIMA subsiguiente."
   ]
  },
  {
   "cell_type": "markdown",
   "metadata": {},
   "source": [
    "###  **8. ForecasterSarimax**\n",
    "\n",
    "La clase ForecasterSarimax permite entrenar y validar modelos ARIMA y SARIMAX utilizando la API de skforecast. \n",
    "\n",
    "Sarimax from skforecast: una nueva envoltura de statsmodels SARIMAX que también sigue la API de sklearn. Esta implementación es muy similar a pmdarima, pero ha sido optimizada para incluir solo los elementos esenciales para skforecast, lo que resulta en mejoras significativas de velocidad.\n",
    "\n",
    "Dado que ForecasterSarimax sigue la misma API que los otros Forecasters disponibles en la librería, es muy fácil hacer una comparación robusta del rendimiento de modelos ARIMA-SARIMAX frente a otros modelos de machine learning como Random Forest or Gradient Boosting."
   ]
  },
  {
   "cell_type": "markdown",
   "metadata": {},
   "source": [
    "#### **8.1 Entrenamiento - Predicción**\n",
    "\n",
    "El proceso de entrenamiento y predicción sigue una API similar a la de scikit-learn."
   ]
  },
  {
   "cell_type": "code",
   "execution_count": null,
   "metadata": {},
   "outputs": [],
   "source": [
    "# Modelo ARIMA con ForecasterSarimax y skforecast Sarimax\n",
    "\n",
    "forecaster = ForecasterSarimax(\n",
    "                 regressor=Sarimax(order=(0, 1, 0), seasonal_order=(0, 1, 0, 12))\n",
    "             )\n",
    "forecaster.fit(y=datos_train, suppress_warnings=True)\n",
    "\n",
    "# Predicción\n",
    "predicciones = forecaster.predict(steps=len(datos_test))\n",
    "predicciones.head()"
   ]
  },
  {
   "cell_type": "markdown",
   "metadata": {},
   "source": [
    "#### **8.2 Backtesting**\n",
    "\n",
    "El siguiente ejemplo muestra el uso de backtesting para evaluar el rendimiento del modelo SARIMAX al generar predicciones para los 12 meses siguientes en un plan anual. En este contexto, se genera una previsión al final de cada mes de diciembre, prediciendo valores para los 12 meses siguientes."
   ]
  },
  {
   "cell_type": "code",
   "execution_count": null,
   "metadata": {},
   "outputs": [],
   "source": [
    "# Instanciamos de objeto forecasterSarimax\n",
    "''' A diferencia del cross-validation estándar, que puede mezclar datos de diferentes épocas, el cross-validation en \n",
    "series temporales respeta el orden temporal de los datos'''\n",
    "\n",
    "forecaster = ForecasterSarimax(\n",
    "                 regressor=Sarimax( #\n",
    "                                order=(0, 1, 0),# Estos son los hiperparámetros del modelo (p, d, q) \n",
    "                                seasonal_order=(0, 1, 0, 12),# Estos son los hiperparámetros del modelo (P, D, Q, S)\n",
    "                                maxiter=200 # Número máximo de iteraciones que el optimizador de SARIMAX puede realizar para ajustar el modelo.\n",
    "                            )\n",
    "             )\n",
    "\n",
    "#Definimos el esquema de validación cruzada con TimeSeriesFold\n",
    "\n",
    "cv = TimeSeriesFold(\n",
    "        steps              = 12,# Porque los datos son mensuales\n",
    "        initial_train_size = len(datos_train),# Tamaño inicial de los datos de entrenamiento\n",
    "        refit              = True,#Esto indica que, al final de cada iteración del backtesting, el modelo se reentrenará con los datos más recientes.\n",
    "        fixed_train_size   = False,# Este parámetro indica que el tamaño del conjunto de entrenamiento no es fijo, sino que crece con cada iteración.\n",
    ")\n",
    "\n",
    "metrica, predicciones_sarimax_f = backtesting_sarimax(\n",
    "                            forecaster            = forecaster,# Es el modelo que se usará para hacer las predicciones.\n",
    "                            y                     = datos,\n",
    "                            cv=cv,\n",
    "                            metric                = 'mean_absolute_error',\n",
    "                            n_jobs                = \"auto\",\n",
    "                            suppress_warnings_fit = True,# Esto suprime las advertencias durante el proceso de ajuste del modelo\n",
    "                            verbose               = True,# Esto permite que se muestren detalles adicionales del proceso de backtesting mientras se ejecuta\n",
    "                            show_progress         = True #Muestra una barra de progreso mientras se ejecuta el proceso de backtesting\n",
    ")\n",
    "print(f'Metrica: {metrica}' )\n",
    "print(f' predicciones: \\n {predicciones_sarimax_f.head()}')"
   ]
  },
  {
   "cell_type": "code",
   "execution_count": null,
   "metadata": {},
   "outputs": [],
   "source": [
    "rmse= root_mean_squared_error(datos_test, predicciones_sarimax_f)\n",
    "rmse"
   ]
  },
  {
   "cell_type": "code",
   "execution_count": null,
   "metadata": {},
   "outputs": [],
   "source": [
    "# Gráfico predicciones de backtesting\n",
    "fig, ax = plt.subplots(figsize=(6, 3))\n",
    "datos.loc[fin_train:].plot(ax=ax, label='test')\n",
    "predicciones_sarimax_f.plot(ax=ax)\n",
    "ax.set_title('Predicciones de backtesting con un modelo SARIMAX')\n",
    "ax.legend();"
   ]
  },
  {
   "cell_type": "markdown",
   "metadata": {},
   "source": [
    "#### **8.3 Optimización de Hiperparámetros**\n",
    "\n",
    "Cuando estamos ajustando un modelo, especialmente modelos como **ARIMA** o **SARIMAX**, tenemos varios parámetros que deben ser elegidos para que el modelo funcione correctamente. Estos parámetros se conocen como **hiperparámetros** y son **p**, **d** y **q** en el caso de ARIMA:\n",
    "\n",
    "- **p**: Orden de los términos autoregresivos (AR).\n",
    "- **d**: Número de diferenciaciones (para hacerlo estacionario).\n",
    "- **q**: Orden de los términos de la media móvil (MA).\n",
    "\n",
    "Pero, ¿cómo encontramos los mejores valores para estos hiperparámetros? **Dos enfoques comunes** pueden ayudarnos a encontrar los valores ideales: **criterios estadísticos** y **técnicas de validación**.\n",
    "\n",
    "\n",
    "\n",
    "##### a. Criterios Estadísticos\n",
    "\n",
    "Este enfoque se basa en el uso de **métricas estadísticas** como el **AIC (Criterio de Información de Akaike)** o el **BIC (Criterio de Información Bayesiano)**. Estas métricas miden cuán bien se ajusta el modelo a los datos, pero con un toque importante: **penalizan la complejidad** del modelo.\n",
    "\n",
    "- **¿Cómo funciona?**\n",
    "  - El modelo calcula la **verosimilitud** (qué tan probable es que los datos sean generados por el modelo) y luego **penaliza** los modelos más complejos.\n",
    "  - Cuanto más pequeño sea el **AIC** o el **BIC**, mejor es el modelo (en términos relativos).\n",
    "  \n",
    "- **Ventaja**: \n",
    "  - **Rápido y eficiente**, ya que no se necesita hacer predicciones sobre nuevos datos. Solo se usa el conjunto de entrenamiento para evaluar el modelo.\n",
    "  \n",
    "- **Pero ojo**: Solo nos dice si un modelo es **mejor que otro**. No garantiza que el modelo sea perfecto, por lo que aún necesitamos **validarlo**.\n",
    "\n",
    "\n",
    "##### a. Técnicas de Validación (Más Lento, Pero Más Preciso)\n",
    "\n",
    "Aquí, entran en juego las **técnicas de validación**, como el **backtesting**, que simula cómo se comportaría el modelo en el \"mundo real\". ¿Por qué es útil?\n",
    "\n",
    "- **¿Cómo funciona?**\n",
    "  - Usamos **datos históricos** para evaluar cómo el modelo predice valores futuros.\n",
    "  - Durante el backtesting, se **ajusta el modelo** a los datos de entrenamiento y luego se **evalúa su rendimiento** en datos que no se vieron durante el entrenamiento.\n",
    "\n",
    "- **Ventaja**: \n",
    "  - Este enfoque ofrece una evaluación **más robusta** y más cercana a la realidad, ya que mide cómo de bien generaliza el modelo a datos desconocidos.\n",
    "\n",
    "- **Desventaja**: \n",
    "  - **Más lento**: El modelo debe ser **reentrenado** y evaluado múltiples veces, lo que lleva más tiempo.\n"
   ]
  },
  {
   "cell_type": "markdown",
   "metadata": {},
   "source": [
    "#### **8.4 División de datos**"
   ]
  },
  {
   "cell_type": "code",
   "execution_count": null,
   "metadata": {},
   "outputs": [],
   "source": [
    "# Train-validation-test\n",
    "\n",
    "fin_train = '1976-01-01 23:59:59'\n",
    "fin_val = '1984-01-01 23:59:59'\n",
    "print(\n",
    "    f\"Fechas entrenamiento : {datos.index.min()} --- {datos.loc[:fin_train].index.max()}  \"\n",
    "    f\"(n={len(datos.loc[:fin_train])})\"\n",
    ")\n",
    "print(\n",
    "    f\"Fechas validacion    : {datos.loc[fin_train:].index.min()} --- {datos.loc[:fin_val].index.max()}  \"\n",
    "    f\"(n={len(datos.loc[fin_train:fin_val])})\"\n",
    ")\n",
    "print(\n",
    "    f\"Fechas test          : {datos.loc[fin_val:].index.min()} --- {datos.index.max()}  \"\n",
    "    f\"(n={len(datos.loc[fin_val:])})\"\n",
    ")"
   ]
  },
  {
   "cell_type": "code",
   "execution_count": null,
   "metadata": {},
   "outputs": [],
   "source": [
    "# Gráfico\n",
    "\n",
    "fig, ax = plt.subplots(figsize=(7, 3))\n",
    "datos.loc[:fin_train].plot(ax=ax, label='entrenamiento')\n",
    "datos.loc[fin_train:fin_val].plot(ax=ax, label='validación')\n",
    "datos.loc[fin_val:].plot(ax=ax, label='test')\n",
    "ax.set_title('Consumo mensual combustible España')\n",
    "ax.legend();"
   ]
  },
  {
   "cell_type": "markdown",
   "metadata": {},
   "source": [
    "La combinación de criterios estadísticos con backtesting permite optimizar los hiperparámetros rápidamente y luego validar su rendimiento real. Aunque los criterios AIC/BIC son rápidos y te ayudan a encontrar una buena configuración inicial, el backtesting te permite validar si ese conjunto de parámetros realmente funciona bien en un escenario de predicción en datos futuros.\n",
    "\n",
    "#### **8.5 Grid Search**\n",
    "\n",
    "Grid Search te ayuda a explorar diferentes combinaciones de parámetros de manera estructurada, pero siempre teniendo en cuenta la validación real con backtesting, que es más robusta y realista que sólo calcular AIC/BIC en los datos de entrenamiento."
   ]
  },
  {
   "cell_type": "code",
   "execution_count": null,
   "metadata": {},
   "outputs": [],
   "source": [
    "# Grid search basado en backtesting\n",
    "forecaster = ForecasterSarimax(\n",
    "                 regressor=Sarimax(\n",
    "                                order=(1, 1, 1), # Marcador de posición inicial sustituido en gridsearch\n",
    "                                maxiter=500\n",
    "                            )\n",
    "             )\n",
    "\n",
    "# param_grid = {\n",
    "#     'order': [(0, 1, 0), (0, 1, 1), (1, 1, 0), (1, 1, 1), (2, 1, 1)],\n",
    "#     'seasonal_order': [(0, 0, 0, 0), (0, 1, 0, 12), (1, 1, 1, 12)],\n",
    "#     'trend': [None, 'n', 'c'] #(sin tendencia, tendencia lineal o constante).\n",
    "# }\n",
    "from itertools import product\n",
    "\n",
    "# Definir los rangos de valores para p, d, q, P, D, Q, y m\n",
    "p_range = range(2)  # Ejemplo: 0, 1, 2\n",
    "d_range = range(1,2) # Ejemplo: 0, 1\n",
    "q_range = range(2)  # Ejemplo: 0, 1, 2\n",
    "P_range = range(2)  # Ejemplo: 0, 1\n",
    "D_range = range(2)  # Ejemplo: 0, 1\n",
    "Q_range = range(2)  # Ejemplo: 0, 1\n",
    "m_values = range(12,13)  # Periodo estacional (por ejemplo, mensual)\n",
    "\n",
    "# Generar todas las combinaciones posibles para order y seasonal_order\n",
    "param_grid = {\n",
    "    'order': [(p, d, q) for p, d, q in product(p_range, d_range, q_range)],\n",
    "    'seasonal_order': [(P, D, Q, m) for P, D, Q, m in product(P_range, D_range, Q_range, m_values)]\n",
    "}\n",
    "\n",
    "cv = TimeSeriesFold(\n",
    "        steps              = 12,\n",
    "        initial_train_size = len(datos_train),\n",
    "        refit              = True,\n",
    "        fixed_train_size   = False,\n",
    "    )\n",
    "\n",
    "\n",
    "resultados_grid = grid_search_sarimax(\n",
    "                        forecaster            = forecaster,\n",
    "                        y                     = datos.loc[:fin_val],\n",
    "                        param_grid            = param_grid,\n",
    "                        cv                    = cv,\n",
    "                        metric                = 'mean_absolute_error',\n",
    "                        return_best           = False,\n",
    "                        n_jobs                = 'auto',\n",
    "                        suppress_warnings_fit = True,\n",
    "                        verbose               = False,\n",
    "                        show_progress         = True\n",
    "                   )\n",
    "resultados_grid.head()"
   ]
  },
  {
   "cell_type": "markdown",
   "metadata": {},
   "source": [
    "Evaluando el modelo seleccionado por grid_search_sarimax basado en backtesting\n"
   ]
  },
  {
   "cell_type": "code",
   "execution_count": null,
   "metadata": {},
   "outputs": [],
   "source": [
    "# Predicciones de backtesting con el mejor modelo según el grid search\n",
    "\n",
    "forecaster = ForecasterSarimax(\n",
    "                 regressor=Sarimax(order=(0, 1, 1), seasonal_order=(1, 1, 1, 12), maxiter=500),\n",
    "                 \n",
    "             )\n",
    "\n",
    "cv = TimeSeriesFold(\n",
    "        steps              = 12,\n",
    "        initial_train_size    = len(datos.loc[:fin_val]),\n",
    "        refit              = True,\n",
    "        fixed_train_size   = False,\n",
    "    )\n",
    "metrica_m1, predicciones_m1 = backtesting_sarimax(\n",
    "                                forecaster            = forecaster,\n",
    "                                y                     = datos,\n",
    "                                cv=cv,\n",
    "                                metric                = 'mean_absolute_error',\n",
    "                                n_jobs                = \"auto\",\n",
    "                                suppress_warnings_fit = True,\n",
    "                                verbose               = False,\n",
    "                                show_progress         = True\n",
    "                            )"
   ]
  },
  {
   "cell_type": "code",
   "execution_count": null,
   "metadata": {},
   "outputs": [],
   "source": [
    "# Comparación de métricas\n",
    "\n",
    "print(\"Metrica (mean absolute error) del modelo grid search:\",metrica_m1)\n",
    "\n",
    "fig, ax = plt.subplots(figsize=(6, 3))\n",
    "datos.loc[fin_val:].plot(ax=ax, label='test')\n",
    "predicciones_m1 = predicciones_m1.rename(columns={'pred': 'grid search'})\n",
    "predicciones_m1.plot(ax=ax)\n",
    "ax.legend();"
   ]
  },
  {
   "cell_type": "markdown",
   "metadata": {},
   "source": [
    "La configuración SARIMAX identificada mediante la técnica de grid search (basada en backtesting con error medio absoluto) ofrece resultados ligeramente mejores."
   ]
  },
  {
   "cell_type": "markdown",
   "metadata": {},
   "source": [
    "#### **8.6 Exogenous variables**\n",
    "\n",
    "Dentro de la biblioteca statsmodels, la implementación de ARIMA-SARIMAX ofrece una valiosa característica: la posibilidad de integrar variables exógenas como factores de previsión junto a la serie temporal primaria considerada. El único requisito para incluir una variable exógena es la necesidad de conocer el valor de la variable también durante el periodo de previsión. La adición de variables exógenas se realiza utilizando el argumento exog.\n"
   ]
  },
  {
   "cell_type": "markdown",
   "metadata": {},
   "source": [
    "\n",
    "\n",
    "### **9. Predicciones con un Modelo ARIMA-SARIMAX ya entrenado**\n",
    "\n",
    "Cuando trabajamos con un modelo ARIMA (y también con SARIMAX, que es una extensión de ARIMA para manejar estacionalidad y otras variables exógenas), uno de los principales retos es cómo hacer predicciones cuando los datos futuros no siguen inmediatamente después de la última observación utilizada en el entrenamiento.\n",
    "\n",
    "En un modelo ARIMA, existe un componente clave llamado **media móvil (MA)**. Este componente utiliza los **errores de las predicciones anteriores** para realizar nuevas predicciones. Por ejemplo, para predecir el valor en el **tiempo t**, el modelo necesita saber cuál fue el **error de la predicción en t-1**. Sin embargo, si no tenemos esa predicción (porque estamos tratando de predecir en el futuro), el modelo no tiene el **error de la predicción** necesario para continuar con sus cálculos. Esto hace que, en la mayoría de los casos, sea necesario **volver a entrenar** el modelo cada vez que queremos hacer una predicción.\n",
    "\n",
    "**¿Por qué no es ideal volver a entrenar el modelo cada vez?**\n",
    "1. **Tiempo:** El proceso de entrenamiento puede ser **lento** y consumir muchos recursos, especialmente si estamos trabajando con grandes volúmenes de datos.\n",
    "2. **Recursos computacionales:** Volver a entrenar el modelo cada vez puede ser **ineficiente** si no tenemos acceso rápido o suficiente capacidad de procesamiento.\n",
    "\n",
    "### **La Solución: Alimentar al Modelo con Datos Recientes**\n",
    "\n",
    "Una solución práctica es alimentar al modelo con solo los **datos más recientes** desde el momento en que se entrenó hasta el momento de la predicción. Por ejemplo, imagina que entrenamos un modelo hace 20 días usando datos diarios de los últimos tres años. Cuando queramos hacer nuevas predicciones, solo necesitaremos **los últimos 20 días de datos**, en lugar de todos los datos históricos (que serían 365 * 3 + 20 valores). \n",
    "\n",
    "Esto **reduce el tiempo y los recursos necesarios**, pero sigue permitiendo que el modelo sea capaz de realizar predicciones precisas basadas en los últimos errores y comportamientos observados.\n",
    "\n",
    "### **Automatización con la Clase ForecasterSarimax**\n",
    "\n",
    "El proceso de integrar estos nuevos datos al modelo y hacer predicciones puede ser un poco complejo, pero la clase `ForecasterSarimax` hace todo este trabajo automáticamente. A través de su parámetro **`last_window`** en el método **`predict`**, el modelo puede tomar los datos más recientes, hacer las predicciones necesarias y ajustarse de manera eficiente sin tener que volver a entrenarse completamente.\n",
    "\n",
    "Esto significa que no tienes que preocuparte por reentrenar el modelo cada vez que quieras hacer una predicción; solo alimentas los datos más recientes y el modelo se ajusta automáticamente para hacer las predicciones."
   ]
  },
  {
   "cell_type": "code",
   "execution_count": null,
   "metadata": {},
   "outputs": [],
   "source": [
    "# División de los datos en entrenamiento y last window\n",
    "\n",
    "# Establecemos la fecha límite para los datos de entrenamiento\n",
    "fin_train = '1980-01-01 23:59:59'\n",
    "                       \n",
    "# Los datos de entrenamiento son aquellos hasta la fecha de fin_train\n",
    "print(\n",
    "    f\"Fechas entrenamiento : {datos.index.min()} --- {datos.loc[:fin_train].index.max()}  \"\n",
    "    f\"(n={len(datos.loc[:fin_train])})\"\n",
    ")\n",
    "\n",
    "# Los datos de la last window son aquellos posteriores a fin_train hasta la última fecha disponible\n",
    "print(\n",
    "    f\"Fechas Last window  : {datos.loc[fin_train:].index.min()} --- {datos.index.max()}  \"\n",
    "    f\"(n={len(datos.loc[fin_train:])})\"\n",
    ")"
   ]
  },
  {
   "cell_type": "code",
   "execution_count": null,
   "metadata": {},
   "outputs": [],
   "source": [
    "# Gráfico de los datos de entrenamiento y last window\n",
    "fig, ax = plt.subplots(figsize=(7, 3))\n",
    "datos.loc[:fin_train].plot(ax=ax, label='entrenamiento')\n",
    "datos.loc[fin_train:].plot(ax=ax, label='last window')\n",
    "ax.set_title('Consumo mensual combustible España')\n",
    "ax.legend();"
   ]
  },
  {
   "cell_type": "markdown",
   "metadata": {},
   "source": [
    "El Forecaster se entrena utilizando datos hasta el '1980-01-01' y luego utilizará la información restante como última ventana de observaciones para generar nuevas predicciones."
   ]
  },
  {
   "cell_type": "code",
   "execution_count": null,
   "metadata": {},
   "outputs": [],
   "source": [
    "# El modelo se entrena con los datos hasta la fecha fin_train y los hiperparámetros d\n",
    "# el modelo son los mismos que en el ejemplo anterior\n",
    "forecaster = ForecasterSarimax(\n",
    "                regressor = Sarimax(\n",
    "                    order          = (0, 1, 1),         # ARIMA(0,1,1): parte no estacional del modelo\n",
    "                    seasonal_order = (1, 1, 1, 12),     # SARIMA(1,1,1,12): componente estacional (12 períodos)\n",
    "                    maxiter        = 500                 # Máximo número de iteraciones para optimizar el modelo\n",
    "                )\n",
    ")\n",
    "# El modelo se ajusta (entrena) utilizando los datos hasta la fecha fin_train\n",
    "forecaster.fit(y=datos.loc[:fin_train])\n"
   ]
  },
  {
   "cell_type": "markdown",
   "metadata": {},
   "source": [
    "Se realiza la predicción utilizando la \"last window\" de datos. El modelo hace las predicciones para los siguientes 12 períodos de tiempo, usando solo los datos de la \"last window\" (los más recientes disponibles)."
   ]
  },
  {
   "cell_type": "code",
   "execution_count": null,
   "metadata": {},
   "outputs": [],
   "source": [
    "# La last window contiene los datos desde fin_train hasta la última observación\n",
    "\n",
    "predicciones = forecaster.predict(\n",
    "                  steps       = 12,\n",
    "                  last_window = datos.loc[fin_train:]\n",
    "              )\n",
    "predicciones.head()"
   ]
  },
  {
   "cell_type": "code",
   "execution_count": null,
   "metadata": {},
   "outputs": [],
   "source": [
    "# Gráfico predicciones\n",
    "\n",
    "fig, ax = plt.subplots(figsize=(7, 3))\n",
    "datos.loc[:fin_train].plot(ax=ax, label='entrenamiento')\n",
    "datos.loc[fin_train:].plot(ax=ax, label='last window')\n",
    "predicciones.plot(ax=ax, label='predicciones')\n",
    "ax.set_title('Consumo mensual combustible España')\n",
    "ax.legend();"
   ]
  }
 ],
 "metadata": {
  "kernelspec": {
   "display_name": "machine_learning_complementary-EWj8ilj5-py3.11",
   "language": "python",
   "name": "python3"
  },
  "language_info": {
   "codemirror_mode": {
    "name": "ipython",
    "version": 3
   },
   "file_extension": ".py",
   "mimetype": "text/x-python",
   "name": "python",
   "nbconvert_exporter": "python",
   "pygments_lexer": "ipython3",
   "version": "3.11.7"
  }
 },
 "nbformat": 4,
 "nbformat_minor": 2
}
